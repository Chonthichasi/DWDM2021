{
  "nbformat": 4,
  "nbformat_minor": 0,
  "metadata": {
    "colab": {
      "name": "Data_Preprocessing_(Chapter_3).ipynb",
      "provenance": [],
      "include_colab_link": true
    },
    "kernelspec": {
      "name": "python3",
      "display_name": "Python 3"
    },
    "language_info": {
      "name": "python"
    }
  },
  "cells": [
    {
      "cell_type": "markdown",
      "metadata": {
        "id": "view-in-github",
        "colab_type": "text"
      },
      "source": [
        "<a href=\"https://colab.research.google.com/github/Chonthichasi/DWDM2021/blob/main/Data_Preprocessing_(Chapter_3).ipynb\" target=\"_parent\"><img src=\"https://colab.research.google.com/assets/colab-badge.svg\" alt=\"Open In Colab\"/></a>"
      ]
    },
    {
      "cell_type": "code",
      "metadata": {
        "id": "HDXaTRug6gQO"
      },
      "source": [
        "import pandas as pd #เพราะเราจะจัดการข้อมูลกราฟ"
      ],
      "execution_count": null,
      "outputs": []
    },
    {
      "cell_type": "code",
      "metadata": {
        "colab": {
          "base_uri": "https://localhost:8080/"
        },
        "id": "N3wiyCo37_yC",
        "outputId": "ecd1961a-4e10-40fc-e7b8-ee828fbf2fb2"
      },
      "source": [
        "from google.colab import drive #ใช้เชื่อมกูเกิ้ลไดร์ฟ กดลิ๊งค์ เลือกบัญชี คัดลอก แล้วมาสี่ที่ช่องสี่เหลี่ยม แล้วกดเอนเทอร์\n",
        "drive.mount('/content/drive')"
      ],
      "execution_count": null,
      "outputs": [
        {
          "output_type": "stream",
          "text": [
            "Mounted at /content/drive\n"
          ],
          "name": "stdout"
        }
      ]
    },
    {
      "cell_type": "code",
      "metadata": {
        "id": "JwwVJB-_8PQq"
      },
      "source": [
        "import os"
      ],
      "execution_count": null,
      "outputs": []
    },
    {
      "cell_type": "code",
      "metadata": {
        "id": "mqOhuRAd8RwD"
      },
      "source": [
        "path = '/content/drive/My Drive/DWDM2021_DATA'"
      ],
      "execution_count": null,
      "outputs": []
    },
    {
      "cell_type": "code",
      "metadata": {
        "colab": {
          "base_uri": "https://localhost:8080/",
          "height": 417
        },
        "id": "zp6ktjKi8UJp",
        "outputId": "8c354b0c-4417-4e6a-b987-df27f1ba1261"
      },
      "source": [
        "data = pd.read_csv(os.path.join(path,'confirmed-cases.csv'))\n",
        "data"
      ],
      "execution_count": null,
      "outputs": [
        {
          "output_type": "execute_result",
          "data": {
            "text/html": [
              "<div>\n",
              "<style scoped>\n",
              "    .dataframe tbody tr th:only-of-type {\n",
              "        vertical-align: middle;\n",
              "    }\n",
              "\n",
              "    .dataframe tbody tr th {\n",
              "        vertical-align: top;\n",
              "    }\n",
              "\n",
              "    .dataframe thead th {\n",
              "        text-align: right;\n",
              "    }\n",
              "</style>\n",
              "<table border=\"1\" class=\"dataframe\">\n",
              "  <thead>\n",
              "    <tr style=\"text-align: right;\">\n",
              "      <th></th>\n",
              "      <th>No.</th>\n",
              "      <th>announce_date</th>\n",
              "      <th>Notified date</th>\n",
              "      <th>sex</th>\n",
              "      <th>age</th>\n",
              "      <th>Unit</th>\n",
              "      <th>nationality</th>\n",
              "      <th>province_of_isolation</th>\n",
              "      <th>risk</th>\n",
              "      <th>province_of_onset</th>\n",
              "      <th>district_of_onset</th>\n",
              "    </tr>\n",
              "  </thead>\n",
              "  <tbody>\n",
              "    <tr>\n",
              "      <th>0</th>\n",
              "      <td>1</td>\n",
              "      <td>12/1/2020</td>\n",
              "      <td>NaN</td>\n",
              "      <td>หญิง</td>\n",
              "      <td>61.0</td>\n",
              "      <td>ปี</td>\n",
              "      <td>China</td>\n",
              "      <td>กรุงเทพมหานคร</td>\n",
              "      <td>คนต่างชาติเดินทางมาจากต่างประเทศ</td>\n",
              "      <td>กรุงเทพมหานคร</td>\n",
              "      <td>NaN</td>\n",
              "    </tr>\n",
              "    <tr>\n",
              "      <th>1</th>\n",
              "      <td>2</td>\n",
              "      <td>17/1/2020</td>\n",
              "      <td>NaN</td>\n",
              "      <td>หญิง</td>\n",
              "      <td>74.0</td>\n",
              "      <td>ปี</td>\n",
              "      <td>China</td>\n",
              "      <td>กรุงเทพมหานคร</td>\n",
              "      <td>คนต่างชาติเดินทางมาจากต่างประเทศ</td>\n",
              "      <td>กรุงเทพมหานคร</td>\n",
              "      <td>NaN</td>\n",
              "    </tr>\n",
              "    <tr>\n",
              "      <th>2</th>\n",
              "      <td>3</td>\n",
              "      <td>22/1/2020</td>\n",
              "      <td>NaN</td>\n",
              "      <td>หญิง</td>\n",
              "      <td>73.0</td>\n",
              "      <td>ปี</td>\n",
              "      <td>Thailand</td>\n",
              "      <td>นครปฐม</td>\n",
              "      <td>คนต่างชาติเดินทางมาจากต่างประเทศ</td>\n",
              "      <td>นครปฐม</td>\n",
              "      <td>เมือง</td>\n",
              "    </tr>\n",
              "    <tr>\n",
              "      <th>3</th>\n",
              "      <td>4</td>\n",
              "      <td>22/1/2020</td>\n",
              "      <td>NaN</td>\n",
              "      <td>ชาย</td>\n",
              "      <td>68.0</td>\n",
              "      <td>ปี</td>\n",
              "      <td>China</td>\n",
              "      <td>กรุงเทพมหานคร</td>\n",
              "      <td>คนต่างชาติเดินทางมาจากต่างประเทศ</td>\n",
              "      <td>กรุงเทพมหานคร</td>\n",
              "      <td>NaN</td>\n",
              "    </tr>\n",
              "    <tr>\n",
              "      <th>4</th>\n",
              "      <td>5</td>\n",
              "      <td>24/1/2020</td>\n",
              "      <td>NaN</td>\n",
              "      <td>หญิง</td>\n",
              "      <td>66.0</td>\n",
              "      <td>ปี</td>\n",
              "      <td>China</td>\n",
              "      <td>นนทบุรี</td>\n",
              "      <td>คนต่างชาติเดินทางมาจากต่างประเทศ</td>\n",
              "      <td>กรุงเทพมหานคร</td>\n",
              "      <td>NaN</td>\n",
              "    </tr>\n",
              "    <tr>\n",
              "      <th>...</th>\n",
              "      <td>...</td>\n",
              "      <td>...</td>\n",
              "      <td>...</td>\n",
              "      <td>...</td>\n",
              "      <td>...</td>\n",
              "      <td>...</td>\n",
              "      <td>...</td>\n",
              "      <td>...</td>\n",
              "      <td>...</td>\n",
              "      <td>...</td>\n",
              "      <td>...</td>\n",
              "    </tr>\n",
              "    <tr>\n",
              "      <th>512617</th>\n",
              "      <td>512618</td>\n",
              "      <td>26/7/2021</td>\n",
              "      <td>25/7/2021</td>\n",
              "      <td>ชาย</td>\n",
              "      <td>NaN</td>\n",
              "      <td>NaN</td>\n",
              "      <td>NaN</td>\n",
              "      <td>ชลบุรี</td>\n",
              "      <td>ทัณฑสถาน/เรือนจำ</td>\n",
              "      <td>NaN</td>\n",
              "      <td>NaN</td>\n",
              "    </tr>\n",
              "    <tr>\n",
              "      <th>512618</th>\n",
              "      <td>512619</td>\n",
              "      <td>26/7/2021</td>\n",
              "      <td>25/7/2021</td>\n",
              "      <td>ชาย</td>\n",
              "      <td>NaN</td>\n",
              "      <td>NaN</td>\n",
              "      <td>NaN</td>\n",
              "      <td>ชลบุรี</td>\n",
              "      <td>ทัณฑสถาน/เรือนจำ</td>\n",
              "      <td>NaN</td>\n",
              "      <td>NaN</td>\n",
              "    </tr>\n",
              "    <tr>\n",
              "      <th>512619</th>\n",
              "      <td>512620</td>\n",
              "      <td>26/7/2021</td>\n",
              "      <td>25/7/2021</td>\n",
              "      <td>ชาย</td>\n",
              "      <td>NaN</td>\n",
              "      <td>NaN</td>\n",
              "      <td>NaN</td>\n",
              "      <td>ชลบุรี</td>\n",
              "      <td>ทัณฑสถาน/เรือนจำ</td>\n",
              "      <td>NaN</td>\n",
              "      <td>NaN</td>\n",
              "    </tr>\n",
              "    <tr>\n",
              "      <th>512620</th>\n",
              "      <td>512621</td>\n",
              "      <td>26/7/2021</td>\n",
              "      <td>25/7/2021</td>\n",
              "      <td>ชาย</td>\n",
              "      <td>NaN</td>\n",
              "      <td>NaN</td>\n",
              "      <td>NaN</td>\n",
              "      <td>ชลบุรี</td>\n",
              "      <td>ทัณฑสถาน/เรือนจำ</td>\n",
              "      <td>NaN</td>\n",
              "      <td>NaN</td>\n",
              "    </tr>\n",
              "    <tr>\n",
              "      <th>512621</th>\n",
              "      <td>512622</td>\n",
              "      <td>26/7/2021</td>\n",
              "      <td>25/7/2021</td>\n",
              "      <td>ชาย</td>\n",
              "      <td>NaN</td>\n",
              "      <td>NaN</td>\n",
              "      <td>NaN</td>\n",
              "      <td>ชลบุรี</td>\n",
              "      <td>ทัณฑสถาน/เรือนจำ</td>\n",
              "      <td>NaN</td>\n",
              "      <td>NaN</td>\n",
              "    </tr>\n",
              "  </tbody>\n",
              "</table>\n",
              "<p>512622 rows × 11 columns</p>\n",
              "</div>"
            ],
            "text/plain": [
              "           No. announce_date  ... province_of_onset district_of_onset\n",
              "0            1     12/1/2020  ...     กรุงเทพมหานคร               NaN\n",
              "1            2     17/1/2020  ...     กรุงเทพมหานคร               NaN\n",
              "2            3     22/1/2020  ...            นครปฐม             เมือง\n",
              "3            4     22/1/2020  ...     กรุงเทพมหานคร               NaN\n",
              "4            5     24/1/2020  ...     กรุงเทพมหานคร               NaN\n",
              "...        ...           ...  ...               ...               ...\n",
              "512617  512618     26/7/2021  ...               NaN               NaN\n",
              "512618  512619     26/7/2021  ...               NaN               NaN\n",
              "512619  512620     26/7/2021  ...               NaN               NaN\n",
              "512620  512621     26/7/2021  ...               NaN               NaN\n",
              "512621  512622     26/7/2021  ...               NaN               NaN\n",
              "\n",
              "[512622 rows x 11 columns]"
            ]
          },
          "metadata": {
            "tags": []
          },
          "execution_count": 5
        }
      ]
    },
    {
      "cell_type": "markdown",
      "metadata": {
        "id": "ttyDurqW8ZyC"
      },
      "source": [
        "ในบทที่ 3 เราจะดูข้อมูลให้ละเอียดมากกว่าบทที่สอง"
      ]
    },
    {
      "cell_type": "markdown",
      "metadata": {
        "id": "6Cti7BI0-fqu"
      },
      "source": [
        "#Meta Data คือ ดาต้าที่ใช้อธิบายดาต้า\n",
        "\n",
        "หรือก็คือ Data Dict."
      ]
    },
    {
      "cell_type": "markdown",
      "metadata": {
        "id": "Vp28VjRyAFu0"
      },
      "source": [
        "![image.png](data:image/png;base64,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)"
      ]
    },
    {
      "cell_type": "markdown",
      "metadata": {
        "id": "dgj8kl4eAM_D"
      },
      "source": [
        "## ชี้ข้อมูลในตาราง"
      ]
    },
    {
      "cell_type": "markdown",
      "metadata": {
        "id": "-FTQ-3wQBg3S"
      },
      "source": [
        "### ชี้แบบธรรมดา ใช้ [ชื่อ column][index]"
      ]
    },
    {
      "cell_type": "code",
      "metadata": {
        "colab": {
          "base_uri": "https://localhost:8080/",
          "height": 35
        },
        "id": "IKTyLszo8gDO",
        "outputId": "9a516417-2725-4d1f-c4d5-c12966f11406"
      },
      "source": [
        "data['risk'][678] #ทุกครั้งที่ชี้ให้เลือกคอลัมน์ แล้วตามด้วน index"
      ],
      "execution_count": null,
      "outputs": [
        {
          "output_type": "execute_result",
          "data": {
            "application/vnd.google.colaboratory.intrinsic+json": {
              "type": "string"
            },
            "text/plain": [
              "'สัมผัสใกล้ชิดกับผู้ป่วยยืนยันรายก่อนหน้านี้'"
            ]
          },
          "metadata": {
            "tags": []
          },
          "execution_count": 6
        }
      ]
    },
    {
      "cell_type": "code",
      "metadata": {
        "colab": {
          "base_uri": "https://localhost:8080/",
          "height": 417
        },
        "id": "fITS9AYvBF1d",
        "outputId": "13adcbac-376c-4373-c53c-a0307b55bea9"
      },
      "source": [
        "data[['age','risk','sex']] #ดึงเฉพาะคอลัมน์ที่เราต้องการ"
      ],
      "execution_count": null,
      "outputs": [
        {
          "output_type": "execute_result",
          "data": {
            "text/html": [
              "<div>\n",
              "<style scoped>\n",
              "    .dataframe tbody tr th:only-of-type {\n",
              "        vertical-align: middle;\n",
              "    }\n",
              "\n",
              "    .dataframe tbody tr th {\n",
              "        vertical-align: top;\n",
              "    }\n",
              "\n",
              "    .dataframe thead th {\n",
              "        text-align: right;\n",
              "    }\n",
              "</style>\n",
              "<table border=\"1\" class=\"dataframe\">\n",
              "  <thead>\n",
              "    <tr style=\"text-align: right;\">\n",
              "      <th></th>\n",
              "      <th>age</th>\n",
              "      <th>risk</th>\n",
              "      <th>sex</th>\n",
              "    </tr>\n",
              "  </thead>\n",
              "  <tbody>\n",
              "    <tr>\n",
              "      <th>0</th>\n",
              "      <td>61.0</td>\n",
              "      <td>คนต่างชาติเดินทางมาจากต่างประเทศ</td>\n",
              "      <td>หญิง</td>\n",
              "    </tr>\n",
              "    <tr>\n",
              "      <th>1</th>\n",
              "      <td>74.0</td>\n",
              "      <td>คนต่างชาติเดินทางมาจากต่างประเทศ</td>\n",
              "      <td>หญิง</td>\n",
              "    </tr>\n",
              "    <tr>\n",
              "      <th>2</th>\n",
              "      <td>73.0</td>\n",
              "      <td>คนต่างชาติเดินทางมาจากต่างประเทศ</td>\n",
              "      <td>หญิง</td>\n",
              "    </tr>\n",
              "    <tr>\n",
              "      <th>3</th>\n",
              "      <td>68.0</td>\n",
              "      <td>คนต่างชาติเดินทางมาจากต่างประเทศ</td>\n",
              "      <td>ชาย</td>\n",
              "    </tr>\n",
              "    <tr>\n",
              "      <th>4</th>\n",
              "      <td>66.0</td>\n",
              "      <td>คนต่างชาติเดินทางมาจากต่างประเทศ</td>\n",
              "      <td>หญิง</td>\n",
              "    </tr>\n",
              "    <tr>\n",
              "      <th>...</th>\n",
              "      <td>...</td>\n",
              "      <td>...</td>\n",
              "      <td>...</td>\n",
              "    </tr>\n",
              "    <tr>\n",
              "      <th>512617</th>\n",
              "      <td>NaN</td>\n",
              "      <td>ทัณฑสถาน/เรือนจำ</td>\n",
              "      <td>ชาย</td>\n",
              "    </tr>\n",
              "    <tr>\n",
              "      <th>512618</th>\n",
              "      <td>NaN</td>\n",
              "      <td>ทัณฑสถาน/เรือนจำ</td>\n",
              "      <td>ชาย</td>\n",
              "    </tr>\n",
              "    <tr>\n",
              "      <th>512619</th>\n",
              "      <td>NaN</td>\n",
              "      <td>ทัณฑสถาน/เรือนจำ</td>\n",
              "      <td>ชาย</td>\n",
              "    </tr>\n",
              "    <tr>\n",
              "      <th>512620</th>\n",
              "      <td>NaN</td>\n",
              "      <td>ทัณฑสถาน/เรือนจำ</td>\n",
              "      <td>ชาย</td>\n",
              "    </tr>\n",
              "    <tr>\n",
              "      <th>512621</th>\n",
              "      <td>NaN</td>\n",
              "      <td>ทัณฑสถาน/เรือนจำ</td>\n",
              "      <td>ชาย</td>\n",
              "    </tr>\n",
              "  </tbody>\n",
              "</table>\n",
              "<p>512622 rows × 3 columns</p>\n",
              "</div>"
            ],
            "text/plain": [
              "         age                              risk   sex\n",
              "0       61.0  คนต่างชาติเดินทางมาจากต่างประเทศ  หญิง\n",
              "1       74.0  คนต่างชาติเดินทางมาจากต่างประเทศ  หญิง\n",
              "2       73.0  คนต่างชาติเดินทางมาจากต่างประเทศ  หญิง\n",
              "3       68.0  คนต่างชาติเดินทางมาจากต่างประเทศ   ชาย\n",
              "4       66.0  คนต่างชาติเดินทางมาจากต่างประเทศ  หญิง\n",
              "...      ...                               ...   ...\n",
              "512617   NaN                  ทัณฑสถาน/เรือนจำ   ชาย\n",
              "512618   NaN                  ทัณฑสถาน/เรือนจำ   ชาย\n",
              "512619   NaN                  ทัณฑสถาน/เรือนจำ   ชาย\n",
              "512620   NaN                  ทัณฑสถาน/เรือนจำ   ชาย\n",
              "512621   NaN                  ทัณฑสถาน/เรือนจำ   ชาย\n",
              "\n",
              "[512622 rows x 3 columns]"
            ]
          },
          "metadata": {
            "tags": []
          },
          "execution_count": 7
        }
      ]
    },
    {
      "cell_type": "markdown",
      "metadata": {
        "id": "gMbUjVsMA62c"
      },
      "source": [
        "### ชี้แบบ .iloc[] (มองข้อมูลเป็น metrix)\n",
        "\n",
        "[แถว,หลัก]"
      ]
    },
    {
      "cell_type": "code",
      "metadata": {
        "colab": {
          "base_uri": "https://localhost:8080/",
          "height": 35
        },
        "id": "dewVlLDMB1b-",
        "outputId": "dcf1ac67-1b8d-4a5f-9b0a-65b3d64f611a"
      },
      "source": [
        "data.iloc[678,8]"
      ],
      "execution_count": null,
      "outputs": [
        {
          "output_type": "execute_result",
          "data": {
            "application/vnd.google.colaboratory.intrinsic+json": {
              "type": "string"
            },
            "text/plain": [
              "'สัมผัสใกล้ชิดกับผู้ป่วยยืนยันรายก่อนหน้านี้'"
            ]
          },
          "metadata": {
            "tags": []
          },
          "execution_count": 8
        }
      ]
    },
    {
      "cell_type": "code",
      "metadata": {
        "colab": {
          "base_uri": "https://localhost:8080/",
          "height": 357
        },
        "id": "XS830HD_CLGZ",
        "outputId": "21a32243-3470-4f79-cf7f-e29ff3dad0f4"
      },
      "source": [
        "data.iloc[-10:,4:9:2]"
      ],
      "execution_count": null,
      "outputs": [
        {
          "output_type": "execute_result",
          "data": {
            "text/html": [
              "<div>\n",
              "<style scoped>\n",
              "    .dataframe tbody tr th:only-of-type {\n",
              "        vertical-align: middle;\n",
              "    }\n",
              "\n",
              "    .dataframe tbody tr th {\n",
              "        vertical-align: top;\n",
              "    }\n",
              "\n",
              "    .dataframe thead th {\n",
              "        text-align: right;\n",
              "    }\n",
              "</style>\n",
              "<table border=\"1\" class=\"dataframe\">\n",
              "  <thead>\n",
              "    <tr style=\"text-align: right;\">\n",
              "      <th></th>\n",
              "      <th>age</th>\n",
              "      <th>nationality</th>\n",
              "      <th>risk</th>\n",
              "    </tr>\n",
              "  </thead>\n",
              "  <tbody>\n",
              "    <tr>\n",
              "      <th>512612</th>\n",
              "      <td>NaN</td>\n",
              "      <td>NaN</td>\n",
              "      <td>ทัณฑสถาน/เรือนจำ</td>\n",
              "    </tr>\n",
              "    <tr>\n",
              "      <th>512613</th>\n",
              "      <td>NaN</td>\n",
              "      <td>NaN</td>\n",
              "      <td>ทัณฑสถาน/เรือนจำ</td>\n",
              "    </tr>\n",
              "    <tr>\n",
              "      <th>512614</th>\n",
              "      <td>NaN</td>\n",
              "      <td>NaN</td>\n",
              "      <td>ทัณฑสถาน/เรือนจำ</td>\n",
              "    </tr>\n",
              "    <tr>\n",
              "      <th>512615</th>\n",
              "      <td>NaN</td>\n",
              "      <td>NaN</td>\n",
              "      <td>ทัณฑสถาน/เรือนจำ</td>\n",
              "    </tr>\n",
              "    <tr>\n",
              "      <th>512616</th>\n",
              "      <td>NaN</td>\n",
              "      <td>NaN</td>\n",
              "      <td>ทัณฑสถาน/เรือนจำ</td>\n",
              "    </tr>\n",
              "    <tr>\n",
              "      <th>512617</th>\n",
              "      <td>NaN</td>\n",
              "      <td>NaN</td>\n",
              "      <td>ทัณฑสถาน/เรือนจำ</td>\n",
              "    </tr>\n",
              "    <tr>\n",
              "      <th>512618</th>\n",
              "      <td>NaN</td>\n",
              "      <td>NaN</td>\n",
              "      <td>ทัณฑสถาน/เรือนจำ</td>\n",
              "    </tr>\n",
              "    <tr>\n",
              "      <th>512619</th>\n",
              "      <td>NaN</td>\n",
              "      <td>NaN</td>\n",
              "      <td>ทัณฑสถาน/เรือนจำ</td>\n",
              "    </tr>\n",
              "    <tr>\n",
              "      <th>512620</th>\n",
              "      <td>NaN</td>\n",
              "      <td>NaN</td>\n",
              "      <td>ทัณฑสถาน/เรือนจำ</td>\n",
              "    </tr>\n",
              "    <tr>\n",
              "      <th>512621</th>\n",
              "      <td>NaN</td>\n",
              "      <td>NaN</td>\n",
              "      <td>ทัณฑสถาน/เรือนจำ</td>\n",
              "    </tr>\n",
              "  </tbody>\n",
              "</table>\n",
              "</div>"
            ],
            "text/plain": [
              "        age nationality              risk\n",
              "512612  NaN         NaN  ทัณฑสถาน/เรือนจำ\n",
              "512613  NaN         NaN  ทัณฑสถาน/เรือนจำ\n",
              "512614  NaN         NaN  ทัณฑสถาน/เรือนจำ\n",
              "512615  NaN         NaN  ทัณฑสถาน/เรือนจำ\n",
              "512616  NaN         NaN  ทัณฑสถาน/เรือนจำ\n",
              "512617  NaN         NaN  ทัณฑสถาน/เรือนจำ\n",
              "512618  NaN         NaN  ทัณฑสถาน/เรือนจำ\n",
              "512619  NaN         NaN  ทัณฑสถาน/เรือนจำ\n",
              "512620  NaN         NaN  ทัณฑสถาน/เรือนจำ\n",
              "512621  NaN         NaN  ทัณฑสถาน/เรือนจำ"
            ]
          },
          "metadata": {
            "tags": []
          },
          "execution_count": 9
        }
      ]
    },
    {
      "cell_type": "code",
      "metadata": {
        "colab": {
          "base_uri": "https://localhost:8080/",
          "height": 357
        },
        "id": "vKWPZeNmCngz",
        "outputId": "f92640c6-c743-48df-9748-fe9b05ba0273"
      },
      "source": [
        "data.iloc[-10:,[3,4,8]]"
      ],
      "execution_count": null,
      "outputs": [
        {
          "output_type": "execute_result",
          "data": {
            "text/html": [
              "<div>\n",
              "<style scoped>\n",
              "    .dataframe tbody tr th:only-of-type {\n",
              "        vertical-align: middle;\n",
              "    }\n",
              "\n",
              "    .dataframe tbody tr th {\n",
              "        vertical-align: top;\n",
              "    }\n",
              "\n",
              "    .dataframe thead th {\n",
              "        text-align: right;\n",
              "    }\n",
              "</style>\n",
              "<table border=\"1\" class=\"dataframe\">\n",
              "  <thead>\n",
              "    <tr style=\"text-align: right;\">\n",
              "      <th></th>\n",
              "      <th>sex</th>\n",
              "      <th>age</th>\n",
              "      <th>risk</th>\n",
              "    </tr>\n",
              "  </thead>\n",
              "  <tbody>\n",
              "    <tr>\n",
              "      <th>512612</th>\n",
              "      <td>หญิง</td>\n",
              "      <td>NaN</td>\n",
              "      <td>ทัณฑสถาน/เรือนจำ</td>\n",
              "    </tr>\n",
              "    <tr>\n",
              "      <th>512613</th>\n",
              "      <td>ชาย</td>\n",
              "      <td>NaN</td>\n",
              "      <td>ทัณฑสถาน/เรือนจำ</td>\n",
              "    </tr>\n",
              "    <tr>\n",
              "      <th>512614</th>\n",
              "      <td>ชาย</td>\n",
              "      <td>NaN</td>\n",
              "      <td>ทัณฑสถาน/เรือนจำ</td>\n",
              "    </tr>\n",
              "    <tr>\n",
              "      <th>512615</th>\n",
              "      <td>ชาย</td>\n",
              "      <td>NaN</td>\n",
              "      <td>ทัณฑสถาน/เรือนจำ</td>\n",
              "    </tr>\n",
              "    <tr>\n",
              "      <th>512616</th>\n",
              "      <td>ชาย</td>\n",
              "      <td>NaN</td>\n",
              "      <td>ทัณฑสถาน/เรือนจำ</td>\n",
              "    </tr>\n",
              "    <tr>\n",
              "      <th>512617</th>\n",
              "      <td>ชาย</td>\n",
              "      <td>NaN</td>\n",
              "      <td>ทัณฑสถาน/เรือนจำ</td>\n",
              "    </tr>\n",
              "    <tr>\n",
              "      <th>512618</th>\n",
              "      <td>ชาย</td>\n",
              "      <td>NaN</td>\n",
              "      <td>ทัณฑสถาน/เรือนจำ</td>\n",
              "    </tr>\n",
              "    <tr>\n",
              "      <th>512619</th>\n",
              "      <td>ชาย</td>\n",
              "      <td>NaN</td>\n",
              "      <td>ทัณฑสถาน/เรือนจำ</td>\n",
              "    </tr>\n",
              "    <tr>\n",
              "      <th>512620</th>\n",
              "      <td>ชาย</td>\n",
              "      <td>NaN</td>\n",
              "      <td>ทัณฑสถาน/เรือนจำ</td>\n",
              "    </tr>\n",
              "    <tr>\n",
              "      <th>512621</th>\n",
              "      <td>ชาย</td>\n",
              "      <td>NaN</td>\n",
              "      <td>ทัณฑสถาน/เรือนจำ</td>\n",
              "    </tr>\n",
              "  </tbody>\n",
              "</table>\n",
              "</div>"
            ],
            "text/plain": [
              "         sex  age              risk\n",
              "512612  หญิง  NaN  ทัณฑสถาน/เรือนจำ\n",
              "512613   ชาย  NaN  ทัณฑสถาน/เรือนจำ\n",
              "512614   ชาย  NaN  ทัณฑสถาน/เรือนจำ\n",
              "512615   ชาย  NaN  ทัณฑสถาน/เรือนจำ\n",
              "512616   ชาย  NaN  ทัณฑสถาน/เรือนจำ\n",
              "512617   ชาย  NaN  ทัณฑสถาน/เรือนจำ\n",
              "512618   ชาย  NaN  ทัณฑสถาน/เรือนจำ\n",
              "512619   ชาย  NaN  ทัณฑสถาน/เรือนจำ\n",
              "512620   ชาย  NaN  ทัณฑสถาน/เรือนจำ\n",
              "512621   ชาย  NaN  ทัณฑสถาน/เรือนจำ"
            ]
          },
          "metadata": {
            "tags": []
          },
          "execution_count": 10
        }
      ]
    },
    {
      "cell_type": "markdown",
      "metadata": {
        "id": "xIe9YwysDBGa"
      },
      "source": [
        "##Missing Value\n",
        "\n",
        "*NaN = Not a Number\n",
        "\n",
        "*Null ช่องว่าง\n",
        "\n",
        "*NA = Not Available"
      ]
    },
    {
      "cell_type": "code",
      "metadata": {
        "colab": {
          "base_uri": "https://localhost:8080/"
        },
        "id": "tP4_17rSC3cn",
        "outputId": "1a0b7455-df28-4a2b-8549-034f9fa64493"
      },
      "source": [
        "data.describe()"
      ],
      "execution_count": null,
      "outputs": [
        {
          "output_type": "execute_result",
          "data": {
            "text/html": [
              "<div>\n",
              "<style scoped>\n",
              "    .dataframe tbody tr th:only-of-type {\n",
              "        vertical-align: middle;\n",
              "    }\n",
              "\n",
              "    .dataframe tbody tr th {\n",
              "        vertical-align: top;\n",
              "    }\n",
              "\n",
              "    .dataframe thead th {\n",
              "        text-align: right;\n",
              "    }\n",
              "</style>\n",
              "<table border=\"1\" class=\"dataframe\">\n",
              "  <thead>\n",
              "    <tr style=\"text-align: right;\">\n",
              "      <th></th>\n",
              "      <th>No.</th>\n",
              "      <th>age</th>\n",
              "    </tr>\n",
              "  </thead>\n",
              "  <tbody>\n",
              "    <tr>\n",
              "      <th>count</th>\n",
              "      <td>512622.000000</td>\n",
              "      <td>462839.000000</td>\n",
              "    </tr>\n",
              "    <tr>\n",
              "      <th>mean</th>\n",
              "      <td>256311.500000</td>\n",
              "      <td>35.529470</td>\n",
              "    </tr>\n",
              "    <tr>\n",
              "      <th>std</th>\n",
              "      <td>147981.369183</td>\n",
              "      <td>16.153885</td>\n",
              "    </tr>\n",
              "    <tr>\n",
              "      <th>min</th>\n",
              "      <td>1.000000</td>\n",
              "      <td>1.000000</td>\n",
              "    </tr>\n",
              "    <tr>\n",
              "      <th>25%</th>\n",
              "      <td>128156.250000</td>\n",
              "      <td>25.000000</td>\n",
              "    </tr>\n",
              "    <tr>\n",
              "      <th>50%</th>\n",
              "      <td>256311.500000</td>\n",
              "      <td>34.000000</td>\n",
              "    </tr>\n",
              "    <tr>\n",
              "      <th>75%</th>\n",
              "      <td>384466.750000</td>\n",
              "      <td>46.000000</td>\n",
              "    </tr>\n",
              "    <tr>\n",
              "      <th>max</th>\n",
              "      <td>512622.000000</td>\n",
              "      <td>108.000000</td>\n",
              "    </tr>\n",
              "  </tbody>\n",
              "</table>\n",
              "</div>"
            ],
            "text/plain": [
              "                 No.            age\n",
              "count  512622.000000  462839.000000\n",
              "mean   256311.500000      35.529470\n",
              "std    147981.369183      16.153885\n",
              "min         1.000000       1.000000\n",
              "25%    128156.250000      25.000000\n",
              "50%    256311.500000      34.000000\n",
              "75%    384466.750000      46.000000\n",
              "max    512622.000000     108.000000"
            ]
          },
          "metadata": {
            "tags": []
          },
          "execution_count": 11
        }
      ]
    },
    {
      "cell_type": "markdown",
      "metadata": {
        "id": "KqIp1UPgDaHk"
      },
      "source": [
        "จากการ เรียกดูคำอธิบายข้อมูลจะเห็นว่า\n",
        "count No. and age มีค่าไม่ตรงกัน อาจเกิดจากการไม่ได้กรอกข้อมูล"
      ]
    },
    {
      "cell_type": "code",
      "metadata": {
        "id": "85MxkbCVFJ0d"
      },
      "source": [
        "from matplotlib import pyplot as plt"
      ],
      "execution_count": null,
      "outputs": []
    },
    {
      "cell_type": "code",
      "metadata": {
        "colab": {
          "base_uri": "https://localhost:8080/"
        },
        "id": "IWk1wwhFFfoX",
        "outputId": "5f4dc95a-4420-45ab-8bbe-f59cae5dac67"
      },
      "source": [
        "plt.boxplot(data['age']) #จะเห็นว่ายังพล็อตไม่ได้ เพราะข้อมูลยังมี missing"
      ],
      "execution_count": null,
      "outputs": [
        {
          "output_type": "execute_result",
          "data": {
            "text/plain": [
              "{'boxes': [<matplotlib.lines.Line2D at 0x7f46a9e3e4d0>],\n",
              " 'caps': [<matplotlib.lines.Line2D at 0x7f46a9dc9590>,\n",
              "  <matplotlib.lines.Line2D at 0x7f46a9dc9ad0>],\n",
              " 'fliers': [<matplotlib.lines.Line2D at 0x7f46a9dd05d0>],\n",
              " 'means': [],\n",
              " 'medians': [<matplotlib.lines.Line2D at 0x7f46a9dd0090>],\n",
              " 'whiskers': [<matplotlib.lines.Line2D at 0x7f46a9e3ead0>,\n",
              "  <matplotlib.lines.Line2D at 0x7f46a9dc9050>]}"
            ]
          },
          "metadata": {
            "tags": []
          },
          "execution_count": 13
        },
        {
          "output_type": "display_data",
          "data": {
            "image/png": "[encoded data removed]",
            "text/plain": [
              "<Figure size 432x288 with 1 Axes>"
            ]
          },
          "metadata": {
            "tags": [],
            "needs_background": "light"
          }
        }
      ]
    },
    {
      "cell_type": "code",
      "metadata": {
        "colab": {
          "base_uri": "https://localhost:8080/"
        },
        "id": "vANHrCFBFzZF",
        "outputId": "7b8a42d7-93b6-44ab-dcd8-fb96f128bfb2"
      },
      "source": [
        "data.isnull() #ดูว่าข้อมูลส่วนไหนที่เป็นช่องว่างบ้าง แต่จะไม่ค่อยช่วย"
      ],
      "execution_count": null,
      "outputs": [
        {
          "output_type": "execute_result",
          "data": {
            "text/html": [
              "<div>\n",
              "<style scoped>\n",
              "    .dataframe tbody tr th:only-of-type {\n",
              "        vertical-align: middle;\n",
              "    }\n",
              "\n",
              "    .dataframe tbody tr th {\n",
              "        vertical-align: top;\n",
              "    }\n",
              "\n",
              "    .dataframe thead th {\n",
              "        text-align: right;\n",
              "    }\n",
              "</style>\n",
              "<table border=\"1\" class=\"dataframe\">\n",
              "  <thead>\n",
              "    <tr style=\"text-align: right;\">\n",
              "      <th></th>\n",
              "      <th>No.</th>\n",
              "      <th>announce_date</th>\n",
              "      <th>Notified date</th>\n",
              "      <th>sex</th>\n",
              "      <th>age</th>\n",
              "      <th>Unit</th>\n",
              "      <th>nationality</th>\n",
              "      <th>province_of_isolation</th>\n",
              "      <th>risk</th>\n",
              "      <th>province_of_onset</th>\n",
              "      <th>district_of_onset</th>\n",
              "    </tr>\n",
              "  </thead>\n",
              "  <tbody>\n",
              "    <tr>\n",
              "      <th>0</th>\n",
              "      <td>False</td>\n",
              "      <td>False</td>\n",
              "      <td>True</td>\n",
              "      <td>False</td>\n",
              "      <td>False</td>\n",
              "      <td>False</td>\n",
              "      <td>False</td>\n",
              "      <td>False</td>\n",
              "      <td>False</td>\n",
              "      <td>False</td>\n",
              "      <td>True</td>\n",
              "    </tr>\n",
              "    <tr>\n",
              "      <th>1</th>\n",
              "      <td>False</td>\n",
              "      <td>False</td>\n",
              "      <td>True</td>\n",
              "      <td>False</td>\n",
              "      <td>False</td>\n",
              "      <td>False</td>\n",
              "      <td>False</td>\n",
              "      <td>False</td>\n",
              "      <td>False</td>\n",
              "      <td>False</td>\n",
              "      <td>True</td>\n",
              "    </tr>\n",
              "    <tr>\n",
              "      <th>2</th>\n",
              "      <td>False</td>\n",
              "      <td>False</td>\n",
              "      <td>True</td>\n",
              "      <td>False</td>\n",
              "      <td>False</td>\n",
              "      <td>False</td>\n",
              "      <td>False</td>\n",
              "      <td>False</td>\n",
              "      <td>False</td>\n",
              "      <td>False</td>\n",
              "      <td>False</td>\n",
              "    </tr>\n",
              "    <tr>\n",
              "      <th>3</th>\n",
              "      <td>False</td>\n",
              "      <td>False</td>\n",
              "      <td>True</td>\n",
              "      <td>False</td>\n",
              "      <td>False</td>\n",
              "      <td>False</td>\n",
              "      <td>False</td>\n",
              "      <td>False</td>\n",
              "      <td>False</td>\n",
              "      <td>False</td>\n",
              "      <td>True</td>\n",
              "    </tr>\n",
              "    <tr>\n",
              "      <th>4</th>\n",
              "      <td>False</td>\n",
              "      <td>False</td>\n",
              "      <td>True</td>\n",
              "      <td>False</td>\n",
              "      <td>False</td>\n",
              "      <td>False</td>\n",
              "      <td>False</td>\n",
              "      <td>False</td>\n",
              "      <td>False</td>\n",
              "      <td>False</td>\n",
              "      <td>True</td>\n",
              "    </tr>\n",
              "    <tr>\n",
              "      <th>...</th>\n",
              "      <td>...</td>\n",
              "      <td>...</td>\n",
              "      <td>...</td>\n",
              "      <td>...</td>\n",
              "      <td>...</td>\n",
              "      <td>...</td>\n",
              "      <td>...</td>\n",
              "      <td>...</td>\n",
              "      <td>...</td>\n",
              "      <td>...</td>\n",
              "      <td>...</td>\n",
              "    </tr>\n",
              "    <tr>\n",
              "      <th>512617</th>\n",
              "      <td>False</td>\n",
              "      <td>False</td>\n",
              "      <td>False</td>\n",
              "      <td>False</td>\n",
              "      <td>True</td>\n",
              "      <td>True</td>\n",
              "      <td>True</td>\n",
              "      <td>False</td>\n",
              "      <td>False</td>\n",
              "      <td>True</td>\n",
              "      <td>True</td>\n",
              "    </tr>\n",
              "    <tr>\n",
              "      <th>512618</th>\n",
              "      <td>False</td>\n",
              "      <td>False</td>\n",
              "      <td>False</td>\n",
              "      <td>False</td>\n",
              "      <td>True</td>\n",
              "      <td>True</td>\n",
              "      <td>True</td>\n",
              "      <td>False</td>\n",
              "      <td>False</td>\n",
              "      <td>True</td>\n",
              "      <td>True</td>\n",
              "    </tr>\n",
              "    <tr>\n",
              "      <th>512619</th>\n",
              "      <td>False</td>\n",
              "      <td>False</td>\n",
              "      <td>False</td>\n",
              "      <td>False</td>\n",
              "      <td>True</td>\n",
              "      <td>True</td>\n",
              "      <td>True</td>\n",
              "      <td>False</td>\n",
              "      <td>False</td>\n",
              "      <td>True</td>\n",
              "      <td>True</td>\n",
              "    </tr>\n",
              "    <tr>\n",
              "      <th>512620</th>\n",
              "      <td>False</td>\n",
              "      <td>False</td>\n",
              "      <td>False</td>\n",
              "      <td>False</td>\n",
              "      <td>True</td>\n",
              "      <td>True</td>\n",
              "      <td>True</td>\n",
              "      <td>False</td>\n",
              "      <td>False</td>\n",
              "      <td>True</td>\n",
              "      <td>True</td>\n",
              "    </tr>\n",
              "    <tr>\n",
              "      <th>512621</th>\n",
              "      <td>False</td>\n",
              "      <td>False</td>\n",
              "      <td>False</td>\n",
              "      <td>False</td>\n",
              "      <td>True</td>\n",
              "      <td>True</td>\n",
              "      <td>True</td>\n",
              "      <td>False</td>\n",
              "      <td>False</td>\n",
              "      <td>True</td>\n",
              "      <td>True</td>\n",
              "    </tr>\n",
              "  </tbody>\n",
              "</table>\n",
              "<p>512622 rows × 11 columns</p>\n",
              "</div>"
            ],
            "text/plain": [
              "          No.  announce_date  ...  province_of_onset  district_of_onset\n",
              "0       False          False  ...              False               True\n",
              "1       False          False  ...              False               True\n",
              "2       False          False  ...              False              False\n",
              "3       False          False  ...              False               True\n",
              "4       False          False  ...              False               True\n",
              "...       ...            ...  ...                ...                ...\n",
              "512617  False          False  ...               True               True\n",
              "512618  False          False  ...               True               True\n",
              "512619  False          False  ...               True               True\n",
              "512620  False          False  ...               True               True\n",
              "512621  False          False  ...               True               True\n",
              "\n",
              "[512622 rows x 11 columns]"
            ]
          },
          "metadata": {
            "tags": []
          },
          "execution_count": 14
        }
      ]
    },
    {
      "cell_type": "code",
      "metadata": {
        "colab": {
          "base_uri": "https://localhost:8080/"
        },
        "id": "wj4gCACWGdU7",
        "outputId": "629edc0e-b63c-4c0b-fe8d-8b02a42f8a6a"
      },
      "source": [
        "data.isnull().any() #ดูให้ละเอียดมากขึ้นต้องเพิ่ม .any()"
      ],
      "execution_count": null,
      "outputs": [
        {
          "output_type": "execute_result",
          "data": {
            "text/plain": [
              "No.                      False\n",
              "announce_date            False\n",
              "Notified date             True\n",
              "sex                       True\n",
              "age                       True\n",
              "Unit                      True\n",
              "nationality               True\n",
              "province_of_isolation     True\n",
              "risk                      True\n",
              "province_of_onset         True\n",
              "district_of_onset         True\n",
              "dtype: bool"
            ]
          },
          "metadata": {
            "tags": []
          },
          "execution_count": 15
        }
      ]
    },
    {
      "cell_type": "markdown",
      "metadata": {
        "id": "6cDlw_Z8Gpp3"
      },
      "source": [
        "##วิธีกำจัด Missing\n",
        "\n",
        "###Handle Missing Value 1 (ลบค่า Missing) เป็นวิธีง่านสุด"
      ]
    },
    {
      "cell_type": "code",
      "metadata": {
        "colab": {
          "base_uri": "https://localhost:8080/"
        },
        "id": "ON7DXZT3Hv9G",
        "outputId": "937cae59-aac7-432d-b170-d707162d8e1a"
      },
      "source": [
        "plt.boxplot(data['age'].dropna())"
      ],
      "execution_count": null,
      "outputs": [
        {
          "output_type": "execute_result",
          "data": {
            "text/plain": [
              "{'boxes': [<matplotlib.lines.Line2D at 0x7f46a991a410>],\n",
              " 'caps': [<matplotlib.lines.Line2D at 0x7f46a9920490>,\n",
              "  <matplotlib.lines.Line2D at 0x7f46a99209d0>],\n",
              " 'fliers': [<matplotlib.lines.Line2D at 0x7f46a99284d0>],\n",
              " 'means': [],\n",
              " 'medians': [<matplotlib.lines.Line2D at 0x7f46a9920f50>],\n",
              " 'whiskers': [<matplotlib.lines.Line2D at 0x7f46a991a9d0>,\n",
              "  <matplotlib.lines.Line2D at 0x7f46a991af10>]}"
            ]
          },
          "metadata": {
            "tags": []
          },
          "execution_count": 16
        },
        {
          "output_type": "display_data",
          "data": {
            "image/png": "[encoded data removed]",
            "text/plain": [
              "<Figure size 432x288 with 1 Axes>"
            ]
          },
          "metadata": {
            "tags": [],
            "needs_background": "light"
          }
        }
      ]
    },
    {
      "cell_type": "code",
      "metadata": {
        "colab": {
          "base_uri": "https://localhost:8080/"
        },
        "id": "xwrxbftrICId",
        "outputId": "bc2bba42-7fbb-49e8-9f34-aa77cff9ec77"
      },
      "source": [
        "data.dropna()"
      ],
      "execution_count": null,
      "outputs": [
        {
          "output_type": "execute_result",
          "data": {
            "text/html": [
              "<div>\n",
              "<style scoped>\n",
              "    .dataframe tbody tr th:only-of-type {\n",
              "        vertical-align: middle;\n",
              "    }\n",
              "\n",
              "    .dataframe tbody tr th {\n",
              "        vertical-align: top;\n",
              "    }\n",
              "\n",
              "    .dataframe thead th {\n",
              "        text-align: right;\n",
              "    }\n",
              "</style>\n",
              "<table border=\"1\" class=\"dataframe\">\n",
              "  <thead>\n",
              "    <tr style=\"text-align: right;\">\n",
              "      <th></th>\n",
              "      <th>No.</th>\n",
              "      <th>announce_date</th>\n",
              "      <th>Notified date</th>\n",
              "      <th>sex</th>\n",
              "      <th>age</th>\n",
              "      <th>Unit</th>\n",
              "      <th>nationality</th>\n",
              "      <th>province_of_isolation</th>\n",
              "      <th>risk</th>\n",
              "      <th>province_of_onset</th>\n",
              "      <th>district_of_onset</th>\n",
              "    </tr>\n",
              "  </thead>\n",
              "  <tbody>\n",
              "    <tr>\n",
              "      <th>47</th>\n",
              "      <td>48</td>\n",
              "      <td>6/3/2020</td>\n",
              "      <td>4/3/2020</td>\n",
              "      <td>ชาย</td>\n",
              "      <td>43.0</td>\n",
              "      <td>ปี</td>\n",
              "      <td>United Kingdom</td>\n",
              "      <td>กรุงเทพมหานคร</td>\n",
              "      <td>คนต่างชาติเดินทางมาจากต่างประเทศ</td>\n",
              "      <td>กรุงเทพมหานคร</td>\n",
              "      <td>คลองตัน</td>\n",
              "    </tr>\n",
              "    <tr>\n",
              "      <th>124</th>\n",
              "      <td>125</td>\n",
              "      <td>6/3/2021</td>\n",
              "      <td>5/3/2021</td>\n",
              "      <td>หญิง</td>\n",
              "      <td>55.0</td>\n",
              "      <td>ปี</td>\n",
              "      <td>Thailand</td>\n",
              "      <td>ปทุมธานี</td>\n",
              "      <td>Cluster ตลาดพรพัฒน์</td>\n",
              "      <td>ปทุมธานี</td>\n",
              "      <td>ธัญบุรี</td>\n",
              "    </tr>\n",
              "    <tr>\n",
              "      <th>161</th>\n",
              "      <td>162</td>\n",
              "      <td>17/3/2020</td>\n",
              "      <td>21/3/2020</td>\n",
              "      <td>ชาย</td>\n",
              "      <td>14.0</td>\n",
              "      <td>ปี</td>\n",
              "      <td>Thailand</td>\n",
              "      <td>สุราษฎร์ธานี</td>\n",
              "      <td>สัมผัสใกล้ชิดกับผู้ป่วยยืนยันรายก่อนหน้านี้</td>\n",
              "      <td>สุราษฎร์ธานี</td>\n",
              "      <td>เมือง</td>\n",
              "    </tr>\n",
              "    <tr>\n",
              "      <th>181</th>\n",
              "      <td>182</td>\n",
              "      <td>18/3/2020</td>\n",
              "      <td>15/3/2020</td>\n",
              "      <td>ชาย</td>\n",
              "      <td>33.0</td>\n",
              "      <td>ปี</td>\n",
              "      <td>Thailand</td>\n",
              "      <td>ขอนแก่น</td>\n",
              "      <td>สนามมวย</td>\n",
              "      <td>ขอนแก่น</td>\n",
              "      <td>เมือง</td>\n",
              "    </tr>\n",
              "    <tr>\n",
              "      <th>186</th>\n",
              "      <td>187</td>\n",
              "      <td>18/3/2020</td>\n",
              "      <td>16/3/2020</td>\n",
              "      <td>ชาย</td>\n",
              "      <td>36.0</td>\n",
              "      <td>ปี</td>\n",
              "      <td>Thailand</td>\n",
              "      <td>ร้อยเอ็ด</td>\n",
              "      <td>สนามมวย</td>\n",
              "      <td>ร้อยเอ็ด</td>\n",
              "      <td>เชียงขวัญ</td>\n",
              "    </tr>\n",
              "    <tr>\n",
              "      <th>...</th>\n",
              "      <td>...</td>\n",
              "      <td>...</td>\n",
              "      <td>...</td>\n",
              "      <td>...</td>\n",
              "      <td>...</td>\n",
              "      <td>...</td>\n",
              "      <td>...</td>\n",
              "      <td>...</td>\n",
              "      <td>...</td>\n",
              "      <td>...</td>\n",
              "      <td>...</td>\n",
              "    </tr>\n",
              "    <tr>\n",
              "      <th>511575</th>\n",
              "      <td>511576</td>\n",
              "      <td>26/7/2021</td>\n",
              "      <td>25/7/2021</td>\n",
              "      <td>ชาย</td>\n",
              "      <td>50.0</td>\n",
              "      <td>ปี</td>\n",
              "      <td>Thailand</td>\n",
              "      <td>กรุงเทพมหานคร</td>\n",
              "      <td>การค้นหาผู้ป่วยเชิงรุกและค้นหาผู้ติดเชื้อในชุมชน</td>\n",
              "      <td>กรุงเทพมหานคร</td>\n",
              "      <td>มีนบุรี</td>\n",
              "    </tr>\n",
              "    <tr>\n",
              "      <th>511577</th>\n",
              "      <td>511578</td>\n",
              "      <td>26/7/2021</td>\n",
              "      <td>25/7/2021</td>\n",
              "      <td>หญิง</td>\n",
              "      <td>42.0</td>\n",
              "      <td>ปี</td>\n",
              "      <td>Thailand</td>\n",
              "      <td>กรุงเทพมหานคร</td>\n",
              "      <td>การค้นหาผู้ป่วยเชิงรุกและค้นหาผู้ติดเชื้อในชุมชน</td>\n",
              "      <td>กรุงเทพมหานคร</td>\n",
              "      <td>บางบอน</td>\n",
              "    </tr>\n",
              "    <tr>\n",
              "      <th>511578</th>\n",
              "      <td>511579</td>\n",
              "      <td>26/7/2021</td>\n",
              "      <td>25/7/2021</td>\n",
              "      <td>ชาย</td>\n",
              "      <td>32.0</td>\n",
              "      <td>ปี</td>\n",
              "      <td>Thailand</td>\n",
              "      <td>กรุงเทพมหานคร</td>\n",
              "      <td>การค้นหาผู้ป่วยเชิงรุกและค้นหาผู้ติดเชื้อในชุมชน</td>\n",
              "      <td>กรุงเทพมหานคร</td>\n",
              "      <td>ทุ่งครุ</td>\n",
              "    </tr>\n",
              "    <tr>\n",
              "      <th>511579</th>\n",
              "      <td>511580</td>\n",
              "      <td>26/7/2021</td>\n",
              "      <td>25/7/2021</td>\n",
              "      <td>ชาย</td>\n",
              "      <td>37.0</td>\n",
              "      <td>ปี</td>\n",
              "      <td>Thailand</td>\n",
              "      <td>กรุงเทพมหานคร</td>\n",
              "      <td>การค้นหาผู้ป่วยเชิงรุกและค้นหาผู้ติดเชื้อในชุมชน</td>\n",
              "      <td>กรุงเทพมหานคร</td>\n",
              "      <td>พญาไท</td>\n",
              "    </tr>\n",
              "    <tr>\n",
              "      <th>511580</th>\n",
              "      <td>511581</td>\n",
              "      <td>26/7/2021</td>\n",
              "      <td>25/7/2021</td>\n",
              "      <td>ชาย</td>\n",
              "      <td>44.0</td>\n",
              "      <td>ปี</td>\n",
              "      <td>Thailand</td>\n",
              "      <td>กรุงเทพมหานคร</td>\n",
              "      <td>การค้นหาผู้ป่วยเชิงรุกและค้นหาผู้ติดเชื้อในชุมชน</td>\n",
              "      <td>กรุงเทพมหานคร</td>\n",
              "      <td>มีนบุรี</td>\n",
              "    </tr>\n",
              "  </tbody>\n",
              "</table>\n",
              "<p>362205 rows × 11 columns</p>\n",
              "</div>"
            ],
            "text/plain": [
              "           No. announce_date  ... province_of_onset district_of_onset\n",
              "47          48      6/3/2020  ...     กรุงเทพมหานคร           คลองตัน\n",
              "124        125      6/3/2021  ...          ปทุมธานี           ธัญบุรี\n",
              "161        162     17/3/2020  ...      สุราษฎร์ธานี             เมือง\n",
              "181        182     18/3/2020  ...           ขอนแก่น             เมือง\n",
              "186        187     18/3/2020  ...          ร้อยเอ็ด         เชียงขวัญ\n",
              "...        ...           ...  ...               ...               ...\n",
              "511575  511576     26/7/2021  ...     กรุงเทพมหานคร           มีนบุรี\n",
              "511577  511578     26/7/2021  ...     กรุงเทพมหานคร            บางบอน\n",
              "511578  511579     26/7/2021  ...     กรุงเทพมหานคร           ทุ่งครุ\n",
              "511579  511580     26/7/2021  ...     กรุงเทพมหานคร             พญาไท\n",
              "511580  511581     26/7/2021  ...     กรุงเทพมหานคร           มีนบุรี\n",
              "\n",
              "[362205 rows x 11 columns]"
            ]
          },
          "metadata": {
            "tags": []
          },
          "execution_count": 17
        }
      ]
    },
    {
      "cell_type": "markdown",
      "metadata": {
        "id": "Q1U0KDUaINFr"
      },
      "source": [
        "จะเห็นว่าดาต้าหายไปเป็นจำนวนมาก"
      ]
    },
    {
      "cell_type": "code",
      "metadata": {
        "colab": {
          "base_uri": "https://localhost:8080/"
        },
        "id": "xSJea34uILxG",
        "outputId": "6f4dfb33-711d-42c4-9170-47803e6d7236"
      },
      "source": [
        "data.dropna().shape"
      ],
      "execution_count": null,
      "outputs": [
        {
          "output_type": "execute_result",
          "data": {
            "text/plain": [
              "(362205, 11)"
            ]
          },
          "metadata": {
            "tags": []
          },
          "execution_count": 18
        }
      ]
    },
    {
      "cell_type": "code",
      "metadata": {
        "colab": {
          "base_uri": "https://localhost:8080/"
        },
        "id": "TIOrY842Iieh",
        "outputId": "fd575db4-f33a-4dcd-b666-9e89fa214329"
      },
      "source": [
        "data.dropna().shape[0]"
      ],
      "execution_count": null,
      "outputs": [
        {
          "output_type": "execute_result",
          "data": {
            "text/plain": [
              "362205"
            ]
          },
          "metadata": {
            "tags": []
          },
          "execution_count": 19
        }
      ]
    },
    {
      "cell_type": "markdown",
      "metadata": {
        "id": "90so9fm1JWF2"
      },
      "source": [
        "Quiz 3 ให้ หาว่า การทำ .dropna() ทำให้ข้อมูลหายกี่ %"
      ]
    },
    {
      "cell_type": "code",
      "metadata": {
        "colab": {
          "base_uri": "https://localhost:8080/"
        },
        "id": "Z7PD9tASNakK",
        "outputId": "8ef27da9-e369-432c-e02b-9a62005b9b87"
      },
      "source": [
        "print('size before is =')\n",
        "data.shape[0]"
      ],
      "execution_count": null,
      "outputs": [
        {
          "output_type": "stream",
          "text": [
            "size before is =\n"
          ],
          "name": "stdout"
        },
        {
          "output_type": "execute_result",
          "data": {
            "text/plain": [
              "512622"
            ]
          },
          "metadata": {
            "tags": []
          },
          "execution_count": 20
        }
      ]
    },
    {
      "cell_type": "code",
      "metadata": {
        "colab": {
          "base_uri": "https://localhost:8080/"
        },
        "id": "v029lt9aJj4L",
        "outputId": "efaa5719-6726-4128-a126-92cb6341b5bf"
      },
      "source": [
        "print('size after is =')\n",
        "data.dropna().shape[0]"
      ],
      "execution_count": null,
      "outputs": [
        {
          "output_type": "stream",
          "text": [
            "size after is =\n"
          ],
          "name": "stdout"
        },
        {
          "output_type": "execute_result",
          "data": {
            "text/plain": [
              "362205"
            ]
          },
          "metadata": {
            "tags": []
          },
          "execution_count": 21
        }
      ]
    },
    {
      "cell_type": "code",
      "metadata": {
        "id": "q7Oyktx_NoQl"
      },
      "source": [
        "percen = data.shape[0] - data.dropna().shape[0]"
      ],
      "execution_count": null,
      "outputs": []
    },
    {
      "cell_type": "code",
      "metadata": {
        "id": "iKko2xUuNxkX"
      },
      "source": [
        "so = 100*(percen/data.shape[0])"
      ],
      "execution_count": null,
      "outputs": []
    },
    {
      "cell_type": "code",
      "metadata": {
        "colab": {
          "base_uri": "https://localhost:8080/"
        },
        "id": "fnYqMsCONc4y",
        "outputId": "8c0d3c04-39d6-4379-9325-b6279de81028"
      },
      "source": [
        "print('=')\n",
        "so\n"
      ],
      "execution_count": null,
      "outputs": [
        {
          "output_type": "stream",
          "text": [
            "=\n"
          ],
          "name": "stdout"
        },
        {
          "output_type": "execute_result",
          "data": {
            "text/plain": [
              "29.342673548930794"
            ]
          },
          "metadata": {
            "tags": []
          },
          "execution_count": 24
        }
      ]
    },
    {
      "cell_type": "markdown",
      "metadata": {
        "id": "7HGhgfi3OqWU"
      },
      "source": [
        "เฉลยของอาจารย์"
      ]
    },
    {
      "cell_type": "code",
      "metadata": {
        "colab": {
          "base_uri": "https://localhost:8080/"
        },
        "id": "Memck5jgR4_b",
        "outputId": "544486ea-546c-4c1c-e627-04eb6feaedb6"
      },
      "source": [
        "removes = data.shape[0] - data.dropna().shape[0]\n",
        "print(f'size before drop = {data.shape[0]}')\n",
        "print(f'size after drop = {data.dropna().shape[0]}')\n",
        "print(f'we lost {100*(removes/data.shape[0])}% of data')"
      ],
      "execution_count": null,
      "outputs": [
        {
          "output_type": "stream",
          "text": [
            "size before drop = 512622\n",
            "size after drop = 362205\n",
            "we lost 29.342673548930794% of data\n"
          ],
          "name": "stdout"
        }
      ]
    },
    {
      "cell_type": "markdown",
      "metadata": {
        "id": "LGfndMKKOvPE"
      },
      "source": [
        "###Handle Missing Value 1.5 (ลบค่า Missing เฉพาะใน column ที่เราสนใจ)"
      ]
    },
    {
      "cell_type": "code",
      "metadata": {
        "id": "TwVno_luPAjW"
      },
      "source": [
        "data_nomissingAge = data.dropna(subset=['age'])"
      ],
      "execution_count": null,
      "outputs": []
    },
    {
      "cell_type": "code",
      "metadata": {
        "colab": {
          "base_uri": "https://localhost:8080/"
        },
        "id": "bzhooPUhPm3p",
        "outputId": "2dfe0a5c-2890-415a-a04f-b3f5fa7c5499"
      },
      "source": [
        "plt.boxplot(data_nomissingAge['age'])"
      ],
      "execution_count": null,
      "outputs": [
        {
          "output_type": "execute_result",
          "data": {
            "text/plain": [
              "{'boxes': [<matplotlib.lines.Line2D at 0x7f46a8e1e410>],\n",
              " 'caps': [<matplotlib.lines.Line2D at 0x7f46a8e254d0>,\n",
              "  <matplotlib.lines.Line2D at 0x7f46a8e25a10>],\n",
              " 'fliers': [<matplotlib.lines.Line2D at 0x7f46a8e2b510>],\n",
              " 'means': [],\n",
              " 'medians': [<matplotlib.lines.Line2D at 0x7f46a8e25f90>],\n",
              " 'whiskers': [<matplotlib.lines.Line2D at 0x7f46a8e1ea10>,\n",
              "  <matplotlib.lines.Line2D at 0x7f46a8e1ef50>]}"
            ]
          },
          "metadata": {
            "tags": []
          },
          "execution_count": 27
        },
        {
          "output_type": "display_data",
          "data": {
            "image/png": "[encoded data removed]",
            "text/plain": [
              "<Figure size 432x288 with 1 Axes>"
            ]
          },
          "metadata": {
            "tags": [],
            "needs_background": "light"
          }
        }
      ]
    },
    {
      "cell_type": "markdown",
      "metadata": {
        "id": "jqe9MBWTSFGc"
      },
      "source": [
        "Quiz 3.1 ให้ หาว่า การทำ .dropna() แบบเลือก drop ทำให้ข้อมูลหายกี่ %"
      ]
    },
    {
      "cell_type": "code",
      "metadata": {
        "colab": {
          "base_uri": "https://localhost:8080/"
        },
        "id": "T-sue8oEP_Il",
        "outputId": "1879fba1-cbcd-49c8-f481-98eb7d0f86f2"
      },
      "source": [
        "remove = data.shape[0] - data_nomissingAge.shape[0]\n",
        "print(f'size before drop = {data.shape[0]}')\n",
        "print(f'size after drop = {data_nomissingAge.shape[0]}')\n",
        "print(f'we lost {100*(remove/data.shape[0])}% of data')"
      ],
      "execution_count": null,
      "outputs": [
        {
          "output_type": "stream",
          "text": [
            "size before drop = 512622\n",
            "size after drop = 462839\n",
            "we lost 9.711444300088564% of data\n"
          ],
          "name": "stdout"
        }
      ]
    },
    {
      "cell_type": "markdown",
      "metadata": {
        "id": "_3F6kzVVXD_b"
      },
      "source": [
        "###Handle Missing Value 2"
      ]
    },
    {
      "cell_type": "code",
      "metadata": {
        "colab": {
          "base_uri": "https://localhost:8080/"
        },
        "id": "JPDSJndIV9X3",
        "outputId": "641ba8e2-395f-45af-d0e1-3697d2192473"
      },
      "source": [
        "data"
      ],
      "execution_count": null,
      "outputs": [
        {
          "output_type": "execute_result",
          "data": {
            "text/html": [
              "<div>\n",
              "<style scoped>\n",
              "    .dataframe tbody tr th:only-of-type {\n",
              "        vertical-align: middle;\n",
              "    }\n",
              "\n",
              "    .dataframe tbody tr th {\n",
              "        vertical-align: top;\n",
              "    }\n",
              "\n",
              "    .dataframe thead th {\n",
              "        text-align: right;\n",
              "    }\n",
              "</style>\n",
              "<table border=\"1\" class=\"dataframe\">\n",
              "  <thead>\n",
              "    <tr style=\"text-align: right;\">\n",
              "      <th></th>\n",
              "      <th>No.</th>\n",
              "      <th>announce_date</th>\n",
              "      <th>Notified date</th>\n",
              "      <th>sex</th>\n",
              "      <th>age</th>\n",
              "      <th>Unit</th>\n",
              "      <th>nationality</th>\n",
              "      <th>province_of_isolation</th>\n",
              "      <th>risk</th>\n",
              "      <th>province_of_onset</th>\n",
              "      <th>district_of_onset</th>\n",
              "    </tr>\n",
              "  </thead>\n",
              "  <tbody>\n",
              "    <tr>\n",
              "      <th>0</th>\n",
              "      <td>1</td>\n",
              "      <td>12/1/2020</td>\n",
              "      <td>NaN</td>\n",
              "      <td>หญิง</td>\n",
              "      <td>61.0</td>\n",
              "      <td>ปี</td>\n",
              "      <td>China</td>\n",
              "      <td>กรุงเทพมหานคร</td>\n",
              "      <td>คนต่างชาติเดินทางมาจากต่างประเทศ</td>\n",
              "      <td>กรุงเทพมหานคร</td>\n",
              "      <td>NaN</td>\n",
              "    </tr>\n",
              "    <tr>\n",
              "      <th>1</th>\n",
              "      <td>2</td>\n",
              "      <td>17/1/2020</td>\n",
              "      <td>NaN</td>\n",
              "      <td>หญิง</td>\n",
              "      <td>74.0</td>\n",
              "      <td>ปี</td>\n",
              "      <td>China</td>\n",
              "      <td>กรุงเทพมหานคร</td>\n",
              "      <td>คนต่างชาติเดินทางมาจากต่างประเทศ</td>\n",
              "      <td>กรุงเทพมหานคร</td>\n",
              "      <td>NaN</td>\n",
              "    </tr>\n",
              "    <tr>\n",
              "      <th>2</th>\n",
              "      <td>3</td>\n",
              "      <td>22/1/2020</td>\n",
              "      <td>NaN</td>\n",
              "      <td>หญิง</td>\n",
              "      <td>73.0</td>\n",
              "      <td>ปี</td>\n",
              "      <td>Thailand</td>\n",
              "      <td>นครปฐม</td>\n",
              "      <td>คนต่างชาติเดินทางมาจากต่างประเทศ</td>\n",
              "      <td>นครปฐม</td>\n",
              "      <td>เมือง</td>\n",
              "    </tr>\n",
              "    <tr>\n",
              "      <th>3</th>\n",
              "      <td>4</td>\n",
              "      <td>22/1/2020</td>\n",
              "      <td>NaN</td>\n",
              "      <td>ชาย</td>\n",
              "      <td>68.0</td>\n",
              "      <td>ปี</td>\n",
              "      <td>China</td>\n",
              "      <td>กรุงเทพมหานคร</td>\n",
              "      <td>คนต่างชาติเดินทางมาจากต่างประเทศ</td>\n",
              "      <td>กรุงเทพมหานคร</td>\n",
              "      <td>NaN</td>\n",
              "    </tr>\n",
              "    <tr>\n",
              "      <th>4</th>\n",
              "      <td>5</td>\n",
              "      <td>24/1/2020</td>\n",
              "      <td>NaN</td>\n",
              "      <td>หญิง</td>\n",
              "      <td>66.0</td>\n",
              "      <td>ปี</td>\n",
              "      <td>China</td>\n",
              "      <td>นนทบุรี</td>\n",
              "      <td>คนต่างชาติเดินทางมาจากต่างประเทศ</td>\n",
              "      <td>กรุงเทพมหานคร</td>\n",
              "      <td>NaN</td>\n",
              "    </tr>\n",
              "    <tr>\n",
              "      <th>...</th>\n",
              "      <td>...</td>\n",
              "      <td>...</td>\n",
              "      <td>...</td>\n",
              "      <td>...</td>\n",
              "      <td>...</td>\n",
              "      <td>...</td>\n",
              "      <td>...</td>\n",
              "      <td>...</td>\n",
              "      <td>...</td>\n",
              "      <td>...</td>\n",
              "      <td>...</td>\n",
              "    </tr>\n",
              "    <tr>\n",
              "      <th>512617</th>\n",
              "      <td>512618</td>\n",
              "      <td>26/7/2021</td>\n",
              "      <td>25/7/2021</td>\n",
              "      <td>ชาย</td>\n",
              "      <td>NaN</td>\n",
              "      <td>NaN</td>\n",
              "      <td>NaN</td>\n",
              "      <td>ชลบุรี</td>\n",
              "      <td>ทัณฑสถาน/เรือนจำ</td>\n",
              "      <td>NaN</td>\n",
              "      <td>NaN</td>\n",
              "    </tr>\n",
              "    <tr>\n",
              "      <th>512618</th>\n",
              "      <td>512619</td>\n",
              "      <td>26/7/2021</td>\n",
              "      <td>25/7/2021</td>\n",
              "      <td>ชาย</td>\n",
              "      <td>NaN</td>\n",
              "      <td>NaN</td>\n",
              "      <td>NaN</td>\n",
              "      <td>ชลบุรี</td>\n",
              "      <td>ทัณฑสถาน/เรือนจำ</td>\n",
              "      <td>NaN</td>\n",
              "      <td>NaN</td>\n",
              "    </tr>\n",
              "    <tr>\n",
              "      <th>512619</th>\n",
              "      <td>512620</td>\n",
              "      <td>26/7/2021</td>\n",
              "      <td>25/7/2021</td>\n",
              "      <td>ชาย</td>\n",
              "      <td>NaN</td>\n",
              "      <td>NaN</td>\n",
              "      <td>NaN</td>\n",
              "      <td>ชลบุรี</td>\n",
              "      <td>ทัณฑสถาน/เรือนจำ</td>\n",
              "      <td>NaN</td>\n",
              "      <td>NaN</td>\n",
              "    </tr>\n",
              "    <tr>\n",
              "      <th>512620</th>\n",
              "      <td>512621</td>\n",
              "      <td>26/7/2021</td>\n",
              "      <td>25/7/2021</td>\n",
              "      <td>ชาย</td>\n",
              "      <td>NaN</td>\n",
              "      <td>NaN</td>\n",
              "      <td>NaN</td>\n",
              "      <td>ชลบุรี</td>\n",
              "      <td>ทัณฑสถาน/เรือนจำ</td>\n",
              "      <td>NaN</td>\n",
              "      <td>NaN</td>\n",
              "    </tr>\n",
              "    <tr>\n",
              "      <th>512621</th>\n",
              "      <td>512622</td>\n",
              "      <td>26/7/2021</td>\n",
              "      <td>25/7/2021</td>\n",
              "      <td>ชาย</td>\n",
              "      <td>NaN</td>\n",
              "      <td>NaN</td>\n",
              "      <td>NaN</td>\n",
              "      <td>ชลบุรี</td>\n",
              "      <td>ทัณฑสถาน/เรือนจำ</td>\n",
              "      <td>NaN</td>\n",
              "      <td>NaN</td>\n",
              "    </tr>\n",
              "  </tbody>\n",
              "</table>\n",
              "<p>512622 rows × 11 columns</p>\n",
              "</div>"
            ],
            "text/plain": [
              "           No. announce_date  ... province_of_onset district_of_onset\n",
              "0            1     12/1/2020  ...     กรุงเทพมหานคร               NaN\n",
              "1            2     17/1/2020  ...     กรุงเทพมหานคร               NaN\n",
              "2            3     22/1/2020  ...            นครปฐม             เมือง\n",
              "3            4     22/1/2020  ...     กรุงเทพมหานคร               NaN\n",
              "4            5     24/1/2020  ...     กรุงเทพมหานคร               NaN\n",
              "...        ...           ...  ...               ...               ...\n",
              "512617  512618     26/7/2021  ...               NaN               NaN\n",
              "512618  512619     26/7/2021  ...               NaN               NaN\n",
              "512619  512620     26/7/2021  ...               NaN               NaN\n",
              "512620  512621     26/7/2021  ...               NaN               NaN\n",
              "512621  512622     26/7/2021  ...               NaN               NaN\n",
              "\n",
              "[512622 rows x 11 columns]"
            ]
          },
          "metadata": {
            "tags": []
          },
          "execution_count": 29
        }
      ]
    },
    {
      "cell_type": "code",
      "metadata": {
        "id": "7iiQa91xVu7o"
      },
      "source": [
        "data[['risk']] = data[['risk']].fillna('ไม่มีข้อมูล')"
      ],
      "execution_count": null,
      "outputs": []
    },
    {
      "cell_type": "code",
      "metadata": {
        "colab": {
          "base_uri": "https://localhost:8080/"
        },
        "id": "GYFs4imPWq05",
        "outputId": "82597db8-3c9c-4a42-a13e-e5f5e97a3033"
      },
      "source": [
        "set(data['risk'])"
      ],
      "execution_count": null,
      "outputs": [
        {
          "output_type": "execute_result",
          "data": {
            "text/plain": [
              "{'2.สัมผัสผู้ติดเชื้อ',\n",
              " 'ACF รองเมือง',\n",
              " 'ACF สนามกีฬาธูปะเตมีย์',\n",
              " 'ACF สนามกีฬาไทย-ญี่ปุ่น',\n",
              " 'ACF สีลม',\n",
              " 'ACF เคหะหลักสี่',\n",
              " 'Cluster Icon siam',\n",
              " \"Cluster Memory 90's กรุงเทพมหานคร\",\n",
              " 'Cluster New Jazz กรุงเทพมหานคร',\n",
              " 'Cluster The Lounge Salaya',\n",
              " 'Cluster กรุงเทพมหานคร. คลองเตย',\n",
              " 'Cluster คลองเตย',\n",
              " 'Cluster งานมอเตอร์ โชว์',\n",
              " 'Cluster จนท. สนามบินสุวรรณภูมิ',\n",
              " 'Cluster จันทบุรี',\n",
              " 'Cluster จันทบุรี (ชาวกินี )',\n",
              " 'Cluster จันทบุรี (ชาวกินี)',\n",
              " 'Cluster ชลบุรี',\n",
              " 'Cluster ชลบุรี บริษัทไดกิ้น',\n",
              " 'Cluster ชลบุรี โรงเบียร์ 90',\n",
              " 'Cluster ตราด',\n",
              " 'Cluster ตราด ',\n",
              " 'Cluster ตลาดนนทบุรี',\n",
              " 'Cluster ตลาดบางพลี',\n",
              " 'Cluster ตลาดบางแค',\n",
              " 'Cluster ตลาดบางแค/คลองขวาง',\n",
              " 'Cluster ตลาดพรพัฒน์',\n",
              " 'Cluster ตลาดสี่มุมเมือง',\n",
              " 'Cluster ทัณฑสถานหญิงกลาง',\n",
              " 'Cluster ทัณฑสถานโรงพยาบาลราชทัณฑ์',\n",
              " 'Cluster ทันฑสถานบำบัดพิเศษกลาง',\n",
              " 'Cluster บริษัทศรีสวัสดิ์',\n",
              " 'Cluster บางแค',\n",
              " 'Cluster บ่อนพัทยา/ชลบุรี',\n",
              " 'Cluster บ่อนเทพารักษ์',\n",
              " 'Cluster บ่อนไก่อ่างทอง',\n",
              " 'Cluster ปากช่อง',\n",
              " 'Cluster ผับ Thonglor',\n",
              " 'Cluster มหาสารคาม',\n",
              " 'Cluster ระยอง',\n",
              " 'Cluster ระยอง วิริยะประกันภัย',\n",
              " 'Cluster สถานบันเทิงย่านทองหล่อ',\n",
              " 'Cluster สมุทรปราการ (โรงงาน บริษัทเมทัล โปรดักส์)',\n",
              " 'Cluster สมุทรปราการ GRP Hightech',\n",
              " 'Cluster สมุทรปราการ ตลาดเคหะบางพลี',\n",
              " 'Cluster สมุทรสาคร',\n",
              " 'Cluster ห้างแสงทอง (สายล่าง)',\n",
              " 'Cluster เครือคัสเซ่อร์พีคโฮลดิ้ง (CPG,CPH)',\n",
              " 'Cluster เรือนจำกลางคลองเปรม',\n",
              " 'Cluster เรือนจำพิเศษกรุงเทพ',\n",
              " 'Cluster เรือนจำพิเศษธนบุรี',\n",
              " 'Cluster เรือนจำพิเศษมีนบุรี',\n",
              " 'Cluster โรงงาน  Big Star',\n",
              " 'Cluster โรงงาน Big Star',\n",
              " 'Cluster โรงงาน QPP ประจวบฯ',\n",
              " 'Cluster โรงงาน standard can',\n",
              " 'Cluster โรงงานทำขนม บางขุนเทียน',\n",
              " 'Refer in',\n",
              " 'SHUI',\n",
              " 'Sandbox',\n",
              " 'State Quarantine',\n",
              " 'cluster ชลบุรี\\n(อยู่ระหว่างการสอบสวน)',\n",
              " 'การค้นหาผู้ป่วยเชิงรุกและค้นหาผู้ติดเชื้อในชุมชน',\n",
              " 'คนต่างชาติเดินทางมาจากต่างประเทศ',\n",
              " 'คนไทยมาจากพื้นที่เสี่ยง',\n",
              " 'คนไทยเดินทางกลับจากต่างประเทศ',\n",
              " 'คนไทยเดินทางมาจากต่างประเทศ',\n",
              " 'ค้นหาเชิงรุก',\n",
              " 'ตรวจก่อนทำหัตถการ',\n",
              " 'ตรวจสุขภาพแรงงานต่างด้าว',\n",
              " 'ตลาด',\n",
              " 'ทัณฑสถาน/เรือนจำ',\n",
              " 'บุคลากรด้านการแพทย์และสาธารณสุข',\n",
              " 'ปอดอักเสบ (Pneumonia)',\n",
              " 'ปอดอักเสบ Pneumonia',\n",
              " 'ผับหัวหิน',\n",
              " 'ผู้ติดเชื้อในประเทศ',\n",
              " 'ผู้ที่เดินทางมาจากต่างประเทศ และเข้า AOQ',\n",
              " 'ผู้ที่เดินทางมาจากต่างประเทศ และเข้า ASQ/ALQ',\n",
              " 'ผู้ที่เดินทางมาจากต่างประเทศ และเข้า HQ/AHQ',\n",
              " 'ผู้ที่เดินทางมาจากต่างประเทศ และเข้า OQ',\n",
              " 'ผู้ป่วย PUI',\n",
              " 'ผู้ป่วย กรุงเทพมหานคร',\n",
              " 'ผู้เดินทางมาจากพื้นที่เสี่ยง กรุงเทพมหานคร.',\n",
              " 'พิธีกรรมทางศาสนา',\n",
              " 'รอประสาน',\n",
              " 'ระบุไม่ได้',\n",
              " 'ระหว่างการสอบสวนโรค',\n",
              " 'ระหว่างสอบสวน',\n",
              " 'รับจ้างขนของที่ตลาดท่ายาง',\n",
              " 'ร้านอาหาร',\n",
              " 'ศูนย์กักกัน ผู้ต้องกัก',\n",
              " 'สถานที่ทำงาน',\n",
              " 'สถานบันเทิง',\n",
              " 'สนามมวย',\n",
              " 'สัมผัสผู้ติดเชื้อยืนยัน\\nอยู่ระหว่างสอบสวน',\n",
              " 'สัมผัสผู้ติดเชื้อยืนยัน อยู่ระหว่างสอบสวน',\n",
              " 'สัมผัสผู้ป่วยที่ติดโควิด',\n",
              " 'สัมผัสผู้ป่วยยืนยัน',\n",
              " 'สัมผัสผู้ป่วยยืนยัน \\n อยู่ระหว่างสอบสวน',\n",
              " 'สัมผัสผู้ป่วยยืนยัน (ยังไม่สามารถระบุได้)',\n",
              " 'สัมผัสผู้ป่วยยืนยัน ภายในครอบครัว/ชุมชน/เพื่อน',\n",
              " 'สัมผัสผู้ป่วยยืนยัน อยุ๋ระหว่างสอบสวน',\n",
              " 'สัมผัสผู้ป่วยยืนยัน อยู่ระหว่างสอบสวน',\n",
              " 'สัมผัสผู้ป่วยยืนยันเพื่อนร่วมงาน',\n",
              " 'สัมผัสผู้เดินทางจากต่างประเทศ',\n",
              " 'สัมผัสสามีสะอาด เขตบ้าน (รพ.มหาชัย 2)',\n",
              " 'สัมผัสใกล้ชิดกับผู้ป่วยยืนยันรายก่อนหน้านี้',\n",
              " 'สัมผัสใกล้ชิดผู้ป่วยยันยันก่อนหน้า',\n",
              " 'สัมผัสใกล้ชิดผู้ป่วยยืนยันก่อนหน้า',\n",
              " 'สัมผัสในสถานพยาบาล',\n",
              " 'อยุ่ระหว่างสอบสวน',\n",
              " 'อยู่ระหว่างการสอบสวน',\n",
              " 'อยู่ระหว่างการสอบสวน\\n',\n",
              " 'อยู่ระหว่างสอบสวน',\n",
              " 'อยู่ระหว่างสอบสวนโรค',\n",
              " 'อาชีพเสี่ยง เช่น ทำงานในสถานที่แออัด หรือทำงานใกล้ชิดสัมผัสชาวต่างชาติ เป็นต้น',\n",
              " 'อาศัย/เดินทางไปในพื้นที่ที่มีการระบาด',\n",
              " 'อื่น',\n",
              " 'อื่นๆ',\n",
              " 'เดินทางมาจากพื้นที่จังหวัดเสี่ยง',\n",
              " 'เดินทางมาจากพื้นที่มีการระบาดของโรค',\n",
              " 'เดินทางมาจากพื้นที่เสี่ยงที่มีการระบาดของโรค',\n",
              " 'แรงงานต่างด้าวตรวจก่อนขึ้นทะเบียน',\n",
              " 'ไปยัง/มาจาก พื้นที่ระบาดกรุงเทพมหานครมหานคร',\n",
              " 'ไปยังพื้นที่ที่มีการระบาด',\n",
              " 'ไปสถานที่ชุมชน เช่น ตลาดนัด สถานที่ท่องเที่ยว',\n",
              " 'ไปสถานที่เสี่ยง เช่น ตลาด สถานที่ชุมชน',\n",
              " 'ไปสถานที่แออัด เช่น งานแฟร์ คอนเสิร์ต',\n",
              " 'ไปเที่ยวสถานบันเทิงในอุบลที่พบการระบาดของโรค Ubar',\n",
              " 'ไปแหล่งชุมชน/สถานที่คนหนาแน่น',\n",
              " 'ไม่มีข้อมูล'}"
            ]
          },
          "metadata": {
            "tags": []
          },
          "execution_count": 31
        }
      ]
    },
    {
      "cell_type": "markdown",
      "metadata": {
        "id": "oqQcLsJvY4iD"
      },
      "source": [
        "###Handle Missing Value 3 (แทนด้วย class ใหม่ (ค่าที่เหมาะสม))"
      ]
    },
    {
      "cell_type": "code",
      "metadata": {
        "colab": {
          "base_uri": "https://localhost:8080/"
        },
        "id": "MnduHHU4Xd5g",
        "outputId": "a58bc6bd-ef30-4299-cd48-5b5c7b60f57d"
      },
      "source": [
        "set(data['Unit']) #จะเห็นว่ามีข้อมูลซ้ำกันคือ วัน กับ ปี"
      ],
      "execution_count": null,
      "outputs": [
        {
          "output_type": "execute_result",
          "data": {
            "text/plain": [
              "{' วัน', ' เดือน', nan, 'ปี', 'วัน', 'เดือน'}"
            ]
          },
          "metadata": {
            "tags": []
          },
          "execution_count": 32
        }
      ]
    },
    {
      "cell_type": "code",
      "metadata": {
        "id": "EQxGTvFtYaaX"
      },
      "source": [
        "# เติมค่าว่างในช่องที่ไม่มีข้อมูล\n",
        "data[['Unit']] = data[['Unit']].fillna('ปี?')"
      ],
      "execution_count": null,
      "outputs": []
    },
    {
      "cell_type": "code",
      "metadata": {
        "colab": {
          "base_uri": "https://localhost:8080/"
        },
        "id": "Gf15gg7iZXWQ",
        "outputId": "c50fa810-23f8-4174-cbf2-9f5430809602"
      },
      "source": [
        "data.isnull().any()"
      ],
      "execution_count": null,
      "outputs": [
        {
          "output_type": "execute_result",
          "data": {
            "text/plain": [
              "No.                      False\n",
              "announce_date            False\n",
              "Notified date             True\n",
              "sex                       True\n",
              "age                       True\n",
              "Unit                     False\n",
              "nationality               True\n",
              "province_of_isolation     True\n",
              "risk                     False\n",
              "province_of_onset         True\n",
              "district_of_onset         True\n",
              "dtype: bool"
            ]
          },
          "metadata": {
            "tags": []
          },
          "execution_count": 34
        }
      ]
    },
    {
      "cell_type": "markdown",
      "metadata": {
        "id": "k4MEgVxgHphm"
      },
      "source": [
        "##Handle Missing Value 4 (แทนด้วยค่ากลาง)\n",
        "\n",
        "ถ้าเป็น numeric ใช้ mean\n",
        "\n",
        "\n",
        "\n",
        "```\n",
        "#วิธีการหาค่ากลาง mean\n",
        ".mean()\n",
        "```\n",
        "\n"
      ]
    },
    {
      "cell_type": "code",
      "metadata": {
        "id": "gzKEYKF3IdkV",
        "colab": {
          "base_uri": "https://localhost:8080/"
        },
        "outputId": "1e1aaf6e-237c-44c3-93ae-69772c1044f6"
      },
      "source": [
        "data[['age']].mean() #เติมมีนลงไปแทนค่า missing\n",
        "#เราสามารถใช้ data.mean() ได้เพื่อหาค่ามีนทั้งหมดแต่จะนาน ดังนี้ชี้แค่ส่วนที่เราสนใจ"
      ],
      "execution_count": null,
      "outputs": [
        {
          "output_type": "execute_result",
          "data": {
            "text/plain": [
              "age    35.52947\n",
              "dtype: float64"
            ]
          },
          "metadata": {
            "tags": []
          },
          "execution_count": 35
        }
      ]
    },
    {
      "cell_type": "code",
      "metadata": {
        "id": "lX8HaXw9JoiS"
      },
      "source": [
        "avg_age=data[['age']].mean()\n",
        "data[['age']] = data[['age']].fillna('avg_age') #ใช้ fillna เพื่อแทนค่าของ missing"
      ],
      "execution_count": null,
      "outputs": []
    },
    {
      "cell_type": "code",
      "metadata": {
        "id": "O4cVH_GbKhnK",
        "colab": {
          "base_uri": "https://localhost:8080/"
        },
        "outputId": "dbd1fa74-273b-4eb7-ad62-b1dd09d57f86"
      },
      "source": [
        "data.isnull().any()"
      ],
      "execution_count": null,
      "outputs": [
        {
          "output_type": "execute_result",
          "data": {
            "text/plain": [
              "No.                      False\n",
              "announce_date            False\n",
              "Notified date             True\n",
              "sex                       True\n",
              "age                      False\n",
              "Unit                     False\n",
              "nationality               True\n",
              "province_of_isolation     True\n",
              "risk                     False\n",
              "province_of_onset         True\n",
              "district_of_onset         True\n",
              "dtype: bool"
            ]
          },
          "metadata": {
            "tags": []
          },
          "execution_count": 37
        }
      ]
    },
    {
      "cell_type": "code",
      "metadata": {
        "id": "iHkKKrmOKv3A",
        "colab": {
          "base_uri": "https://localhost:8080/"
        },
        "outputId": "c08fc3ac-fb31-4f9d-c482-5b72decba40f"
      },
      "source": [
        "data[['age']].mean() #ตรวจสอบดูค่ากลางอีกครั้ง"
      ],
      "execution_count": null,
      "outputs": [
        {
          "output_type": "execute_result",
          "data": {
            "text/plain": [
              "Series([], dtype: float64)"
            ]
          },
          "metadata": {
            "tags": []
          },
          "execution_count": 38
        }
      ]
    },
    {
      "cell_type": "markdown",
      "metadata": {
        "id": "2MeOtkjjPR3F"
      },
      "source": [
        "ถ้าเป็น norminal หรือ ตัวหนังสือ จะใช้ mode"
      ]
    },
    {
      "cell_type": "code",
      "metadata": {
        "id": "WgUucFbvMXLS",
        "colab": {
          "base_uri": "https://localhost:8080/"
        },
        "outputId": "72756d4a-2561-44db-bab0-4ad0483a9339"
      },
      "source": [
        "data[['nationality']].mean()"
      ],
      "execution_count": null,
      "outputs": [
        {
          "output_type": "execute_result",
          "data": {
            "text/plain": [
              "Series([], dtype: float64)"
            ]
          },
          "metadata": {
            "tags": []
          },
          "execution_count": 39
        }
      ]
    },
    {
      "cell_type": "code",
      "metadata": {
        "id": "FjpPFp5mbgX_",
        "colab": {
          "base_uri": "https://localhost:8080/"
        },
        "outputId": "8dbd4705-02b2-419c-bcbf-81d5ef843cad"
      },
      "source": [
        "data[['nationality']].mode()"
      ],
      "execution_count": null,
      "outputs": [
        {
          "output_type": "execute_result",
          "data": {
            "text/html": [
              "<div>\n",
              "<style scoped>\n",
              "    .dataframe tbody tr th:only-of-type {\n",
              "        vertical-align: middle;\n",
              "    }\n",
              "\n",
              "    .dataframe tbody tr th {\n",
              "        vertical-align: top;\n",
              "    }\n",
              "\n",
              "    .dataframe thead th {\n",
              "        text-align: right;\n",
              "    }\n",
              "</style>\n",
              "<table border=\"1\" class=\"dataframe\">\n",
              "  <thead>\n",
              "    <tr style=\"text-align: right;\">\n",
              "      <th></th>\n",
              "      <th>nationality</th>\n",
              "    </tr>\n",
              "  </thead>\n",
              "  <tbody>\n",
              "    <tr>\n",
              "      <th>0</th>\n",
              "      <td>Thailand</td>\n",
              "    </tr>\n",
              "  </tbody>\n",
              "</table>\n",
              "</div>"
            ],
            "text/plain": [
              "  nationality\n",
              "0    Thailand"
            ]
          },
          "metadata": {
            "tags": []
          },
          "execution_count": 40
        }
      ]
    },
    {
      "cell_type": "code",
      "metadata": {
        "id": "6USop7eJPjFU",
        "colab": {
          "base_uri": "https://localhost:8080/"
        },
        "outputId": "63cdd412-d40b-45f3-dd4c-a41168370329"
      },
      "source": [
        "data[['nationality']].mode().iloc[0,0]"
      ],
      "execution_count": null,
      "outputs": [
        {
          "output_type": "execute_result",
          "data": {
            "application/vnd.google.colaboratory.intrinsic+json": {
              "type": "string"
            },
            "text/plain": [
              "'Thailand'"
            ]
          },
          "metadata": {
            "tags": []
          },
          "execution_count": 41
        }
      ]
    },
    {
      "cell_type": "code",
      "metadata": {
        "id": "SZhCMgsOV1g9",
        "colab": {
          "base_uri": "https://localhost:8080/"
        },
        "outputId": "6cdfbff8-6d9d-4933-d64b-108d7507451f"
      },
      "source": [
        "data['nationality'].mode()"
      ],
      "execution_count": null,
      "outputs": [
        {
          "output_type": "execute_result",
          "data": {
            "text/plain": [
              "0    Thailand\n",
              "dtype: object"
            ]
          },
          "metadata": {
            "tags": []
          },
          "execution_count": 42
        }
      ]
    },
    {
      "cell_type": "code",
      "metadata": {
        "id": "5eCoekUAV1dE"
      },
      "source": [
        "# หา mode\n",
        "mode_nation = data[['nationality']].mode()\n",
        "# เติม mean ลงไปแทนค่า missing\n",
        "data[['nationality']] = data[['nationality']].fillna(mode_nation.iloc[0,0])"
      ],
      "execution_count": null,
      "outputs": []
    },
    {
      "cell_type": "code",
      "metadata": {
        "id": "AaGtAwOkV1ZY",
        "colab": {
          "base_uri": "https://localhost:8080/"
        },
        "outputId": "74923a2b-fe7f-408a-a585-e1d16e854665"
      },
      "source": [
        "data.isnull().any()"
      ],
      "execution_count": null,
      "outputs": [
        {
          "output_type": "execute_result",
          "data": {
            "text/plain": [
              "No.                      False\n",
              "announce_date            False\n",
              "Notified date             True\n",
              "sex                       True\n",
              "age                      False\n",
              "Unit                     False\n",
              "nationality              False\n",
              "province_of_isolation     True\n",
              "risk                     False\n",
              "province_of_onset         True\n",
              "district_of_onset         True\n",
              "dtype: bool"
            ]
          },
          "metadata": {
            "tags": []
          },
          "execution_count": 44
        }
      ]
    },
    {
      "cell_type": "markdown",
      "metadata": {
        "id": "i73vnvRPb4v8"
      },
      "source": [
        "ถ้าเป็น ordinal ใช้ medain"
      ]
    },
    {
      "cell_type": "code",
      "metadata": {
        "id": "2GVI3Z1MV1XX",
        "colab": {
          "base_uri": "https://localhost:8080/"
        },
        "outputId": "dd0ac460-7d2b-4533-f4c2-a0e081c204b0"
      },
      "source": [
        "data.head(20)"
      ],
      "execution_count": null,
      "outputs": [
        {
          "output_type": "execute_result",
          "data": {
            "text/html": [
              "<div>\n",
              "<style scoped>\n",
              "    .dataframe tbody tr th:only-of-type {\n",
              "        vertical-align: middle;\n",
              "    }\n",
              "\n",
              "    .dataframe tbody tr th {\n",
              "        vertical-align: top;\n",
              "    }\n",
              "\n",
              "    .dataframe thead th {\n",
              "        text-align: right;\n",
              "    }\n",
              "</style>\n",
              "<table border=\"1\" class=\"dataframe\">\n",
              "  <thead>\n",
              "    <tr style=\"text-align: right;\">\n",
              "      <th></th>\n",
              "      <th>No.</th>\n",
              "      <th>announce_date</th>\n",
              "      <th>Notified date</th>\n",
              "      <th>sex</th>\n",
              "      <th>age</th>\n",
              "      <th>Unit</th>\n",
              "      <th>nationality</th>\n",
              "      <th>province_of_isolation</th>\n",
              "      <th>risk</th>\n",
              "      <th>province_of_onset</th>\n",
              "      <th>district_of_onset</th>\n",
              "    </tr>\n",
              "  </thead>\n",
              "  <tbody>\n",
              "    <tr>\n",
              "      <th>0</th>\n",
              "      <td>1</td>\n",
              "      <td>12/1/2020</td>\n",
              "      <td>NaN</td>\n",
              "      <td>หญิง</td>\n",
              "      <td>61</td>\n",
              "      <td>ปี</td>\n",
              "      <td>China</td>\n",
              "      <td>กรุงเทพมหานคร</td>\n",
              "      <td>คนต่างชาติเดินทางมาจากต่างประเทศ</td>\n",
              "      <td>กรุงเทพมหานคร</td>\n",
              "      <td>NaN</td>\n",
              "    </tr>\n",
              "    <tr>\n",
              "      <th>1</th>\n",
              "      <td>2</td>\n",
              "      <td>17/1/2020</td>\n",
              "      <td>NaN</td>\n",
              "      <td>หญิง</td>\n",
              "      <td>74</td>\n",
              "      <td>ปี</td>\n",
              "      <td>China</td>\n",
              "      <td>กรุงเทพมหานคร</td>\n",
              "      <td>คนต่างชาติเดินทางมาจากต่างประเทศ</td>\n",
              "      <td>กรุงเทพมหานคร</td>\n",
              "      <td>NaN</td>\n",
              "    </tr>\n",
              "    <tr>\n",
              "      <th>2</th>\n",
              "      <td>3</td>\n",
              "      <td>22/1/2020</td>\n",
              "      <td>NaN</td>\n",
              "      <td>หญิง</td>\n",
              "      <td>73</td>\n",
              "      <td>ปี</td>\n",
              "      <td>Thailand</td>\n",
              "      <td>นครปฐม</td>\n",
              "      <td>คนต่างชาติเดินทางมาจากต่างประเทศ</td>\n",
              "      <td>นครปฐม</td>\n",
              "      <td>เมือง</td>\n",
              "    </tr>\n",
              "    <tr>\n",
              "      <th>3</th>\n",
              "      <td>4</td>\n",
              "      <td>22/1/2020</td>\n",
              "      <td>NaN</td>\n",
              "      <td>ชาย</td>\n",
              "      <td>68</td>\n",
              "      <td>ปี</td>\n",
              "      <td>China</td>\n",
              "      <td>กรุงเทพมหานคร</td>\n",
              "      <td>คนต่างชาติเดินทางมาจากต่างประเทศ</td>\n",
              "      <td>กรุงเทพมหานคร</td>\n",
              "      <td>NaN</td>\n",
              "    </tr>\n",
              "    <tr>\n",
              "      <th>4</th>\n",
              "      <td>5</td>\n",
              "      <td>24/1/2020</td>\n",
              "      <td>NaN</td>\n",
              "      <td>หญิง</td>\n",
              "      <td>66</td>\n",
              "      <td>ปี</td>\n",
              "      <td>China</td>\n",
              "      <td>นนทบุรี</td>\n",
              "      <td>คนต่างชาติเดินทางมาจากต่างประเทศ</td>\n",
              "      <td>กรุงเทพมหานคร</td>\n",
              "      <td>NaN</td>\n",
              "    </tr>\n",
              "    <tr>\n",
              "      <th>5</th>\n",
              "      <td>6</td>\n",
              "      <td>25/1/2020</td>\n",
              "      <td>NaN</td>\n",
              "      <td>หญิง</td>\n",
              "      <td>33</td>\n",
              "      <td>ปี</td>\n",
              "      <td>China</td>\n",
              "      <td>กรุงเทพมหานคร</td>\n",
              "      <td>คนต่างชาติเดินทางมาจากต่างประเทศ</td>\n",
              "      <td>กรุงเทพมหานคร</td>\n",
              "      <td>NaN</td>\n",
              "    </tr>\n",
              "    <tr>\n",
              "      <th>6</th>\n",
              "      <td>7</td>\n",
              "      <td>26/1/2020</td>\n",
              "      <td>NaN</td>\n",
              "      <td>หญิง</td>\n",
              "      <td>57</td>\n",
              "      <td>ปี</td>\n",
              "      <td>China</td>\n",
              "      <td>กรุงเทพมหานคร</td>\n",
              "      <td>คนต่างชาติเดินทางมาจากต่างประเทศ</td>\n",
              "      <td>กรุงเทพมหานคร</td>\n",
              "      <td>NaN</td>\n",
              "    </tr>\n",
              "    <tr>\n",
              "      <th>7</th>\n",
              "      <td>8</td>\n",
              "      <td>26/1/2020</td>\n",
              "      <td>NaN</td>\n",
              "      <td>หญิง</td>\n",
              "      <td>73</td>\n",
              "      <td>ปี</td>\n",
              "      <td>China</td>\n",
              "      <td>ประจวบคีรีขันธ์</td>\n",
              "      <td>คนต่างชาติเดินทางมาจากต่างประเทศ</td>\n",
              "      <td>ประจวบคีรีขันธ์</td>\n",
              "      <td>หัวหิน</td>\n",
              "    </tr>\n",
              "    <tr>\n",
              "      <th>8</th>\n",
              "      <td>9</td>\n",
              "      <td>28/1/2020</td>\n",
              "      <td>NaN</td>\n",
              "      <td>ชาย</td>\n",
              "      <td>63</td>\n",
              "      <td>ปี</td>\n",
              "      <td>China</td>\n",
              "      <td>กรุงเทพมหานคร</td>\n",
              "      <td>คนต่างชาติเดินทางมาจากต่างประเทศ</td>\n",
              "      <td>กรุงเทพมหานคร</td>\n",
              "      <td>NaN</td>\n",
              "    </tr>\n",
              "    <tr>\n",
              "      <th>9</th>\n",
              "      <td>10</td>\n",
              "      <td>28/1/2020</td>\n",
              "      <td>NaN</td>\n",
              "      <td>หญิง</td>\n",
              "      <td>28</td>\n",
              "      <td>ปี</td>\n",
              "      <td>China</td>\n",
              "      <td>นนทบุรี</td>\n",
              "      <td>คนต่างชาติเดินทางมาจากต่างประเทศ</td>\n",
              "      <td>นนทบุรี</td>\n",
              "      <td>NaN</td>\n",
              "    </tr>\n",
              "    <tr>\n",
              "      <th>10</th>\n",
              "      <td>11</td>\n",
              "      <td>28/1/2020</td>\n",
              "      <td>NaN</td>\n",
              "      <td>ชาย</td>\n",
              "      <td>33</td>\n",
              "      <td>ปี</td>\n",
              "      <td>China</td>\n",
              "      <td>กรุงเทพมหานคร</td>\n",
              "      <td>สัมผัสใกล้ชิดกับผู้ป่วยยืนยันรายก่อนหน้านี้</td>\n",
              "      <td>กรุงเทพมหานคร</td>\n",
              "      <td>NaN</td>\n",
              "    </tr>\n",
              "    <tr>\n",
              "      <th>11</th>\n",
              "      <td>12</td>\n",
              "      <td>28/1/2020</td>\n",
              "      <td>NaN</td>\n",
              "      <td>ชาย</td>\n",
              "      <td>61</td>\n",
              "      <td>ปี</td>\n",
              "      <td>China</td>\n",
              "      <td>กรุงเทพมหานคร</td>\n",
              "      <td>สัมผัสใกล้ชิดกับผู้ป่วยยืนยันรายก่อนหน้านี้</td>\n",
              "      <td>กรุงเทพมหานคร</td>\n",
              "      <td>NaN</td>\n",
              "    </tr>\n",
              "    <tr>\n",
              "      <th>12</th>\n",
              "      <td>13</td>\n",
              "      <td>28/1/2020</td>\n",
              "      <td>NaN</td>\n",
              "      <td>ชาย</td>\n",
              "      <td>6</td>\n",
              "      <td>ปี</td>\n",
              "      <td>China</td>\n",
              "      <td>กรุงเทพมหานคร</td>\n",
              "      <td>สัมผัสใกล้ชิดกับผู้ป่วยยืนยันรายก่อนหน้านี้</td>\n",
              "      <td>กรุงเทพมหานคร</td>\n",
              "      <td>NaN</td>\n",
              "    </tr>\n",
              "    <tr>\n",
              "      <th>13</th>\n",
              "      <td>14</td>\n",
              "      <td>28/1/2020</td>\n",
              "      <td>NaN</td>\n",
              "      <td>หญิง</td>\n",
              "      <td>32</td>\n",
              "      <td>ปี</td>\n",
              "      <td>China</td>\n",
              "      <td>ภูเก็ต</td>\n",
              "      <td>คนต่างชาติเดินทางมาจากต่างประเทศ</td>\n",
              "      <td>ภูเก็ต</td>\n",
              "      <td>เมือง</td>\n",
              "    </tr>\n",
              "    <tr>\n",
              "      <th>14</th>\n",
              "      <td>15</td>\n",
              "      <td>31/1/2020</td>\n",
              "      <td>NaN</td>\n",
              "      <td>ชาย</td>\n",
              "      <td>56</td>\n",
              "      <td>ปี</td>\n",
              "      <td>China</td>\n",
              "      <td>กรุงเทพมหานคร</td>\n",
              "      <td>คนต่างชาติเดินทางมาจากต่างประเทศ</td>\n",
              "      <td>กรุงเทพมหานคร</td>\n",
              "      <td>NaN</td>\n",
              "    </tr>\n",
              "    <tr>\n",
              "      <th>15</th>\n",
              "      <td>16</td>\n",
              "      <td>31/1/2020</td>\n",
              "      <td>NaN</td>\n",
              "      <td>ชาย</td>\n",
              "      <td>50</td>\n",
              "      <td>ปี</td>\n",
              "      <td>Thailand</td>\n",
              "      <td>กรุงเทพมหานคร</td>\n",
              "      <td>อาชีพเสี่ยง เช่น ทำงานในสถานที่แออัด หรือทำงาน...</td>\n",
              "      <td>กรุงเทพมหานคร</td>\n",
              "      <td>NaN</td>\n",
              "    </tr>\n",
              "    <tr>\n",
              "      <th>16</th>\n",
              "      <td>17</td>\n",
              "      <td>31/1/2020</td>\n",
              "      <td>NaN</td>\n",
              "      <td>ชาย</td>\n",
              "      <td>28</td>\n",
              "      <td>ปี</td>\n",
              "      <td>China</td>\n",
              "      <td>เชียงใหม่</td>\n",
              "      <td>คนต่างชาติเดินทางมาจากต่างประเทศ</td>\n",
              "      <td>เชียงใหม่</td>\n",
              "      <td>หางดง</td>\n",
              "    </tr>\n",
              "    <tr>\n",
              "      <th>17</th>\n",
              "      <td>18</td>\n",
              "      <td>31/1/2020</td>\n",
              "      <td>NaN</td>\n",
              "      <td>ชาย</td>\n",
              "      <td>30</td>\n",
              "      <td>ปี</td>\n",
              "      <td>China</td>\n",
              "      <td>กรุงเทพมหานคร</td>\n",
              "      <td>คนต่างชาติเดินทางมาจากต่างประเทศ</td>\n",
              "      <td>กรุงเทพมหานคร</td>\n",
              "      <td>NaN</td>\n",
              "    </tr>\n",
              "    <tr>\n",
              "      <th>18</th>\n",
              "      <td>19</td>\n",
              "      <td>31/1/2020</td>\n",
              "      <td>NaN</td>\n",
              "      <td>ชาย</td>\n",
              "      <td>33</td>\n",
              "      <td>ปี</td>\n",
              "      <td>China</td>\n",
              "      <td>กรุงเทพมหานคร</td>\n",
              "      <td>คนต่างชาติเดินทางมาจากต่างประเทศ</td>\n",
              "      <td>กรุงเทพมหานคร</td>\n",
              "      <td>NaN</td>\n",
              "    </tr>\n",
              "    <tr>\n",
              "      <th>19</th>\n",
              "      <td>20</td>\n",
              "      <td>4/2/2020</td>\n",
              "      <td>NaN</td>\n",
              "      <td>หญิง</td>\n",
              "      <td>43</td>\n",
              "      <td>ปี</td>\n",
              "      <td>Thailand</td>\n",
              "      <td>กรุงเทพมหานคร</td>\n",
              "      <td>คนไทยเดินทางกลับจากต่างประเทศ</td>\n",
              "      <td>กรุงเทพมหานคร</td>\n",
              "      <td>NaN</td>\n",
              "    </tr>\n",
              "  </tbody>\n",
              "</table>\n",
              "</div>"
            ],
            "text/plain": [
              "    No. announce_date  ... province_of_onset district_of_onset\n",
              "0     1     12/1/2020  ...     กรุงเทพมหานคร               NaN\n",
              "1     2     17/1/2020  ...     กรุงเทพมหานคร               NaN\n",
              "2     3     22/1/2020  ...            นครปฐม             เมือง\n",
              "3     4     22/1/2020  ...     กรุงเทพมหานคร               NaN\n",
              "4     5     24/1/2020  ...     กรุงเทพมหานคร               NaN\n",
              "5     6     25/1/2020  ...     กรุงเทพมหานคร               NaN\n",
              "6     7     26/1/2020  ...     กรุงเทพมหานคร               NaN\n",
              "7     8     26/1/2020  ...   ประจวบคีรีขันธ์            หัวหิน\n",
              "8     9     28/1/2020  ...     กรุงเทพมหานคร               NaN\n",
              "9    10     28/1/2020  ...           นนทบุรี               NaN\n",
              "10   11     28/1/2020  ...     กรุงเทพมหานคร               NaN\n",
              "11   12     28/1/2020  ...     กรุงเทพมหานคร               NaN\n",
              "12   13     28/1/2020  ...     กรุงเทพมหานคร               NaN\n",
              "13   14     28/1/2020  ...            ภูเก็ต             เมือง\n",
              "14   15     31/1/2020  ...     กรุงเทพมหานคร               NaN\n",
              "15   16     31/1/2020  ...     กรุงเทพมหานคร               NaN\n",
              "16   17     31/1/2020  ...         เชียงใหม่             หางดง\n",
              "17   18     31/1/2020  ...     กรุงเทพมหานคร               NaN\n",
              "18   19     31/1/2020  ...     กรุงเทพมหานคร               NaN\n",
              "19   20      4/2/2020  ...     กรุงเทพมหานคร               NaN\n",
              "\n",
              "[20 rows x 11 columns]"
            ]
          },
          "metadata": {
            "tags": []
          },
          "execution_count": 45
        }
      ]
    },
    {
      "cell_type": "markdown",
      "metadata": {
        "id": "I-Mcmdi9celp"
      },
      "source": [
        "## Handling Missing Value 5 (แทนด้วย column ใกล้เคียง)"
      ]
    },
    {
      "cell_type": "code",
      "metadata": {
        "id": "G2GTO1k6V1Sb",
        "colab": {
          "base_uri": "https://localhost:8080/"
        },
        "outputId": "20b7c9ff-0c59-4fb2-a69c-4375ee1013fe"
      },
      "source": [
        "data_cases2 = pd.read_csv(os.path.join(path,'confirmed-cases.csv'))\n",
        "data_cases2"
      ],
      "execution_count": null,
      "outputs": [
        {
          "output_type": "execute_result",
          "data": {
            "text/html": [
              "<div>\n",
              "<style scoped>\n",
              "    .dataframe tbody tr th:only-of-type {\n",
              "        vertical-align: middle;\n",
              "    }\n",
              "\n",
              "    .dataframe tbody tr th {\n",
              "        vertical-align: top;\n",
              "    }\n",
              "\n",
              "    .dataframe thead th {\n",
              "        text-align: right;\n",
              "    }\n",
              "</style>\n",
              "<table border=\"1\" class=\"dataframe\">\n",
              "  <thead>\n",
              "    <tr style=\"text-align: right;\">\n",
              "      <th></th>\n",
              "      <th>No.</th>\n",
              "      <th>announce_date</th>\n",
              "      <th>Notified date</th>\n",
              "      <th>sex</th>\n",
              "      <th>age</th>\n",
              "      <th>Unit</th>\n",
              "      <th>nationality</th>\n",
              "      <th>province_of_isolation</th>\n",
              "      <th>risk</th>\n",
              "      <th>province_of_onset</th>\n",
              "      <th>district_of_onset</th>\n",
              "    </tr>\n",
              "  </thead>\n",
              "  <tbody>\n",
              "    <tr>\n",
              "      <th>0</th>\n",
              "      <td>1</td>\n",
              "      <td>12/1/2020</td>\n",
              "      <td>NaN</td>\n",
              "      <td>หญิง</td>\n",
              "      <td>61.0</td>\n",
              "      <td>ปี</td>\n",
              "      <td>China</td>\n",
              "      <td>กรุงเทพมหานคร</td>\n",
              "      <td>คนต่างชาติเดินทางมาจากต่างประเทศ</td>\n",
              "      <td>กรุงเทพมหานคร</td>\n",
              "      <td>NaN</td>\n",
              "    </tr>\n",
              "    <tr>\n",
              "      <th>1</th>\n",
              "      <td>2</td>\n",
              "      <td>17/1/2020</td>\n",
              "      <td>NaN</td>\n",
              "      <td>หญิง</td>\n",
              "      <td>74.0</td>\n",
              "      <td>ปี</td>\n",
              "      <td>China</td>\n",
              "      <td>กรุงเทพมหานคร</td>\n",
              "      <td>คนต่างชาติเดินทางมาจากต่างประเทศ</td>\n",
              "      <td>กรุงเทพมหานคร</td>\n",
              "      <td>NaN</td>\n",
              "    </tr>\n",
              "    <tr>\n",
              "      <th>2</th>\n",
              "      <td>3</td>\n",
              "      <td>22/1/2020</td>\n",
              "      <td>NaN</td>\n",
              "      <td>หญิง</td>\n",
              "      <td>73.0</td>\n",
              "      <td>ปี</td>\n",
              "      <td>Thailand</td>\n",
              "      <td>นครปฐม</td>\n",
              "      <td>คนต่างชาติเดินทางมาจากต่างประเทศ</td>\n",
              "      <td>นครปฐม</td>\n",
              "      <td>เมือง</td>\n",
              "    </tr>\n",
              "    <tr>\n",
              "      <th>3</th>\n",
              "      <td>4</td>\n",
              "      <td>22/1/2020</td>\n",
              "      <td>NaN</td>\n",
              "      <td>ชาย</td>\n",
              "      <td>68.0</td>\n",
              "      <td>ปี</td>\n",
              "      <td>China</td>\n",
              "      <td>กรุงเทพมหานคร</td>\n",
              "      <td>คนต่างชาติเดินทางมาจากต่างประเทศ</td>\n",
              "      <td>กรุงเทพมหานคร</td>\n",
              "      <td>NaN</td>\n",
              "    </tr>\n",
              "    <tr>\n",
              "      <th>4</th>\n",
              "      <td>5</td>\n",
              "      <td>24/1/2020</td>\n",
              "      <td>NaN</td>\n",
              "      <td>หญิง</td>\n",
              "      <td>66.0</td>\n",
              "      <td>ปี</td>\n",
              "      <td>China</td>\n",
              "      <td>นนทบุรี</td>\n",
              "      <td>คนต่างชาติเดินทางมาจากต่างประเทศ</td>\n",
              "      <td>กรุงเทพมหานคร</td>\n",
              "      <td>NaN</td>\n",
              "    </tr>\n",
              "    <tr>\n",
              "      <th>...</th>\n",
              "      <td>...</td>\n",
              "      <td>...</td>\n",
              "      <td>...</td>\n",
              "      <td>...</td>\n",
              "      <td>...</td>\n",
              "      <td>...</td>\n",
              "      <td>...</td>\n",
              "      <td>...</td>\n",
              "      <td>...</td>\n",
              "      <td>...</td>\n",
              "      <td>...</td>\n",
              "    </tr>\n",
              "    <tr>\n",
              "      <th>512617</th>\n",
              "      <td>512618</td>\n",
              "      <td>26/7/2021</td>\n",
              "      <td>25/7/2021</td>\n",
              "      <td>ชาย</td>\n",
              "      <td>NaN</td>\n",
              "      <td>NaN</td>\n",
              "      <td>NaN</td>\n",
              "      <td>ชลบุรี</td>\n",
              "      <td>ทัณฑสถาน/เรือนจำ</td>\n",
              "      <td>NaN</td>\n",
              "      <td>NaN</td>\n",
              "    </tr>\n",
              "    <tr>\n",
              "      <th>512618</th>\n",
              "      <td>512619</td>\n",
              "      <td>26/7/2021</td>\n",
              "      <td>25/7/2021</td>\n",
              "      <td>ชาย</td>\n",
              "      <td>NaN</td>\n",
              "      <td>NaN</td>\n",
              "      <td>NaN</td>\n",
              "      <td>ชลบุรี</td>\n",
              "      <td>ทัณฑสถาน/เรือนจำ</td>\n",
              "      <td>NaN</td>\n",
              "      <td>NaN</td>\n",
              "    </tr>\n",
              "    <tr>\n",
              "      <th>512619</th>\n",
              "      <td>512620</td>\n",
              "      <td>26/7/2021</td>\n",
              "      <td>25/7/2021</td>\n",
              "      <td>ชาย</td>\n",
              "      <td>NaN</td>\n",
              "      <td>NaN</td>\n",
              "      <td>NaN</td>\n",
              "      <td>ชลบุรี</td>\n",
              "      <td>ทัณฑสถาน/เรือนจำ</td>\n",
              "      <td>NaN</td>\n",
              "      <td>NaN</td>\n",
              "    </tr>\n",
              "    <tr>\n",
              "      <th>512620</th>\n",
              "      <td>512621</td>\n",
              "      <td>26/7/2021</td>\n",
              "      <td>25/7/2021</td>\n",
              "      <td>ชาย</td>\n",
              "      <td>NaN</td>\n",
              "      <td>NaN</td>\n",
              "      <td>NaN</td>\n",
              "      <td>ชลบุรี</td>\n",
              "      <td>ทัณฑสถาน/เรือนจำ</td>\n",
              "      <td>NaN</td>\n",
              "      <td>NaN</td>\n",
              "    </tr>\n",
              "    <tr>\n",
              "      <th>512621</th>\n",
              "      <td>512622</td>\n",
              "      <td>26/7/2021</td>\n",
              "      <td>25/7/2021</td>\n",
              "      <td>ชาย</td>\n",
              "      <td>NaN</td>\n",
              "      <td>NaN</td>\n",
              "      <td>NaN</td>\n",
              "      <td>ชลบุรี</td>\n",
              "      <td>ทัณฑสถาน/เรือนจำ</td>\n",
              "      <td>NaN</td>\n",
              "      <td>NaN</td>\n",
              "    </tr>\n",
              "  </tbody>\n",
              "</table>\n",
              "<p>512622 rows × 11 columns</p>\n",
              "</div>"
            ],
            "text/plain": [
              "           No. announce_date  ... province_of_onset district_of_onset\n",
              "0            1     12/1/2020  ...     กรุงเทพมหานคร               NaN\n",
              "1            2     17/1/2020  ...     กรุงเทพมหานคร               NaN\n",
              "2            3     22/1/2020  ...            นครปฐม             เมือง\n",
              "3            4     22/1/2020  ...     กรุงเทพมหานคร               NaN\n",
              "4            5     24/1/2020  ...     กรุงเทพมหานคร               NaN\n",
              "...        ...           ...  ...               ...               ...\n",
              "512617  512618     26/7/2021  ...               NaN               NaN\n",
              "512618  512619     26/7/2021  ...               NaN               NaN\n",
              "512619  512620     26/7/2021  ...               NaN               NaN\n",
              "512620  512621     26/7/2021  ...               NaN               NaN\n",
              "512621  512622     26/7/2021  ...               NaN               NaN\n",
              "\n",
              "[512622 rows x 11 columns]"
            ]
          },
          "metadata": {
            "tags": []
          },
          "execution_count": 46
        }
      ]
    },
    {
      "cell_type": "markdown",
      "metadata": {
        "id": "ZveBEdFO28Wp"
      },
      "source": [
        "##Select data by values [PD]\n",
        "\n",
        "การเลือก record สามารถเลือกโดยใช้ list ของ boolean(ความยาวของ list เท่ากับ จำนวน record)\n",
        "\n",
        "ชื่อตาราง[list ของ boolean]\n",
        "\n",
        "**สร้าง list ของ boolean**"
      ]
    },
    {
      "cell_type": "code",
      "metadata": {
        "id": "fNF8sZEeV1PN",
        "colab": {
          "base_uri": "https://localhost:8080/"
        },
        "outputId": "193e7be3-5a83-4022-a739-213085379df0"
      },
      "source": [
        "data_cases2['risk'] == 'ทัณฑสถาน/เรือนจำ'"
      ],
      "execution_count": null,
      "outputs": [
        {
          "output_type": "execute_result",
          "data": {
            "text/plain": [
              "0         False\n",
              "1         False\n",
              "2         False\n",
              "3         False\n",
              "4         False\n",
              "          ...  \n",
              "512617     True\n",
              "512618     True\n",
              "512619     True\n",
              "512620     True\n",
              "512621     True\n",
              "Name: risk, Length: 512622, dtype: bool"
            ]
          },
          "metadata": {
            "tags": []
          },
          "execution_count": 47
        }
      ]
    },
    {
      "cell_type": "markdown",
      "metadata": {
        "id": "N_teo6Mn3Khc"
      },
      "source": [
        "**นำ list ของ boolean มาเลือกค่าในตาราง**"
      ]
    },
    {
      "cell_type": "code",
      "metadata": {
        "id": "xF20Pfk3V1MV",
        "colab": {
          "base_uri": "https://localhost:8080/"
        },
        "outputId": "b1a1c57c-8ab1-4729-ce63-353bfc9ef4a5"
      },
      "source": [
        "data_cases2[data_cases2['risk'] == 'ทัณฑสถาน/เรือนจำ']"
      ],
      "execution_count": null,
      "outputs": [
        {
          "output_type": "execute_result",
          "data": {
            "text/html": [
              "<div>\n",
              "<style scoped>\n",
              "    .dataframe tbody tr th:only-of-type {\n",
              "        vertical-align: middle;\n",
              "    }\n",
              "\n",
              "    .dataframe tbody tr th {\n",
              "        vertical-align: top;\n",
              "    }\n",
              "\n",
              "    .dataframe thead th {\n",
              "        text-align: right;\n",
              "    }\n",
              "</style>\n",
              "<table border=\"1\" class=\"dataframe\">\n",
              "  <thead>\n",
              "    <tr style=\"text-align: right;\">\n",
              "      <th></th>\n",
              "      <th>No.</th>\n",
              "      <th>announce_date</th>\n",
              "      <th>Notified date</th>\n",
              "      <th>sex</th>\n",
              "      <th>age</th>\n",
              "      <th>Unit</th>\n",
              "      <th>nationality</th>\n",
              "      <th>province_of_isolation</th>\n",
              "      <th>risk</th>\n",
              "      <th>province_of_onset</th>\n",
              "      <th>district_of_onset</th>\n",
              "    </tr>\n",
              "  </thead>\n",
              "  <tbody>\n",
              "    <tr>\n",
              "      <th>100018</th>\n",
              "      <td>100019</td>\n",
              "      <td>16/5/2021</td>\n",
              "      <td>15/5/2021</td>\n",
              "      <td>หญิง</td>\n",
              "      <td>26.0</td>\n",
              "      <td>ปี</td>\n",
              "      <td>Thailand</td>\n",
              "      <td>ฉะเชิงเทรา</td>\n",
              "      <td>ทัณฑสถาน/เรือนจำ</td>\n",
              "      <td>ฉะเชิงเทรา</td>\n",
              "      <td>เมืองฉะเชิงเทรา‎</td>\n",
              "    </tr>\n",
              "    <tr>\n",
              "      <th>100019</th>\n",
              "      <td>100020</td>\n",
              "      <td>16/5/2021</td>\n",
              "      <td>15/5/2021</td>\n",
              "      <td>หญิง</td>\n",
              "      <td>41.0</td>\n",
              "      <td>ปี</td>\n",
              "      <td>Thailand</td>\n",
              "      <td>ฉะเชิงเทรา</td>\n",
              "      <td>ทัณฑสถาน/เรือนจำ</td>\n",
              "      <td>ฉะเชิงเทรา</td>\n",
              "      <td>เมืองฉะเชิงเทรา‎</td>\n",
              "    </tr>\n",
              "    <tr>\n",
              "      <th>101468</th>\n",
              "      <td>101469</td>\n",
              "      <td>17/5/2021</td>\n",
              "      <td>16/5/2021</td>\n",
              "      <td>NaN</td>\n",
              "      <td>NaN</td>\n",
              "      <td>NaN</td>\n",
              "      <td>NaN</td>\n",
              "      <td>เชียงใหม่</td>\n",
              "      <td>ทัณฑสถาน/เรือนจำ</td>\n",
              "      <td>NaN</td>\n",
              "      <td>NaN</td>\n",
              "    </tr>\n",
              "    <tr>\n",
              "      <th>101469</th>\n",
              "      <td>101470</td>\n",
              "      <td>17/5/2021</td>\n",
              "      <td>16/5/2021</td>\n",
              "      <td>NaN</td>\n",
              "      <td>NaN</td>\n",
              "      <td>NaN</td>\n",
              "      <td>NaN</td>\n",
              "      <td>เชียงใหม่</td>\n",
              "      <td>ทัณฑสถาน/เรือนจำ</td>\n",
              "      <td>NaN</td>\n",
              "      <td>NaN</td>\n",
              "    </tr>\n",
              "    <tr>\n",
              "      <th>101470</th>\n",
              "      <td>101471</td>\n",
              "      <td>17/5/2021</td>\n",
              "      <td>16/5/2021</td>\n",
              "      <td>NaN</td>\n",
              "      <td>NaN</td>\n",
              "      <td>NaN</td>\n",
              "      <td>NaN</td>\n",
              "      <td>เชียงใหม่</td>\n",
              "      <td>ทัณฑสถาน/เรือนจำ</td>\n",
              "      <td>NaN</td>\n",
              "      <td>NaN</td>\n",
              "    </tr>\n",
              "    <tr>\n",
              "      <th>...</th>\n",
              "      <td>...</td>\n",
              "      <td>...</td>\n",
              "      <td>...</td>\n",
              "      <td>...</td>\n",
              "      <td>...</td>\n",
              "      <td>...</td>\n",
              "      <td>...</td>\n",
              "      <td>...</td>\n",
              "      <td>...</td>\n",
              "      <td>...</td>\n",
              "      <td>...</td>\n",
              "    </tr>\n",
              "    <tr>\n",
              "      <th>512617</th>\n",
              "      <td>512618</td>\n",
              "      <td>26/7/2021</td>\n",
              "      <td>25/7/2021</td>\n",
              "      <td>ชาย</td>\n",
              "      <td>NaN</td>\n",
              "      <td>NaN</td>\n",
              "      <td>NaN</td>\n",
              "      <td>ชลบุรี</td>\n",
              "      <td>ทัณฑสถาน/เรือนจำ</td>\n",
              "      <td>NaN</td>\n",
              "      <td>NaN</td>\n",
              "    </tr>\n",
              "    <tr>\n",
              "      <th>512618</th>\n",
              "      <td>512619</td>\n",
              "      <td>26/7/2021</td>\n",
              "      <td>25/7/2021</td>\n",
              "      <td>ชาย</td>\n",
              "      <td>NaN</td>\n",
              "      <td>NaN</td>\n",
              "      <td>NaN</td>\n",
              "      <td>ชลบุรี</td>\n",
              "      <td>ทัณฑสถาน/เรือนจำ</td>\n",
              "      <td>NaN</td>\n",
              "      <td>NaN</td>\n",
              "    </tr>\n",
              "    <tr>\n",
              "      <th>512619</th>\n",
              "      <td>512620</td>\n",
              "      <td>26/7/2021</td>\n",
              "      <td>25/7/2021</td>\n",
              "      <td>ชาย</td>\n",
              "      <td>NaN</td>\n",
              "      <td>NaN</td>\n",
              "      <td>NaN</td>\n",
              "      <td>ชลบุรี</td>\n",
              "      <td>ทัณฑสถาน/เรือนจำ</td>\n",
              "      <td>NaN</td>\n",
              "      <td>NaN</td>\n",
              "    </tr>\n",
              "    <tr>\n",
              "      <th>512620</th>\n",
              "      <td>512621</td>\n",
              "      <td>26/7/2021</td>\n",
              "      <td>25/7/2021</td>\n",
              "      <td>ชาย</td>\n",
              "      <td>NaN</td>\n",
              "      <td>NaN</td>\n",
              "      <td>NaN</td>\n",
              "      <td>ชลบุรี</td>\n",
              "      <td>ทัณฑสถาน/เรือนจำ</td>\n",
              "      <td>NaN</td>\n",
              "      <td>NaN</td>\n",
              "    </tr>\n",
              "    <tr>\n",
              "      <th>512621</th>\n",
              "      <td>512622</td>\n",
              "      <td>26/7/2021</td>\n",
              "      <td>25/7/2021</td>\n",
              "      <td>ชาย</td>\n",
              "      <td>NaN</td>\n",
              "      <td>NaN</td>\n",
              "      <td>NaN</td>\n",
              "      <td>ชลบุรี</td>\n",
              "      <td>ทัณฑสถาน/เรือนจำ</td>\n",
              "      <td>NaN</td>\n",
              "      <td>NaN</td>\n",
              "    </tr>\n",
              "  </tbody>\n",
              "</table>\n",
              "<p>41331 rows × 11 columns</p>\n",
              "</div>"
            ],
            "text/plain": [
              "           No. announce_date  ... province_of_onset district_of_onset\n",
              "100018  100019     16/5/2021  ...        ฉะเชิงเทรา  เมืองฉะเชิงเทรา‎\n",
              "100019  100020     16/5/2021  ...        ฉะเชิงเทรา  เมืองฉะเชิงเทรา‎\n",
              "101468  101469     17/5/2021  ...               NaN               NaN\n",
              "101469  101470     17/5/2021  ...               NaN               NaN\n",
              "101470  101471     17/5/2021  ...               NaN               NaN\n",
              "...        ...           ...  ...               ...               ...\n",
              "512617  512618     26/7/2021  ...               NaN               NaN\n",
              "512618  512619     26/7/2021  ...               NaN               NaN\n",
              "512619  512620     26/7/2021  ...               NaN               NaN\n",
              "512620  512621     26/7/2021  ...               NaN               NaN\n",
              "512621  512622     26/7/2021  ...               NaN               NaN\n",
              "\n",
              "[41331 rows x 11 columns]"
            ]
          },
          "metadata": {
            "tags": []
          },
          "execution_count": 48
        }
      ]
    },
    {
      "cell_type": "markdown",
      "metadata": {
        "id": "hLYXm1kH3XSw"
      },
      "source": [
        "**สร้าง list ของ boolean**"
      ]
    },
    {
      "cell_type": "code",
      "metadata": {
        "id": "NkqkYEOWV1Hq",
        "colab": {
          "base_uri": "https://localhost:8080/"
        },
        "outputId": "131bcb62-f7bb-47a0-c895-254d0ef2bef2"
      },
      "source": [
        "data_cases2['age'] > 70"
      ],
      "execution_count": null,
      "outputs": [
        {
          "output_type": "execute_result",
          "data": {
            "text/plain": [
              "0         False\n",
              "1          True\n",
              "2          True\n",
              "3         False\n",
              "4         False\n",
              "          ...  \n",
              "512617    False\n",
              "512618    False\n",
              "512619    False\n",
              "512620    False\n",
              "512621    False\n",
              "Name: age, Length: 512622, dtype: bool"
            ]
          },
          "metadata": {
            "tags": []
          },
          "execution_count": 49
        }
      ]
    },
    {
      "cell_type": "code",
      "metadata": {
        "id": "HrHWjgkeV1EY",
        "colab": {
          "base_uri": "https://localhost:8080/"
        },
        "outputId": "f9b03a3c-3214-4956-d276-69d788d964a3"
      },
      "source": [
        "data_cases2[data_cases2['age'] > 70]"
      ],
      "execution_count": null,
      "outputs": [
        {
          "output_type": "execute_result",
          "data": {
            "text/html": [
              "<div>\n",
              "<style scoped>\n",
              "    .dataframe tbody tr th:only-of-type {\n",
              "        vertical-align: middle;\n",
              "    }\n",
              "\n",
              "    .dataframe tbody tr th {\n",
              "        vertical-align: top;\n",
              "    }\n",
              "\n",
              "    .dataframe thead th {\n",
              "        text-align: right;\n",
              "    }\n",
              "</style>\n",
              "<table border=\"1\" class=\"dataframe\">\n",
              "  <thead>\n",
              "    <tr style=\"text-align: right;\">\n",
              "      <th></th>\n",
              "      <th>No.</th>\n",
              "      <th>announce_date</th>\n",
              "      <th>Notified date</th>\n",
              "      <th>sex</th>\n",
              "      <th>age</th>\n",
              "      <th>Unit</th>\n",
              "      <th>nationality</th>\n",
              "      <th>province_of_isolation</th>\n",
              "      <th>risk</th>\n",
              "      <th>province_of_onset</th>\n",
              "      <th>district_of_onset</th>\n",
              "    </tr>\n",
              "  </thead>\n",
              "  <tbody>\n",
              "    <tr>\n",
              "      <th>1</th>\n",
              "      <td>2</td>\n",
              "      <td>17/1/2020</td>\n",
              "      <td>NaN</td>\n",
              "      <td>หญิง</td>\n",
              "      <td>74.0</td>\n",
              "      <td>ปี</td>\n",
              "      <td>China</td>\n",
              "      <td>กรุงเทพมหานคร</td>\n",
              "      <td>คนต่างชาติเดินทางมาจากต่างประเทศ</td>\n",
              "      <td>กรุงเทพมหานคร</td>\n",
              "      <td>NaN</td>\n",
              "    </tr>\n",
              "    <tr>\n",
              "      <th>2</th>\n",
              "      <td>3</td>\n",
              "      <td>22/1/2020</td>\n",
              "      <td>NaN</td>\n",
              "      <td>หญิง</td>\n",
              "      <td>73.0</td>\n",
              "      <td>ปี</td>\n",
              "      <td>Thailand</td>\n",
              "      <td>นครปฐม</td>\n",
              "      <td>คนต่างชาติเดินทางมาจากต่างประเทศ</td>\n",
              "      <td>นครปฐม</td>\n",
              "      <td>เมือง</td>\n",
              "    </tr>\n",
              "    <tr>\n",
              "      <th>7</th>\n",
              "      <td>8</td>\n",
              "      <td>26/1/2020</td>\n",
              "      <td>NaN</td>\n",
              "      <td>หญิง</td>\n",
              "      <td>73.0</td>\n",
              "      <td>ปี</td>\n",
              "      <td>China</td>\n",
              "      <td>ประจวบคีรีขันธ์</td>\n",
              "      <td>คนต่างชาติเดินทางมาจากต่างประเทศ</td>\n",
              "      <td>ประจวบคีรีขันธ์</td>\n",
              "      <td>หัวหิน</td>\n",
              "    </tr>\n",
              "    <tr>\n",
              "      <th>82</th>\n",
              "      <td>83</td>\n",
              "      <td>15/3/2020</td>\n",
              "      <td>NaN</td>\n",
              "      <td>ชาย</td>\n",
              "      <td>76.0</td>\n",
              "      <td>ปี</td>\n",
              "      <td>Thailand</td>\n",
              "      <td>กรุงเทพมหานคร</td>\n",
              "      <td>สนามมวย</td>\n",
              "      <td>กรุงเทพมหานคร</td>\n",
              "      <td>NaN</td>\n",
              "    </tr>\n",
              "    <tr>\n",
              "      <th>119</th>\n",
              "      <td>120</td>\n",
              "      <td>16/3/2020</td>\n",
              "      <td>NaN</td>\n",
              "      <td>ชาย</td>\n",
              "      <td>73.0</td>\n",
              "      <td>ปี</td>\n",
              "      <td>Thailand</td>\n",
              "      <td>กรุงเทพมหานคร</td>\n",
              "      <td>สนามมวย</td>\n",
              "      <td>ฉะเชิงเทรา</td>\n",
              "      <td>NaN</td>\n",
              "    </tr>\n",
              "    <tr>\n",
              "      <th>...</th>\n",
              "      <td>...</td>\n",
              "      <td>...</td>\n",
              "      <td>...</td>\n",
              "      <td>...</td>\n",
              "      <td>...</td>\n",
              "      <td>...</td>\n",
              "      <td>...</td>\n",
              "      <td>...</td>\n",
              "      <td>...</td>\n",
              "      <td>...</td>\n",
              "      <td>...</td>\n",
              "    </tr>\n",
              "    <tr>\n",
              "      <th>511418</th>\n",
              "      <td>511419</td>\n",
              "      <td>26/7/2021</td>\n",
              "      <td>25/7/2021</td>\n",
              "      <td>หญิง</td>\n",
              "      <td>73.0</td>\n",
              "      <td>ปี</td>\n",
              "      <td>Thailand</td>\n",
              "      <td>กรุงเทพมหานคร</td>\n",
              "      <td>การค้นหาผู้ป่วยเชิงรุกและค้นหาผู้ติดเชื้อในชุมชน</td>\n",
              "      <td>กรุงเทพมหานคร</td>\n",
              "      <td>ราชเทวี</td>\n",
              "    </tr>\n",
              "    <tr>\n",
              "      <th>511463</th>\n",
              "      <td>511464</td>\n",
              "      <td>26/7/2021</td>\n",
              "      <td>25/7/2021</td>\n",
              "      <td>หญิง</td>\n",
              "      <td>83.0</td>\n",
              "      <td>ปี</td>\n",
              "      <td>NaN</td>\n",
              "      <td>กรุงเทพมหานคร</td>\n",
              "      <td>การค้นหาผู้ป่วยเชิงรุกและค้นหาผู้ติดเชื้อในชุมชน</td>\n",
              "      <td>กรุงเทพมหานคร</td>\n",
              "      <td>บางบอน</td>\n",
              "    </tr>\n",
              "    <tr>\n",
              "      <th>511488</th>\n",
              "      <td>511489</td>\n",
              "      <td>26/7/2021</td>\n",
              "      <td>25/7/2021</td>\n",
              "      <td>ชาย</td>\n",
              "      <td>80.0</td>\n",
              "      <td>ปี</td>\n",
              "      <td>Thailand</td>\n",
              "      <td>กรุงเทพมหานคร</td>\n",
              "      <td>การค้นหาผู้ป่วยเชิงรุกและค้นหาผู้ติดเชื้อในชุมชน</td>\n",
              "      <td>กรุงเทพมหานคร</td>\n",
              "      <td>บางบอน</td>\n",
              "    </tr>\n",
              "    <tr>\n",
              "      <th>511506</th>\n",
              "      <td>511507</td>\n",
              "      <td>26/7/2021</td>\n",
              "      <td>25/7/2021</td>\n",
              "      <td>ชาย</td>\n",
              "      <td>71.0</td>\n",
              "      <td>ปี</td>\n",
              "      <td>Thailand</td>\n",
              "      <td>กรุงเทพมหานคร</td>\n",
              "      <td>การค้นหาผู้ป่วยเชิงรุกและค้นหาผู้ติดเชื้อในชุมชน</td>\n",
              "      <td>กรุงเทพมหานคร</td>\n",
              "      <td>สัมพันธวงศ์</td>\n",
              "    </tr>\n",
              "    <tr>\n",
              "      <th>511561</th>\n",
              "      <td>511562</td>\n",
              "      <td>26/7/2021</td>\n",
              "      <td>25/7/2021</td>\n",
              "      <td>ชาย</td>\n",
              "      <td>75.0</td>\n",
              "      <td>ปี</td>\n",
              "      <td>Thailand</td>\n",
              "      <td>กรุงเทพมหานคร</td>\n",
              "      <td>การค้นหาผู้ป่วยเชิงรุกและค้นหาผู้ติดเชื้อในชุมชน</td>\n",
              "      <td>กรุงเทพมหานคร</td>\n",
              "      <td>ธนบุรี</td>\n",
              "    </tr>\n",
              "  </tbody>\n",
              "</table>\n",
              "<p>11623 rows × 11 columns</p>\n",
              "</div>"
            ],
            "text/plain": [
              "           No. announce_date  ... province_of_onset district_of_onset\n",
              "1            2     17/1/2020  ...     กรุงเทพมหานคร               NaN\n",
              "2            3     22/1/2020  ...            นครปฐม             เมือง\n",
              "7            8     26/1/2020  ...   ประจวบคีรีขันธ์            หัวหิน\n",
              "82          83     15/3/2020  ...     กรุงเทพมหานคร               NaN\n",
              "119        120     16/3/2020  ...        ฉะเชิงเทรา               NaN\n",
              "...        ...           ...  ...               ...               ...\n",
              "511418  511419     26/7/2021  ...     กรุงเทพมหานคร           ราชเทวี\n",
              "511463  511464     26/7/2021  ...     กรุงเทพมหานคร            บางบอน\n",
              "511488  511489     26/7/2021  ...     กรุงเทพมหานคร            บางบอน\n",
              "511506  511507     26/7/2021  ...     กรุงเทพมหานคร       สัมพันธวงศ์\n",
              "511561  511562     26/7/2021  ...     กรุงเทพมหานคร            ธนบุรี\n",
              "\n",
              "[11623 rows x 11 columns]"
            ]
          },
          "metadata": {
            "tags": []
          },
          "execution_count": 50
        }
      ]
    },
    {
      "cell_type": "code",
      "metadata": {
        "id": "LdEYJe9NV09j"
      },
      "source": [
        "blist_age70up = data_cases2['age'] > 70"
      ],
      "execution_count": null,
      "outputs": []
    },
    {
      "cell_type": "code",
      "metadata": {
        "id": "dCWgnG4yV0zI",
        "colab": {
          "base_uri": "https://localhost:8080/"
        },
        "outputId": "cc14c544-05a4-4746-9397-b51848aab8c7"
      },
      "source": [
        "blist_female = data_cases2['sex'] == 'หญิง'\n",
        "blist_female"
      ],
      "execution_count": null,
      "outputs": [
        {
          "output_type": "execute_result",
          "data": {
            "text/plain": [
              "0          True\n",
              "1          True\n",
              "2          True\n",
              "3         False\n",
              "4          True\n",
              "          ...  \n",
              "512617    False\n",
              "512618    False\n",
              "512619    False\n",
              "512620    False\n",
              "512621    False\n",
              "Name: sex, Length: 512622, dtype: bool"
            ]
          },
          "metadata": {
            "tags": []
          },
          "execution_count": 52
        }
      ]
    },
    {
      "cell_type": "markdown",
      "metadata": {
        "id": "q6J7vfqR3mbw"
      },
      "source": [
        "###เราใช้ & (and) และ | (or) ในการรวม list ของ boolean"
      ]
    },
    {
      "cell_type": "code",
      "metadata": {
        "colab": {
          "base_uri": "https://localhost:8080/"
        },
        "id": "E0VBaY723p2g",
        "outputId": "0c7bc4f6-85fd-4677-8285-63b466d3a73d"
      },
      "source": [
        "blist_age70up & blist_female"
      ],
      "execution_count": null,
      "outputs": [
        {
          "output_type": "execute_result",
          "data": {
            "text/plain": [
              "0         False\n",
              "1          True\n",
              "2          True\n",
              "3         False\n",
              "4         False\n",
              "          ...  \n",
              "512617    False\n",
              "512618    False\n",
              "512619    False\n",
              "512620    False\n",
              "512621    False\n",
              "Length: 512622, dtype: bool"
            ]
          },
          "metadata": {
            "tags": []
          },
          "execution_count": 53
        }
      ]
    },
    {
      "cell_type": "code",
      "metadata": {
        "colab": {
          "base_uri": "https://localhost:8080/"
        },
        "id": "0kIBbmzM3tLA",
        "outputId": "42de5601-2245-4c54-ca11-fd5d67778462"
      },
      "source": [
        "data_cases2[blist_age70up & blist_female]"
      ],
      "execution_count": null,
      "outputs": [
        {
          "output_type": "execute_result",
          "data": {
            "text/html": [
              "<div>\n",
              "<style scoped>\n",
              "    .dataframe tbody tr th:only-of-type {\n",
              "        vertical-align: middle;\n",
              "    }\n",
              "\n",
              "    .dataframe tbody tr th {\n",
              "        vertical-align: top;\n",
              "    }\n",
              "\n",
              "    .dataframe thead th {\n",
              "        text-align: right;\n",
              "    }\n",
              "</style>\n",
              "<table border=\"1\" class=\"dataframe\">\n",
              "  <thead>\n",
              "    <tr style=\"text-align: right;\">\n",
              "      <th></th>\n",
              "      <th>No.</th>\n",
              "      <th>announce_date</th>\n",
              "      <th>Notified date</th>\n",
              "      <th>sex</th>\n",
              "      <th>age</th>\n",
              "      <th>Unit</th>\n",
              "      <th>nationality</th>\n",
              "      <th>province_of_isolation</th>\n",
              "      <th>risk</th>\n",
              "      <th>province_of_onset</th>\n",
              "      <th>district_of_onset</th>\n",
              "    </tr>\n",
              "  </thead>\n",
              "  <tbody>\n",
              "    <tr>\n",
              "      <th>1</th>\n",
              "      <td>2</td>\n",
              "      <td>17/1/2020</td>\n",
              "      <td>NaN</td>\n",
              "      <td>หญิง</td>\n",
              "      <td>74.0</td>\n",
              "      <td>ปี</td>\n",
              "      <td>China</td>\n",
              "      <td>กรุงเทพมหานคร</td>\n",
              "      <td>คนต่างชาติเดินทางมาจากต่างประเทศ</td>\n",
              "      <td>กรุงเทพมหานคร</td>\n",
              "      <td>NaN</td>\n",
              "    </tr>\n",
              "    <tr>\n",
              "      <th>2</th>\n",
              "      <td>3</td>\n",
              "      <td>22/1/2020</td>\n",
              "      <td>NaN</td>\n",
              "      <td>หญิง</td>\n",
              "      <td>73.0</td>\n",
              "      <td>ปี</td>\n",
              "      <td>Thailand</td>\n",
              "      <td>นครปฐม</td>\n",
              "      <td>คนต่างชาติเดินทางมาจากต่างประเทศ</td>\n",
              "      <td>นครปฐม</td>\n",
              "      <td>เมือง</td>\n",
              "    </tr>\n",
              "    <tr>\n",
              "      <th>7</th>\n",
              "      <td>8</td>\n",
              "      <td>26/1/2020</td>\n",
              "      <td>NaN</td>\n",
              "      <td>หญิง</td>\n",
              "      <td>73.0</td>\n",
              "      <td>ปี</td>\n",
              "      <td>China</td>\n",
              "      <td>ประจวบคีรีขันธ์</td>\n",
              "      <td>คนต่างชาติเดินทางมาจากต่างประเทศ</td>\n",
              "      <td>ประจวบคีรีขันธ์</td>\n",
              "      <td>หัวหิน</td>\n",
              "    </tr>\n",
              "    <tr>\n",
              "      <th>476</th>\n",
              "      <td>477</td>\n",
              "      <td>22/3/2020</td>\n",
              "      <td>21/3/2020</td>\n",
              "      <td>หญิง</td>\n",
              "      <td>72.0</td>\n",
              "      <td>ปี</td>\n",
              "      <td>Thailand</td>\n",
              "      <td>กรุงเทพมหานคร</td>\n",
              "      <td>สัมผัสใกล้ชิดกับผู้ป่วยยืนยันรายก่อนหน้านี้</td>\n",
              "      <td>กรุงเทพมหานคร</td>\n",
              "      <td>ภาษีเจริญ</td>\n",
              "    </tr>\n",
              "    <tr>\n",
              "      <th>564</th>\n",
              "      <td>565</td>\n",
              "      <td>22/3/2020</td>\n",
              "      <td>21/3/2020</td>\n",
              "      <td>หญิง</td>\n",
              "      <td>71.0</td>\n",
              "      <td>ปี</td>\n",
              "      <td>Thailand</td>\n",
              "      <td>นนทบุรี</td>\n",
              "      <td>สัมผัสใกล้ชิดกับผู้ป่วยยืนยันรายก่อนหน้านี้</td>\n",
              "      <td>นนทบุรี</td>\n",
              "      <td>NaN</td>\n",
              "    </tr>\n",
              "    <tr>\n",
              "      <th>...</th>\n",
              "      <td>...</td>\n",
              "      <td>...</td>\n",
              "      <td>...</td>\n",
              "      <td>...</td>\n",
              "      <td>...</td>\n",
              "      <td>...</td>\n",
              "      <td>...</td>\n",
              "      <td>...</td>\n",
              "      <td>...</td>\n",
              "      <td>...</td>\n",
              "      <td>...</td>\n",
              "    </tr>\n",
              "    <tr>\n",
              "      <th>511082</th>\n",
              "      <td>511083</td>\n",
              "      <td>26/7/2021</td>\n",
              "      <td>25/7/2021</td>\n",
              "      <td>หญิง</td>\n",
              "      <td>74.0</td>\n",
              "      <td>ปี</td>\n",
              "      <td>Thailand</td>\n",
              "      <td>กรุงเทพมหานคร</td>\n",
              "      <td>การค้นหาผู้ป่วยเชิงรุกและค้นหาผู้ติดเชื้อในชุมชน</td>\n",
              "      <td>กรุงเทพมหานคร</td>\n",
              "      <td>คลองสามวา</td>\n",
              "    </tr>\n",
              "    <tr>\n",
              "      <th>511128</th>\n",
              "      <td>511129</td>\n",
              "      <td>26/7/2021</td>\n",
              "      <td>25/7/2021</td>\n",
              "      <td>หญิง</td>\n",
              "      <td>79.0</td>\n",
              "      <td>ปี</td>\n",
              "      <td>Thailand</td>\n",
              "      <td>กรุงเทพมหานคร</td>\n",
              "      <td>สัมผัสใกล้ชิดกับผู้ป่วยยืนยันรายก่อนหน้านี้</td>\n",
              "      <td>กรุงเทพมหานคร</td>\n",
              "      <td>ตลิ่งชัน</td>\n",
              "    </tr>\n",
              "    <tr>\n",
              "      <th>511196</th>\n",
              "      <td>511197</td>\n",
              "      <td>26/7/2021</td>\n",
              "      <td>25/7/2021</td>\n",
              "      <td>หญิง</td>\n",
              "      <td>71.0</td>\n",
              "      <td>ปี</td>\n",
              "      <td>Thailand</td>\n",
              "      <td>กรุงเทพมหานคร</td>\n",
              "      <td>การค้นหาผู้ป่วยเชิงรุกและค้นหาผู้ติดเชื้อในชุมชน</td>\n",
              "      <td>กรุงเทพมหานคร</td>\n",
              "      <td>สัมพันธวงศ์</td>\n",
              "    </tr>\n",
              "    <tr>\n",
              "      <th>511418</th>\n",
              "      <td>511419</td>\n",
              "      <td>26/7/2021</td>\n",
              "      <td>25/7/2021</td>\n",
              "      <td>หญิง</td>\n",
              "      <td>73.0</td>\n",
              "      <td>ปี</td>\n",
              "      <td>Thailand</td>\n",
              "      <td>กรุงเทพมหานคร</td>\n",
              "      <td>การค้นหาผู้ป่วยเชิงรุกและค้นหาผู้ติดเชื้อในชุมชน</td>\n",
              "      <td>กรุงเทพมหานคร</td>\n",
              "      <td>ราชเทวี</td>\n",
              "    </tr>\n",
              "    <tr>\n",
              "      <th>511463</th>\n",
              "      <td>511464</td>\n",
              "      <td>26/7/2021</td>\n",
              "      <td>25/7/2021</td>\n",
              "      <td>หญิง</td>\n",
              "      <td>83.0</td>\n",
              "      <td>ปี</td>\n",
              "      <td>NaN</td>\n",
              "      <td>กรุงเทพมหานคร</td>\n",
              "      <td>การค้นหาผู้ป่วยเชิงรุกและค้นหาผู้ติดเชื้อในชุมชน</td>\n",
              "      <td>กรุงเทพมหานคร</td>\n",
              "      <td>บางบอน</td>\n",
              "    </tr>\n",
              "  </tbody>\n",
              "</table>\n",
              "<p>6350 rows × 11 columns</p>\n",
              "</div>"
            ],
            "text/plain": [
              "           No. announce_date  ... province_of_onset district_of_onset\n",
              "1            2     17/1/2020  ...     กรุงเทพมหานคร               NaN\n",
              "2            3     22/1/2020  ...            นครปฐม             เมือง\n",
              "7            8     26/1/2020  ...   ประจวบคีรีขันธ์            หัวหิน\n",
              "476        477     22/3/2020  ...     กรุงเทพมหานคร         ภาษีเจริญ\n",
              "564        565     22/3/2020  ...           นนทบุรี               NaN\n",
              "...        ...           ...  ...               ...               ...\n",
              "511082  511083     26/7/2021  ...     กรุงเทพมหานคร         คลองสามวา\n",
              "511128  511129     26/7/2021  ...     กรุงเทพมหานคร          ตลิ่งชัน\n",
              "511196  511197     26/7/2021  ...     กรุงเทพมหานคร       สัมพันธวงศ์\n",
              "511418  511419     26/7/2021  ...     กรุงเทพมหานคร           ราชเทวี\n",
              "511463  511464     26/7/2021  ...     กรุงเทพมหานคร            บางบอน\n",
              "\n",
              "[6350 rows x 11 columns]"
            ]
          },
          "metadata": {
            "tags": []
          },
          "execution_count": 54
        }
      ]
    },
    {
      "cell_type": "markdown",
      "metadata": {
        "id": "uPeK1w7dYWES"
      },
      "source": [
        "### Quiz 4 and HW\n",
        "\n",
        "เลือก rocords ต่อไปนี้\n",
        "\n",
        "1.rocords ที่ กักตัวในขอนแก่น\n",
        "\n",
        "2.rocords ที่ กักตัวที่ ขอนแก่น+โคราช+อุดร\n",
        "\n",
        "3.rocords ที่ เป็นผู้หญิงที่พบเชื้อที่ กทม.\n",
        "\n",
        "4.rocords ที่ เป็นผู้ชาย อายุ 18-22ปี ที่กักตัวที่เชียงใหม่\n",
        "\n",
        "5.หาอายุเฉลี่ยของคนที่พบเชื้อที่ขอนแก่น\n",
        "\n",
        "\n",
        "\n",
        "\n",
        "\n"
      ]
    },
    {
      "cell_type": "code",
      "metadata": {
        "id": "qo9xmLD7ZX0d",
        "colab": {
          "base_uri": "https://localhost:8080/"
        },
        "outputId": "41a166d8-4424-4d43-8269-0c5cb40c0f2c"
      },
      "source": [
        "data"
      ],
      "execution_count": null,
      "outputs": [
        {
          "output_type": "execute_result",
          "data": {
            "text/html": [
              "<div>\n",
              "<style scoped>\n",
              "    .dataframe tbody tr th:only-of-type {\n",
              "        vertical-align: middle;\n",
              "    }\n",
              "\n",
              "    .dataframe tbody tr th {\n",
              "        vertical-align: top;\n",
              "    }\n",
              "\n",
              "    .dataframe thead th {\n",
              "        text-align: right;\n",
              "    }\n",
              "</style>\n",
              "<table border=\"1\" class=\"dataframe\">\n",
              "  <thead>\n",
              "    <tr style=\"text-align: right;\">\n",
              "      <th></th>\n",
              "      <th>No.</th>\n",
              "      <th>announce_date</th>\n",
              "      <th>Notified date</th>\n",
              "      <th>sex</th>\n",
              "      <th>age</th>\n",
              "      <th>Unit</th>\n",
              "      <th>nationality</th>\n",
              "      <th>province_of_isolation</th>\n",
              "      <th>risk</th>\n",
              "      <th>province_of_onset</th>\n",
              "      <th>district_of_onset</th>\n",
              "    </tr>\n",
              "  </thead>\n",
              "  <tbody>\n",
              "    <tr>\n",
              "      <th>0</th>\n",
              "      <td>1</td>\n",
              "      <td>12/1/2020</td>\n",
              "      <td>NaN</td>\n",
              "      <td>หญิง</td>\n",
              "      <td>61</td>\n",
              "      <td>ปี</td>\n",
              "      <td>China</td>\n",
              "      <td>กรุงเทพมหานคร</td>\n",
              "      <td>คนต่างชาติเดินทางมาจากต่างประเทศ</td>\n",
              "      <td>กรุงเทพมหานคร</td>\n",
              "      <td>NaN</td>\n",
              "    </tr>\n",
              "    <tr>\n",
              "      <th>1</th>\n",
              "      <td>2</td>\n",
              "      <td>17/1/2020</td>\n",
              "      <td>NaN</td>\n",
              "      <td>หญิง</td>\n",
              "      <td>74</td>\n",
              "      <td>ปี</td>\n",
              "      <td>China</td>\n",
              "      <td>กรุงเทพมหานคร</td>\n",
              "      <td>คนต่างชาติเดินทางมาจากต่างประเทศ</td>\n",
              "      <td>กรุงเทพมหานคร</td>\n",
              "      <td>NaN</td>\n",
              "    </tr>\n",
              "    <tr>\n",
              "      <th>2</th>\n",
              "      <td>3</td>\n",
              "      <td>22/1/2020</td>\n",
              "      <td>NaN</td>\n",
              "      <td>หญิง</td>\n",
              "      <td>73</td>\n",
              "      <td>ปี</td>\n",
              "      <td>Thailand</td>\n",
              "      <td>นครปฐม</td>\n",
              "      <td>คนต่างชาติเดินทางมาจากต่างประเทศ</td>\n",
              "      <td>นครปฐม</td>\n",
              "      <td>เมือง</td>\n",
              "    </tr>\n",
              "    <tr>\n",
              "      <th>3</th>\n",
              "      <td>4</td>\n",
              "      <td>22/1/2020</td>\n",
              "      <td>NaN</td>\n",
              "      <td>ชาย</td>\n",
              "      <td>68</td>\n",
              "      <td>ปี</td>\n",
              "      <td>China</td>\n",
              "      <td>กรุงเทพมหานคร</td>\n",
              "      <td>คนต่างชาติเดินทางมาจากต่างประเทศ</td>\n",
              "      <td>กรุงเทพมหานคร</td>\n",
              "      <td>NaN</td>\n",
              "    </tr>\n",
              "    <tr>\n",
              "      <th>4</th>\n",
              "      <td>5</td>\n",
              "      <td>24/1/2020</td>\n",
              "      <td>NaN</td>\n",
              "      <td>หญิง</td>\n",
              "      <td>66</td>\n",
              "      <td>ปี</td>\n",
              "      <td>China</td>\n",
              "      <td>นนทบุรี</td>\n",
              "      <td>คนต่างชาติเดินทางมาจากต่างประเทศ</td>\n",
              "      <td>กรุงเทพมหานคร</td>\n",
              "      <td>NaN</td>\n",
              "    </tr>\n",
              "    <tr>\n",
              "      <th>...</th>\n",
              "      <td>...</td>\n",
              "      <td>...</td>\n",
              "      <td>...</td>\n",
              "      <td>...</td>\n",
              "      <td>...</td>\n",
              "      <td>...</td>\n",
              "      <td>...</td>\n",
              "      <td>...</td>\n",
              "      <td>...</td>\n",
              "      <td>...</td>\n",
              "      <td>...</td>\n",
              "    </tr>\n",
              "    <tr>\n",
              "      <th>512617</th>\n",
              "      <td>512618</td>\n",
              "      <td>26/7/2021</td>\n",
              "      <td>25/7/2021</td>\n",
              "      <td>ชาย</td>\n",
              "      <td>avg_age</td>\n",
              "      <td>ปี?</td>\n",
              "      <td>Thailand</td>\n",
              "      <td>ชลบุรี</td>\n",
              "      <td>ทัณฑสถาน/เรือนจำ</td>\n",
              "      <td>NaN</td>\n",
              "      <td>NaN</td>\n",
              "    </tr>\n",
              "    <tr>\n",
              "      <th>512618</th>\n",
              "      <td>512619</td>\n",
              "      <td>26/7/2021</td>\n",
              "      <td>25/7/2021</td>\n",
              "      <td>ชาย</td>\n",
              "      <td>avg_age</td>\n",
              "      <td>ปี?</td>\n",
              "      <td>Thailand</td>\n",
              "      <td>ชลบุรี</td>\n",
              "      <td>ทัณฑสถาน/เรือนจำ</td>\n",
              "      <td>NaN</td>\n",
              "      <td>NaN</td>\n",
              "    </tr>\n",
              "    <tr>\n",
              "      <th>512619</th>\n",
              "      <td>512620</td>\n",
              "      <td>26/7/2021</td>\n",
              "      <td>25/7/2021</td>\n",
              "      <td>ชาย</td>\n",
              "      <td>avg_age</td>\n",
              "      <td>ปี?</td>\n",
              "      <td>Thailand</td>\n",
              "      <td>ชลบุรี</td>\n",
              "      <td>ทัณฑสถาน/เรือนจำ</td>\n",
              "      <td>NaN</td>\n",
              "      <td>NaN</td>\n",
              "    </tr>\n",
              "    <tr>\n",
              "      <th>512620</th>\n",
              "      <td>512621</td>\n",
              "      <td>26/7/2021</td>\n",
              "      <td>25/7/2021</td>\n",
              "      <td>ชาย</td>\n",
              "      <td>avg_age</td>\n",
              "      <td>ปี?</td>\n",
              "      <td>Thailand</td>\n",
              "      <td>ชลบุรี</td>\n",
              "      <td>ทัณฑสถาน/เรือนจำ</td>\n",
              "      <td>NaN</td>\n",
              "      <td>NaN</td>\n",
              "    </tr>\n",
              "    <tr>\n",
              "      <th>512621</th>\n",
              "      <td>512622</td>\n",
              "      <td>26/7/2021</td>\n",
              "      <td>25/7/2021</td>\n",
              "      <td>ชาย</td>\n",
              "      <td>avg_age</td>\n",
              "      <td>ปี?</td>\n",
              "      <td>Thailand</td>\n",
              "      <td>ชลบุรี</td>\n",
              "      <td>ทัณฑสถาน/เรือนจำ</td>\n",
              "      <td>NaN</td>\n",
              "      <td>NaN</td>\n",
              "    </tr>\n",
              "  </tbody>\n",
              "</table>\n",
              "<p>512622 rows × 11 columns</p>\n",
              "</div>"
            ],
            "text/plain": [
              "           No. announce_date  ... province_of_onset district_of_onset\n",
              "0            1     12/1/2020  ...     กรุงเทพมหานคร               NaN\n",
              "1            2     17/1/2020  ...     กรุงเทพมหานคร               NaN\n",
              "2            3     22/1/2020  ...            นครปฐม             เมือง\n",
              "3            4     22/1/2020  ...     กรุงเทพมหานคร               NaN\n",
              "4            5     24/1/2020  ...     กรุงเทพมหานคร               NaN\n",
              "...        ...           ...  ...               ...               ...\n",
              "512617  512618     26/7/2021  ...               NaN               NaN\n",
              "512618  512619     26/7/2021  ...               NaN               NaN\n",
              "512619  512620     26/7/2021  ...               NaN               NaN\n",
              "512620  512621     26/7/2021  ...               NaN               NaN\n",
              "512621  512622     26/7/2021  ...               NaN               NaN\n",
              "\n",
              "[512622 rows x 11 columns]"
            ]
          },
          "metadata": {
            "tags": []
          },
          "execution_count": 55
        }
      ]
    },
    {
      "cell_type": "code",
      "metadata": {
        "id": "AYRK0SMgevYc"
      },
      "source": [
        "import statistics as stats "
      ],
      "execution_count": null,
      "outputs": []
    },
    {
      "cell_type": "code",
      "metadata": {
        "id": "Uz2USr7Fe27N",
        "colab": {
          "base_uri": "https://localhost:8080/"
        },
        "outputId": "d2b3c090-c516-4b11-9dbb-b3c70e07836b"
      },
      "source": [
        "data_cases2['province_of_isolation'] == 'ขอนแก่น' #ข้อหนึ่ง ชี้ไปที่ province_of_isolation"
      ],
      "execution_count": null,
      "outputs": [
        {
          "output_type": "execute_result",
          "data": {
            "text/plain": [
              "0         False\n",
              "1         False\n",
              "2         False\n",
              "3         False\n",
              "4         False\n",
              "          ...  \n",
              "512617    False\n",
              "512618    False\n",
              "512619    False\n",
              "512620    False\n",
              "512621    False\n",
              "Name: province_of_isolation, Length: 512622, dtype: bool"
            ]
          },
          "metadata": {
            "tags": []
          },
          "execution_count": 57
        }
      ]
    },
    {
      "cell_type": "markdown",
      "metadata": {
        "id": "JqqjjNDa4edJ"
      },
      "source": [
        "จะเห็นว่า ข้อมูล False ดังนั้นเรียกดูตาราง เพื่อดูค่าข้อมูล"
      ]
    },
    {
      "cell_type": "code",
      "metadata": {
        "colab": {
          "base_uri": "https://localhost:8080/"
        },
        "id": "1PCzBmR94mLD",
        "outputId": "c4379dbf-7108-4bf6-f792-780a38b72421"
      },
      "source": [
        "data_cases2[data_cases2['province_of_isolation'] == 'ขอนแก่น']"
      ],
      "execution_count": null,
      "outputs": [
        {
          "output_type": "execute_result",
          "data": {
            "text/html": [
              "<div>\n",
              "<style scoped>\n",
              "    .dataframe tbody tr th:only-of-type {\n",
              "        vertical-align: middle;\n",
              "    }\n",
              "\n",
              "    .dataframe tbody tr th {\n",
              "        vertical-align: top;\n",
              "    }\n",
              "\n",
              "    .dataframe thead th {\n",
              "        text-align: right;\n",
              "    }\n",
              "</style>\n",
              "<table border=\"1\" class=\"dataframe\">\n",
              "  <thead>\n",
              "    <tr style=\"text-align: right;\">\n",
              "      <th></th>\n",
              "      <th>No.</th>\n",
              "      <th>announce_date</th>\n",
              "      <th>Notified date</th>\n",
              "      <th>sex</th>\n",
              "      <th>age</th>\n",
              "      <th>Unit</th>\n",
              "      <th>nationality</th>\n",
              "      <th>province_of_isolation</th>\n",
              "      <th>risk</th>\n",
              "      <th>province_of_onset</th>\n",
              "      <th>district_of_onset</th>\n",
              "    </tr>\n",
              "  </thead>\n",
              "  <tbody>\n",
              "    <tr>\n",
              "      <th>181</th>\n",
              "      <td>182</td>\n",
              "      <td>18/3/2020</td>\n",
              "      <td>15/3/2020</td>\n",
              "      <td>ชาย</td>\n",
              "      <td>33.0</td>\n",
              "      <td>ปี</td>\n",
              "      <td>Thailand</td>\n",
              "      <td>ขอนแก่น</td>\n",
              "      <td>สนามมวย</td>\n",
              "      <td>ขอนแก่น</td>\n",
              "      <td>เมือง</td>\n",
              "    </tr>\n",
              "    <tr>\n",
              "      <th>463</th>\n",
              "      <td>464</td>\n",
              "      <td>22/3/2020</td>\n",
              "      <td>21/3/2020</td>\n",
              "      <td>หญิง</td>\n",
              "      <td>36.0</td>\n",
              "      <td>ปี</td>\n",
              "      <td>Thailand</td>\n",
              "      <td>ขอนแก่น</td>\n",
              "      <td>สัมผัสใกล้ชิดกับผู้ป่วยยืนยันรายก่อนหน้านี้</td>\n",
              "      <td>ขอนแก่น</td>\n",
              "      <td>เมือง</td>\n",
              "    </tr>\n",
              "    <tr>\n",
              "      <th>1467</th>\n",
              "      <td>1468</td>\n",
              "      <td>30/3/2020</td>\n",
              "      <td>26/3/2020</td>\n",
              "      <td>ชาย</td>\n",
              "      <td>19.0</td>\n",
              "      <td>ปี</td>\n",
              "      <td>Thailand</td>\n",
              "      <td>ขอนแก่น</td>\n",
              "      <td>คนไทยเดินทางกลับจากต่างประเทศ</td>\n",
              "      <td>ขอนแก่น</td>\n",
              "      <td>เมือง</td>\n",
              "    </tr>\n",
              "    <tr>\n",
              "      <th>1971</th>\n",
              "      <td>1972</td>\n",
              "      <td>3/4/2020</td>\n",
              "      <td>31/3/2020</td>\n",
              "      <td>หญิง</td>\n",
              "      <td>70.0</td>\n",
              "      <td>ปี</td>\n",
              "      <td>Thailand</td>\n",
              "      <td>ขอนแก่น</td>\n",
              "      <td>ไปสถานที่ชุมชน เช่น ตลาดนัด สถานที่ท่องเที่ยว</td>\n",
              "      <td>ขอนแก่น</td>\n",
              "      <td>เมือง</td>\n",
              "    </tr>\n",
              "    <tr>\n",
              "      <th>2638</th>\n",
              "      <td>2639</td>\n",
              "      <td>15/4/2020</td>\n",
              "      <td>14/4/2020</td>\n",
              "      <td>หญิง</td>\n",
              "      <td>63.0</td>\n",
              "      <td>ปี</td>\n",
              "      <td>Thailand</td>\n",
              "      <td>ขอนแก่น</td>\n",
              "      <td>สัมผัสผู้เดินทางจากต่างประเทศ</td>\n",
              "      <td>ขอนแก่น</td>\n",
              "      <td>น้ำพอง</td>\n",
              "    </tr>\n",
              "    <tr>\n",
              "      <th>...</th>\n",
              "      <td>...</td>\n",
              "      <td>...</td>\n",
              "      <td>...</td>\n",
              "      <td>...</td>\n",
              "      <td>...</td>\n",
              "      <td>...</td>\n",
              "      <td>...</td>\n",
              "      <td>...</td>\n",
              "      <td>...</td>\n",
              "      <td>...</td>\n",
              "      <td>...</td>\n",
              "    </tr>\n",
              "    <tr>\n",
              "      <th>505598</th>\n",
              "      <td>505599</td>\n",
              "      <td>26/7/2021</td>\n",
              "      <td>25/7/2021</td>\n",
              "      <td>ชาย</td>\n",
              "      <td>19.0</td>\n",
              "      <td>ปี</td>\n",
              "      <td>Thailand</td>\n",
              "      <td>ขอนแก่น</td>\n",
              "      <td>การค้นหาผู้ป่วยเชิงรุกและค้นหาผู้ติดเชื้อในชุมชน</td>\n",
              "      <td>ขอนแก่น</td>\n",
              "      <td>ภูเวียง</td>\n",
              "    </tr>\n",
              "    <tr>\n",
              "      <th>505599</th>\n",
              "      <td>505600</td>\n",
              "      <td>26/7/2021</td>\n",
              "      <td>25/7/2021</td>\n",
              "      <td>ชาย</td>\n",
              "      <td>37.0</td>\n",
              "      <td>ปี</td>\n",
              "      <td>Thailand</td>\n",
              "      <td>ขอนแก่น</td>\n",
              "      <td>การค้นหาผู้ป่วยเชิงรุกและค้นหาผู้ติดเชื้อในชุมชน</td>\n",
              "      <td>ขอนแก่น</td>\n",
              "      <td>ภูเวียง</td>\n",
              "    </tr>\n",
              "    <tr>\n",
              "      <th>511809</th>\n",
              "      <td>511810</td>\n",
              "      <td>26/7/2021</td>\n",
              "      <td>25/7/2021</td>\n",
              "      <td>ชาย</td>\n",
              "      <td>NaN</td>\n",
              "      <td>NaN</td>\n",
              "      <td>NaN</td>\n",
              "      <td>ขอนแก่น</td>\n",
              "      <td>ทัณฑสถาน/เรือนจำ</td>\n",
              "      <td>NaN</td>\n",
              "      <td>NaN</td>\n",
              "    </tr>\n",
              "    <tr>\n",
              "      <th>511810</th>\n",
              "      <td>511811</td>\n",
              "      <td>26/7/2021</td>\n",
              "      <td>25/7/2021</td>\n",
              "      <td>ชาย</td>\n",
              "      <td>NaN</td>\n",
              "      <td>NaN</td>\n",
              "      <td>NaN</td>\n",
              "      <td>ขอนแก่น</td>\n",
              "      <td>ทัณฑสถาน/เรือนจำ</td>\n",
              "      <td>NaN</td>\n",
              "      <td>NaN</td>\n",
              "    </tr>\n",
              "    <tr>\n",
              "      <th>511811</th>\n",
              "      <td>511812</td>\n",
              "      <td>26/7/2021</td>\n",
              "      <td>25/7/2021</td>\n",
              "      <td>ชาย</td>\n",
              "      <td>NaN</td>\n",
              "      <td>NaN</td>\n",
              "      <td>NaN</td>\n",
              "      <td>ขอนแก่น</td>\n",
              "      <td>ทัณฑสถาน/เรือนจำ</td>\n",
              "      <td>NaN</td>\n",
              "      <td>NaN</td>\n",
              "    </tr>\n",
              "  </tbody>\n",
              "</table>\n",
              "<p>3707 rows × 11 columns</p>\n",
              "</div>"
            ],
            "text/plain": [
              "           No. announce_date  ... province_of_onset district_of_onset\n",
              "181        182     18/3/2020  ...           ขอนแก่น             เมือง\n",
              "463        464     22/3/2020  ...           ขอนแก่น             เมือง\n",
              "1467      1468     30/3/2020  ...           ขอนแก่น             เมือง\n",
              "1971      1972      3/4/2020  ...           ขอนแก่น             เมือง\n",
              "2638      2639     15/4/2020  ...           ขอนแก่น            น้ำพอง\n",
              "...        ...           ...  ...               ...               ...\n",
              "505598  505599     26/7/2021  ...           ขอนแก่น           ภูเวียง\n",
              "505599  505600     26/7/2021  ...           ขอนแก่น           ภูเวียง\n",
              "511809  511810     26/7/2021  ...               NaN               NaN\n",
              "511810  511811     26/7/2021  ...               NaN               NaN\n",
              "511811  511812     26/7/2021  ...               NaN               NaN\n",
              "\n",
              "[3707 rows x 11 columns]"
            ]
          },
          "metadata": {
            "tags": []
          },
          "execution_count": 58
        }
      ]
    },
    {
      "cell_type": "markdown",
      "metadata": {
        "id": "jc_6kugb4vnz"
      },
      "source": [
        "ข้อ 2 เนื่องจากไม่ให้เกิดความสับสนให้ กำหนดตัวแปร list ของแต่ละจังหวัด"
      ]
    },
    {
      "cell_type": "code",
      "metadata": {
        "id": "WlA2CWM448SR"
      },
      "source": [
        "list_KK = data_cases2['province_of_isolation'] == 'ขอนแก่น'"
      ],
      "execution_count": null,
      "outputs": []
    },
    {
      "cell_type": "code",
      "metadata": {
        "id": "yzxejnlO4_Sd"
      },
      "source": [
        "list_NK = data_cases2['province_of_isolation'] == 'นครราชสีมา'"
      ],
      "execution_count": null,
      "outputs": []
    },
    {
      "cell_type": "code",
      "metadata": {
        "id": "JoKnbl225CLl"
      },
      "source": [
        "list_UD = data_cases2['province_of_isolation'] == 'อุดรธานี'"
      ],
      "execution_count": null,
      "outputs": []
    },
    {
      "cell_type": "code",
      "metadata": {
        "colab": {
          "base_uri": "https://localhost:8080/"
        },
        "id": "yGJwaEme5M39",
        "outputId": "df23a130-7ab8-4ec9-bb93-a5747ec64add"
      },
      "source": [
        "data_cases2[list_KK | list_NK | list_UD] \n",
        "#ชี้ข้อมูลไปที่ new list และใช้เครื่องหมาย และ หรือ |"
      ],
      "execution_count": null,
      "outputs": [
        {
          "output_type": "execute_result",
          "data": {
            "text/html": [
              "<div>\n",
              "<style scoped>\n",
              "    .dataframe tbody tr th:only-of-type {\n",
              "        vertical-align: middle;\n",
              "    }\n",
              "\n",
              "    .dataframe tbody tr th {\n",
              "        vertical-align: top;\n",
              "    }\n",
              "\n",
              "    .dataframe thead th {\n",
              "        text-align: right;\n",
              "    }\n",
              "</style>\n",
              "<table border=\"1\" class=\"dataframe\">\n",
              "  <thead>\n",
              "    <tr style=\"text-align: right;\">\n",
              "      <th></th>\n",
              "      <th>No.</th>\n",
              "      <th>announce_date</th>\n",
              "      <th>Notified date</th>\n",
              "      <th>sex</th>\n",
              "      <th>age</th>\n",
              "      <th>Unit</th>\n",
              "      <th>nationality</th>\n",
              "      <th>province_of_isolation</th>\n",
              "      <th>risk</th>\n",
              "      <th>province_of_onset</th>\n",
              "      <th>district_of_onset</th>\n",
              "    </tr>\n",
              "  </thead>\n",
              "  <tbody>\n",
              "    <tr>\n",
              "      <th>181</th>\n",
              "      <td>182</td>\n",
              "      <td>18/3/2020</td>\n",
              "      <td>15/3/2020</td>\n",
              "      <td>ชาย</td>\n",
              "      <td>33.0</td>\n",
              "      <td>ปี</td>\n",
              "      <td>Thailand</td>\n",
              "      <td>ขอนแก่น</td>\n",
              "      <td>สนามมวย</td>\n",
              "      <td>ขอนแก่น</td>\n",
              "      <td>เมือง</td>\n",
              "    </tr>\n",
              "    <tr>\n",
              "      <th>189</th>\n",
              "      <td>190</td>\n",
              "      <td>18/3/2020</td>\n",
              "      <td>16/3/2020</td>\n",
              "      <td>ชาย</td>\n",
              "      <td>57.0</td>\n",
              "      <td>ปี</td>\n",
              "      <td>Thailand</td>\n",
              "      <td>นครราชสีมา</td>\n",
              "      <td>สนามมวย</td>\n",
              "      <td>นครราชสีมา</td>\n",
              "      <td>พิมาย</td>\n",
              "    </tr>\n",
              "    <tr>\n",
              "      <th>207</th>\n",
              "      <td>208</td>\n",
              "      <td>18/3/2020</td>\n",
              "      <td>16/3/2020</td>\n",
              "      <td>หญิง</td>\n",
              "      <td>30.0</td>\n",
              "      <td>ปี</td>\n",
              "      <td>Thailand</td>\n",
              "      <td>นครราชสีมา</td>\n",
              "      <td>สถานบันเทิง</td>\n",
              "      <td>กรุงเทพมหานคร</td>\n",
              "      <td>NaN</td>\n",
              "    </tr>\n",
              "    <tr>\n",
              "      <th>212</th>\n",
              "      <td>213</td>\n",
              "      <td>18/3/2020</td>\n",
              "      <td>14/3/2020</td>\n",
              "      <td>หญิง</td>\n",
              "      <td>22.0</td>\n",
              "      <td>ปี</td>\n",
              "      <td>Thailand</td>\n",
              "      <td>นครราชสีมา</td>\n",
              "      <td>ไปสถานที่ชุมชน เช่น ตลาดนัด สถานที่ท่องเที่ยว</td>\n",
              "      <td>นครราชสีมา</td>\n",
              "      <td>วังน้ำเขียว</td>\n",
              "    </tr>\n",
              "    <tr>\n",
              "      <th>284</th>\n",
              "      <td>285</td>\n",
              "      <td>20/3/2020</td>\n",
              "      <td>17/3/2020</td>\n",
              "      <td>ชาย</td>\n",
              "      <td>42.0</td>\n",
              "      <td>ปี</td>\n",
              "      <td>Thailand</td>\n",
              "      <td>นครราชสีมา</td>\n",
              "      <td>สนามมวย</td>\n",
              "      <td>นครราชสีมา</td>\n",
              "      <td>เมืองนครราชสีมา</td>\n",
              "    </tr>\n",
              "    <tr>\n",
              "      <th>...</th>\n",
              "      <td>...</td>\n",
              "      <td>...</td>\n",
              "      <td>...</td>\n",
              "      <td>...</td>\n",
              "      <td>...</td>\n",
              "      <td>...</td>\n",
              "      <td>...</td>\n",
              "      <td>...</td>\n",
              "      <td>...</td>\n",
              "      <td>...</td>\n",
              "      <td>...</td>\n",
              "    </tr>\n",
              "    <tr>\n",
              "      <th>507218</th>\n",
              "      <td>507219</td>\n",
              "      <td>26/7/2021</td>\n",
              "      <td>25/7/2021</td>\n",
              "      <td>หญิง</td>\n",
              "      <td>NaN</td>\n",
              "      <td>NaN</td>\n",
              "      <td>Thailand</td>\n",
              "      <td>นครราชสีมา</td>\n",
              "      <td>อยู่ระหว่างการสอบสวน</td>\n",
              "      <td>NaN</td>\n",
              "      <td>NaN</td>\n",
              "    </tr>\n",
              "    <tr>\n",
              "      <th>507219</th>\n",
              "      <td>507220</td>\n",
              "      <td>26/7/2021</td>\n",
              "      <td>25/7/2021</td>\n",
              "      <td>ชาย</td>\n",
              "      <td>NaN</td>\n",
              "      <td>NaN</td>\n",
              "      <td>Thailand</td>\n",
              "      <td>นครราชสีมา</td>\n",
              "      <td>อยู่ระหว่างการสอบสวน</td>\n",
              "      <td>NaN</td>\n",
              "      <td>NaN</td>\n",
              "    </tr>\n",
              "    <tr>\n",
              "      <th>511809</th>\n",
              "      <td>511810</td>\n",
              "      <td>26/7/2021</td>\n",
              "      <td>25/7/2021</td>\n",
              "      <td>ชาย</td>\n",
              "      <td>NaN</td>\n",
              "      <td>NaN</td>\n",
              "      <td>NaN</td>\n",
              "      <td>ขอนแก่น</td>\n",
              "      <td>ทัณฑสถาน/เรือนจำ</td>\n",
              "      <td>NaN</td>\n",
              "      <td>NaN</td>\n",
              "    </tr>\n",
              "    <tr>\n",
              "      <th>511810</th>\n",
              "      <td>511811</td>\n",
              "      <td>26/7/2021</td>\n",
              "      <td>25/7/2021</td>\n",
              "      <td>ชาย</td>\n",
              "      <td>NaN</td>\n",
              "      <td>NaN</td>\n",
              "      <td>NaN</td>\n",
              "      <td>ขอนแก่น</td>\n",
              "      <td>ทัณฑสถาน/เรือนจำ</td>\n",
              "      <td>NaN</td>\n",
              "      <td>NaN</td>\n",
              "    </tr>\n",
              "    <tr>\n",
              "      <th>511811</th>\n",
              "      <td>511812</td>\n",
              "      <td>26/7/2021</td>\n",
              "      <td>25/7/2021</td>\n",
              "      <td>ชาย</td>\n",
              "      <td>NaN</td>\n",
              "      <td>NaN</td>\n",
              "      <td>NaN</td>\n",
              "      <td>ขอนแก่น</td>\n",
              "      <td>ทัณฑสถาน/เรือนจำ</td>\n",
              "      <td>NaN</td>\n",
              "      <td>NaN</td>\n",
              "    </tr>\n",
              "  </tbody>\n",
              "</table>\n",
              "<p>10539 rows × 11 columns</p>\n",
              "</div>"
            ],
            "text/plain": [
              "           No. announce_date  ... province_of_onset district_of_onset\n",
              "181        182     18/3/2020  ...           ขอนแก่น             เมือง\n",
              "189        190     18/3/2020  ...        นครราชสีมา             พิมาย\n",
              "207        208     18/3/2020  ...     กรุงเทพมหานคร               NaN\n",
              "212        213     18/3/2020  ...        นครราชสีมา       วังน้ำเขียว\n",
              "284        285     20/3/2020  ...        นครราชสีมา   เมืองนครราชสีมา\n",
              "...        ...           ...  ...               ...               ...\n",
              "507218  507219     26/7/2021  ...               NaN               NaN\n",
              "507219  507220     26/7/2021  ...               NaN               NaN\n",
              "511809  511810     26/7/2021  ...               NaN               NaN\n",
              "511810  511811     26/7/2021  ...               NaN               NaN\n",
              "511811  511812     26/7/2021  ...               NaN               NaN\n",
              "\n",
              "[10539 rows x 11 columns]"
            ]
          },
          "metadata": {
            "tags": []
          },
          "execution_count": 62
        }
      ]
    },
    {
      "cell_type": "code",
      "metadata": {
        "id": "awAHpVqH6Xc4"
      },
      "source": [
        "list_BK = data_cases2['province_of_onset'] == 'กรุงเทพมหานคร' #ข้อ 3"
      ],
      "execution_count": null,
      "outputs": []
    },
    {
      "cell_type": "code",
      "metadata": {
        "colab": {
          "base_uri": "https://localhost:8080/"
        },
        "id": "kGirUX995yW1",
        "outputId": "316f6dc5-ae5f-4b5a-f097-e308edb68c7c"
      },
      "source": [
        "#กำหนดตัวแปร โดยชี้ไปที่คอลัมน์เพศ ในส่วนข้อมูลที่เป็นผู้หญิง\n",
        "prov_fm = data_cases2['sex'] == 'หญิง' \n",
        "prov_fm"
      ],
      "execution_count": null,
      "outputs": [
        {
          "output_type": "execute_result",
          "data": {
            "text/plain": [
              "0          True\n",
              "1          True\n",
              "2          True\n",
              "3         False\n",
              "4          True\n",
              "          ...  \n",
              "512617    False\n",
              "512618    False\n",
              "512619    False\n",
              "512620    False\n",
              "512621    False\n",
              "Name: sex, Length: 512622, dtype: bool"
            ]
          },
          "metadata": {
            "tags": []
          },
          "execution_count": 64
        }
      ]
    },
    {
      "cell_type": "code",
      "metadata": {
        "colab": {
          "base_uri": "https://localhost:8080/"
        },
        "id": "RSZHD0E66F0e",
        "outputId": "acfb4c42-155c-48bd-adea-19c0e437971e"
      },
      "source": [
        "data_cases2[list_BK & prov_fm]"
      ],
      "execution_count": null,
      "outputs": [
        {
          "output_type": "execute_result",
          "data": {
            "text/html": [
              "<div>\n",
              "<style scoped>\n",
              "    .dataframe tbody tr th:only-of-type {\n",
              "        vertical-align: middle;\n",
              "    }\n",
              "\n",
              "    .dataframe tbody tr th {\n",
              "        vertical-align: top;\n",
              "    }\n",
              "\n",
              "    .dataframe thead th {\n",
              "        text-align: right;\n",
              "    }\n",
              "</style>\n",
              "<table border=\"1\" class=\"dataframe\">\n",
              "  <thead>\n",
              "    <tr style=\"text-align: right;\">\n",
              "      <th></th>\n",
              "      <th>No.</th>\n",
              "      <th>announce_date</th>\n",
              "      <th>Notified date</th>\n",
              "      <th>sex</th>\n",
              "      <th>age</th>\n",
              "      <th>Unit</th>\n",
              "      <th>nationality</th>\n",
              "      <th>province_of_isolation</th>\n",
              "      <th>risk</th>\n",
              "      <th>province_of_onset</th>\n",
              "      <th>district_of_onset</th>\n",
              "    </tr>\n",
              "  </thead>\n",
              "  <tbody>\n",
              "    <tr>\n",
              "      <th>0</th>\n",
              "      <td>1</td>\n",
              "      <td>12/1/2020</td>\n",
              "      <td>NaN</td>\n",
              "      <td>หญิง</td>\n",
              "      <td>61.0</td>\n",
              "      <td>ปี</td>\n",
              "      <td>China</td>\n",
              "      <td>กรุงเทพมหานคร</td>\n",
              "      <td>คนต่างชาติเดินทางมาจากต่างประเทศ</td>\n",
              "      <td>กรุงเทพมหานคร</td>\n",
              "      <td>NaN</td>\n",
              "    </tr>\n",
              "    <tr>\n",
              "      <th>1</th>\n",
              "      <td>2</td>\n",
              "      <td>17/1/2020</td>\n",
              "      <td>NaN</td>\n",
              "      <td>หญิง</td>\n",
              "      <td>74.0</td>\n",
              "      <td>ปี</td>\n",
              "      <td>China</td>\n",
              "      <td>กรุงเทพมหานคร</td>\n",
              "      <td>คนต่างชาติเดินทางมาจากต่างประเทศ</td>\n",
              "      <td>กรุงเทพมหานคร</td>\n",
              "      <td>NaN</td>\n",
              "    </tr>\n",
              "    <tr>\n",
              "      <th>4</th>\n",
              "      <td>5</td>\n",
              "      <td>24/1/2020</td>\n",
              "      <td>NaN</td>\n",
              "      <td>หญิง</td>\n",
              "      <td>66.0</td>\n",
              "      <td>ปี</td>\n",
              "      <td>China</td>\n",
              "      <td>นนทบุรี</td>\n",
              "      <td>คนต่างชาติเดินทางมาจากต่างประเทศ</td>\n",
              "      <td>กรุงเทพมหานคร</td>\n",
              "      <td>NaN</td>\n",
              "    </tr>\n",
              "    <tr>\n",
              "      <th>5</th>\n",
              "      <td>6</td>\n",
              "      <td>25/1/2020</td>\n",
              "      <td>NaN</td>\n",
              "      <td>หญิง</td>\n",
              "      <td>33.0</td>\n",
              "      <td>ปี</td>\n",
              "      <td>China</td>\n",
              "      <td>กรุงเทพมหานคร</td>\n",
              "      <td>คนต่างชาติเดินทางมาจากต่างประเทศ</td>\n",
              "      <td>กรุงเทพมหานคร</td>\n",
              "      <td>NaN</td>\n",
              "    </tr>\n",
              "    <tr>\n",
              "      <th>6</th>\n",
              "      <td>7</td>\n",
              "      <td>26/1/2020</td>\n",
              "      <td>NaN</td>\n",
              "      <td>หญิง</td>\n",
              "      <td>57.0</td>\n",
              "      <td>ปี</td>\n",
              "      <td>China</td>\n",
              "      <td>กรุงเทพมหานคร</td>\n",
              "      <td>คนต่างชาติเดินทางมาจากต่างประเทศ</td>\n",
              "      <td>กรุงเทพมหานคร</td>\n",
              "      <td>NaN</td>\n",
              "    </tr>\n",
              "    <tr>\n",
              "      <th>...</th>\n",
              "      <td>...</td>\n",
              "      <td>...</td>\n",
              "      <td>...</td>\n",
              "      <td>...</td>\n",
              "      <td>...</td>\n",
              "      <td>...</td>\n",
              "      <td>...</td>\n",
              "      <td>...</td>\n",
              "      <td>...</td>\n",
              "      <td>...</td>\n",
              "      <td>...</td>\n",
              "    </tr>\n",
              "    <tr>\n",
              "      <th>511560</th>\n",
              "      <td>511561</td>\n",
              "      <td>26/7/2021</td>\n",
              "      <td>25/7/2021</td>\n",
              "      <td>หญิง</td>\n",
              "      <td>53.0</td>\n",
              "      <td>ปี</td>\n",
              "      <td>Thailand</td>\n",
              "      <td>กรุงเทพมหานคร</td>\n",
              "      <td>สัมผัสใกล้ชิดกับผู้ป่วยยืนยันรายก่อนหน้านี้</td>\n",
              "      <td>กรุงเทพมหานคร</td>\n",
              "      <td>ธนบุรี</td>\n",
              "    </tr>\n",
              "    <tr>\n",
              "      <th>511562</th>\n",
              "      <td>511563</td>\n",
              "      <td>26/7/2021</td>\n",
              "      <td>25/7/2021</td>\n",
              "      <td>หญิง</td>\n",
              "      <td>44.0</td>\n",
              "      <td>ปี</td>\n",
              "      <td>Thailand</td>\n",
              "      <td>กรุงเทพมหานคร</td>\n",
              "      <td>การค้นหาผู้ป่วยเชิงรุกและค้นหาผู้ติดเชื้อในชุมชน</td>\n",
              "      <td>กรุงเทพมหานคร</td>\n",
              "      <td>คลองสามวา</td>\n",
              "    </tr>\n",
              "    <tr>\n",
              "      <th>511566</th>\n",
              "      <td>511567</td>\n",
              "      <td>26/7/2021</td>\n",
              "      <td>25/7/2021</td>\n",
              "      <td>หญิง</td>\n",
              "      <td>56.0</td>\n",
              "      <td>ปี</td>\n",
              "      <td>NaN</td>\n",
              "      <td>กรุงเทพมหานคร</td>\n",
              "      <td>การค้นหาผู้ป่วยเชิงรุกและค้นหาผู้ติดเชื้อในชุมชน</td>\n",
              "      <td>กรุงเทพมหานคร</td>\n",
              "      <td>บางขุนเทียน</td>\n",
              "    </tr>\n",
              "    <tr>\n",
              "      <th>511574</th>\n",
              "      <td>511575</td>\n",
              "      <td>26/7/2021</td>\n",
              "      <td>25/7/2021</td>\n",
              "      <td>หญิง</td>\n",
              "      <td>45.0</td>\n",
              "      <td>ปี</td>\n",
              "      <td>Thailand</td>\n",
              "      <td>กรุงเทพมหานคร</td>\n",
              "      <td>การค้นหาผู้ป่วยเชิงรุกและค้นหาผู้ติดเชื้อในชุมชน</td>\n",
              "      <td>กรุงเทพมหานคร</td>\n",
              "      <td>ลาดกระบัง</td>\n",
              "    </tr>\n",
              "    <tr>\n",
              "      <th>511577</th>\n",
              "      <td>511578</td>\n",
              "      <td>26/7/2021</td>\n",
              "      <td>25/7/2021</td>\n",
              "      <td>หญิง</td>\n",
              "      <td>42.0</td>\n",
              "      <td>ปี</td>\n",
              "      <td>Thailand</td>\n",
              "      <td>กรุงเทพมหานคร</td>\n",
              "      <td>การค้นหาผู้ป่วยเชิงรุกและค้นหาผู้ติดเชื้อในชุมชน</td>\n",
              "      <td>กรุงเทพมหานคร</td>\n",
              "      <td>บางบอน</td>\n",
              "    </tr>\n",
              "  </tbody>\n",
              "</table>\n",
              "<p>58896 rows × 11 columns</p>\n",
              "</div>"
            ],
            "text/plain": [
              "           No. announce_date  ... province_of_onset district_of_onset\n",
              "0            1     12/1/2020  ...     กรุงเทพมหานคร               NaN\n",
              "1            2     17/1/2020  ...     กรุงเทพมหานคร               NaN\n",
              "4            5     24/1/2020  ...     กรุงเทพมหานคร               NaN\n",
              "5            6     25/1/2020  ...     กรุงเทพมหานคร               NaN\n",
              "6            7     26/1/2020  ...     กรุงเทพมหานคร               NaN\n",
              "...        ...           ...  ...               ...               ...\n",
              "511560  511561     26/7/2021  ...     กรุงเทพมหานคร            ธนบุรี\n",
              "511562  511563     26/7/2021  ...     กรุงเทพมหานคร         คลองสามวา\n",
              "511566  511567     26/7/2021  ...     กรุงเทพมหานคร       บางขุนเทียน\n",
              "511574  511575     26/7/2021  ...     กรุงเทพมหานคร         ลาดกระบัง\n",
              "511577  511578     26/7/2021  ...     กรุงเทพมหานคร            บางบอน\n",
              "\n",
              "[58896 rows x 11 columns]"
            ]
          },
          "metadata": {
            "tags": []
          },
          "execution_count": 65
        }
      ]
    },
    {
      "cell_type": "code",
      "metadata": {
        "id": "c0-9xZEcDLPF"
      },
      "source": [
        "blist_male = data_cases2['sex'] == 'ชาย' #4\n",
        "blist_age = data_cases2['age'] >=18\n",
        "blist_age2 = data_cases2['age'] <=22\n",
        "blist_Changmai = data_cases2['province_of_isolation'] =='เชียงใหม่'"
      ],
      "execution_count": null,
      "outputs": []
    },
    {
      "cell_type": "code",
      "metadata": {
        "id": "QMRqSI8vT2RS",
        "colab": {
          "base_uri": "https://localhost:8080/"
        },
        "outputId": "2da237fd-b384-464b-fed4-730cf81e40c9"
      },
      "source": [
        "data_cases2[blist_male & blist_age & blist_age2 & blist_Changmai]"
      ],
      "execution_count": null,
      "outputs": [
        {
          "output_type": "execute_result",
          "data": {
            "text/html": [
              "<div>\n",
              "<style scoped>\n",
              "    .dataframe tbody tr th:only-of-type {\n",
              "        vertical-align: middle;\n",
              "    }\n",
              "\n",
              "    .dataframe tbody tr th {\n",
              "        vertical-align: top;\n",
              "    }\n",
              "\n",
              "    .dataframe thead th {\n",
              "        text-align: right;\n",
              "    }\n",
              "</style>\n",
              "<table border=\"1\" class=\"dataframe\">\n",
              "  <thead>\n",
              "    <tr style=\"text-align: right;\">\n",
              "      <th></th>\n",
              "      <th>No.</th>\n",
              "      <th>announce_date</th>\n",
              "      <th>Notified date</th>\n",
              "      <th>sex</th>\n",
              "      <th>age</th>\n",
              "      <th>Unit</th>\n",
              "      <th>nationality</th>\n",
              "      <th>province_of_isolation</th>\n",
              "      <th>risk</th>\n",
              "      <th>province_of_onset</th>\n",
              "      <th>district_of_onset</th>\n",
              "    </tr>\n",
              "  </thead>\n",
              "  <tbody>\n",
              "    <tr>\n",
              "      <th>1407</th>\n",
              "      <td>1408</td>\n",
              "      <td>30/3/2020</td>\n",
              "      <td>29/3/2020</td>\n",
              "      <td>ชาย</td>\n",
              "      <td>21.0</td>\n",
              "      <td>ปี</td>\n",
              "      <td>Thailand</td>\n",
              "      <td>เชียงใหม่</td>\n",
              "      <td>สัมผัสใกล้ชิดกับผู้ป่วยยืนยันรายก่อนหน้านี้</td>\n",
              "      <td>เชียงใหม่</td>\n",
              "      <td>เมือง</td>\n",
              "    </tr>\n",
              "    <tr>\n",
              "      <th>30340</th>\n",
              "      <td>30341</td>\n",
              "      <td>9/4/2021</td>\n",
              "      <td>8/4/2021</td>\n",
              "      <td>ชาย</td>\n",
              "      <td>22.0</td>\n",
              "      <td>ปี</td>\n",
              "      <td>Thailand</td>\n",
              "      <td>เชียงใหม่</td>\n",
              "      <td>สถานบันเทิง</td>\n",
              "      <td>เชียงใหม่</td>\n",
              "      <td>เมืองเชียงใหม่</td>\n",
              "    </tr>\n",
              "    <tr>\n",
              "      <th>31499</th>\n",
              "      <td>31500</td>\n",
              "      <td>10/4/2021</td>\n",
              "      <td>9/4/2021</td>\n",
              "      <td>ชาย</td>\n",
              "      <td>22.0</td>\n",
              "      <td>ปี</td>\n",
              "      <td>Thailand</td>\n",
              "      <td>เชียงใหม่</td>\n",
              "      <td>สถานบันเทิง</td>\n",
              "      <td>เชียงใหม่</td>\n",
              "      <td>NaN</td>\n",
              "    </tr>\n",
              "    <tr>\n",
              "      <th>31500</th>\n",
              "      <td>31501</td>\n",
              "      <td>10/4/2021</td>\n",
              "      <td>9/4/2021</td>\n",
              "      <td>ชาย</td>\n",
              "      <td>22.0</td>\n",
              "      <td>ปี</td>\n",
              "      <td>Thailand</td>\n",
              "      <td>เชียงใหม่</td>\n",
              "      <td>สถานบันเทิง</td>\n",
              "      <td>เชียงใหม่</td>\n",
              "      <td>NaN</td>\n",
              "    </tr>\n",
              "    <tr>\n",
              "      <th>31501</th>\n",
              "      <td>31502</td>\n",
              "      <td>10/4/2021</td>\n",
              "      <td>9/4/2021</td>\n",
              "      <td>ชาย</td>\n",
              "      <td>20.0</td>\n",
              "      <td>ปี</td>\n",
              "      <td>Thailand</td>\n",
              "      <td>เชียงใหม่</td>\n",
              "      <td>สถานบันเทิง</td>\n",
              "      <td>เชียงใหม่</td>\n",
              "      <td>NaN</td>\n",
              "    </tr>\n",
              "    <tr>\n",
              "      <th>...</th>\n",
              "      <td>...</td>\n",
              "      <td>...</td>\n",
              "      <td>...</td>\n",
              "      <td>...</td>\n",
              "      <td>...</td>\n",
              "      <td>...</td>\n",
              "      <td>...</td>\n",
              "      <td>...</td>\n",
              "      <td>...</td>\n",
              "      <td>...</td>\n",
              "      <td>...</td>\n",
              "    </tr>\n",
              "    <tr>\n",
              "      <th>481940</th>\n",
              "      <td>481941</td>\n",
              "      <td>25/7/2021</td>\n",
              "      <td>24/7/2021</td>\n",
              "      <td>ชาย</td>\n",
              "      <td>21.0</td>\n",
              "      <td>ปี</td>\n",
              "      <td>Thailand</td>\n",
              "      <td>เชียงใหม่</td>\n",
              "      <td>สัมผัสใกล้ชิดกับผู้ป่วยยืนยันรายก่อนหน้านี้</td>\n",
              "      <td>เชียงใหม่</td>\n",
              "      <td>หางดง</td>\n",
              "    </tr>\n",
              "    <tr>\n",
              "      <th>481953</th>\n",
              "      <td>481954</td>\n",
              "      <td>25/7/2021</td>\n",
              "      <td>24/7/2021</td>\n",
              "      <td>ชาย</td>\n",
              "      <td>19.0</td>\n",
              "      <td>ปี</td>\n",
              "      <td>Thailand</td>\n",
              "      <td>เชียงใหม่</td>\n",
              "      <td>สัมผัสใกล้ชิดกับผู้ป่วยยืนยันรายก่อนหน้านี้</td>\n",
              "      <td>เชียงใหม่</td>\n",
              "      <td>หางดง</td>\n",
              "    </tr>\n",
              "    <tr>\n",
              "      <th>481961</th>\n",
              "      <td>481962</td>\n",
              "      <td>25/7/2021</td>\n",
              "      <td>24/7/2021</td>\n",
              "      <td>ชาย</td>\n",
              "      <td>22.0</td>\n",
              "      <td>ปี</td>\n",
              "      <td>Thailand</td>\n",
              "      <td>เชียงใหม่</td>\n",
              "      <td>สัมผัสใกล้ชิดกับผู้ป่วยยืนยันรายก่อนหน้านี้</td>\n",
              "      <td>เชียงใหม่</td>\n",
              "      <td>เชียงดาว</td>\n",
              "    </tr>\n",
              "    <tr>\n",
              "      <th>497281</th>\n",
              "      <td>497282</td>\n",
              "      <td>26/7/2021</td>\n",
              "      <td>25/7/2021</td>\n",
              "      <td>ชาย</td>\n",
              "      <td>22.0</td>\n",
              "      <td>ปี</td>\n",
              "      <td>NaN</td>\n",
              "      <td>เชียงใหม่</td>\n",
              "      <td>สัมผัสใกล้ชิดกับผู้ป่วยยืนยันรายก่อนหน้านี้</td>\n",
              "      <td>เชียงใหม่</td>\n",
              "      <td>เชียงดาว</td>\n",
              "    </tr>\n",
              "    <tr>\n",
              "      <th>497302</th>\n",
              "      <td>497303</td>\n",
              "      <td>26/7/2021</td>\n",
              "      <td>25/7/2021</td>\n",
              "      <td>ชาย</td>\n",
              "      <td>22.0</td>\n",
              "      <td>ปี</td>\n",
              "      <td>NaN</td>\n",
              "      <td>เชียงใหม่</td>\n",
              "      <td>สัมผัสใกล้ชิดกับผู้ป่วยยืนยันรายก่อนหน้านี้</td>\n",
              "      <td>เชียงใหม่</td>\n",
              "      <td>หางดง</td>\n",
              "    </tr>\n",
              "  </tbody>\n",
              "</table>\n",
              "<p>411 rows × 11 columns</p>\n",
              "</div>"
            ],
            "text/plain": [
              "           No. announce_date  ... province_of_onset district_of_onset\n",
              "1407      1408     30/3/2020  ...         เชียงใหม่             เมือง\n",
              "30340    30341      9/4/2021  ...         เชียงใหม่    เมืองเชียงใหม่\n",
              "31499    31500     10/4/2021  ...         เชียงใหม่               NaN\n",
              "31500    31501     10/4/2021  ...         เชียงใหม่               NaN\n",
              "31501    31502     10/4/2021  ...         เชียงใหม่               NaN\n",
              "...        ...           ...  ...               ...               ...\n",
              "481940  481941     25/7/2021  ...         เชียงใหม่             หางดง\n",
              "481953  481954     25/7/2021  ...         เชียงใหม่             หางดง\n",
              "481961  481962     25/7/2021  ...         เชียงใหม่          เชียงดาว\n",
              "497281  497282     26/7/2021  ...         เชียงใหม่          เชียงดาว\n",
              "497302  497303     26/7/2021  ...         เชียงใหม่             หางดง\n",
              "\n",
              "[411 rows x 11 columns]"
            ]
          },
          "metadata": {
            "tags": []
          },
          "execution_count": 67
        }
      ]
    },
    {
      "cell_type": "code",
      "metadata": {
        "colab": {
          "base_uri": "https://localhost:8080/"
        },
        "id": "huwBPnyX9UER",
        "outputId": "133aac88-30f3-4a05-aedb-66825a324ed9"
      },
      "source": [
        "list_khonkaen_onset = data_cases2['province_of_onset'] == 'ขอนแก่น'#ข้อ 5\n",
        "KK_onset = data_cases2[list_khonkaen_onset]\n",
        "KK_onset"
      ],
      "execution_count": null,
      "outputs": [
        {
          "output_type": "execute_result",
          "data": {
            "text/html": [
              "<div>\n",
              "<style scoped>\n",
              "    .dataframe tbody tr th:only-of-type {\n",
              "        vertical-align: middle;\n",
              "    }\n",
              "\n",
              "    .dataframe tbody tr th {\n",
              "        vertical-align: top;\n",
              "    }\n",
              "\n",
              "    .dataframe thead th {\n",
              "        text-align: right;\n",
              "    }\n",
              "</style>\n",
              "<table border=\"1\" class=\"dataframe\">\n",
              "  <thead>\n",
              "    <tr style=\"text-align: right;\">\n",
              "      <th></th>\n",
              "      <th>No.</th>\n",
              "      <th>announce_date</th>\n",
              "      <th>Notified date</th>\n",
              "      <th>sex</th>\n",
              "      <th>age</th>\n",
              "      <th>Unit</th>\n",
              "      <th>nationality</th>\n",
              "      <th>province_of_isolation</th>\n",
              "      <th>risk</th>\n",
              "      <th>province_of_onset</th>\n",
              "      <th>district_of_onset</th>\n",
              "    </tr>\n",
              "  </thead>\n",
              "  <tbody>\n",
              "    <tr>\n",
              "      <th>181</th>\n",
              "      <td>182</td>\n",
              "      <td>18/3/2020</td>\n",
              "      <td>15/3/2020</td>\n",
              "      <td>ชาย</td>\n",
              "      <td>33.0</td>\n",
              "      <td>ปี</td>\n",
              "      <td>Thailand</td>\n",
              "      <td>ขอนแก่น</td>\n",
              "      <td>สนามมวย</td>\n",
              "      <td>ขอนแก่น</td>\n",
              "      <td>เมือง</td>\n",
              "    </tr>\n",
              "    <tr>\n",
              "      <th>463</th>\n",
              "      <td>464</td>\n",
              "      <td>22/3/2020</td>\n",
              "      <td>21/3/2020</td>\n",
              "      <td>หญิง</td>\n",
              "      <td>36.0</td>\n",
              "      <td>ปี</td>\n",
              "      <td>Thailand</td>\n",
              "      <td>ขอนแก่น</td>\n",
              "      <td>สัมผัสใกล้ชิดกับผู้ป่วยยืนยันรายก่อนหน้านี้</td>\n",
              "      <td>ขอนแก่น</td>\n",
              "      <td>เมือง</td>\n",
              "    </tr>\n",
              "    <tr>\n",
              "      <th>1467</th>\n",
              "      <td>1468</td>\n",
              "      <td>30/3/2020</td>\n",
              "      <td>26/3/2020</td>\n",
              "      <td>ชาย</td>\n",
              "      <td>19.0</td>\n",
              "      <td>ปี</td>\n",
              "      <td>Thailand</td>\n",
              "      <td>ขอนแก่น</td>\n",
              "      <td>คนไทยเดินทางกลับจากต่างประเทศ</td>\n",
              "      <td>ขอนแก่น</td>\n",
              "      <td>เมือง</td>\n",
              "    </tr>\n",
              "    <tr>\n",
              "      <th>1971</th>\n",
              "      <td>1972</td>\n",
              "      <td>3/4/2020</td>\n",
              "      <td>31/3/2020</td>\n",
              "      <td>หญิง</td>\n",
              "      <td>70.0</td>\n",
              "      <td>ปี</td>\n",
              "      <td>Thailand</td>\n",
              "      <td>ขอนแก่น</td>\n",
              "      <td>ไปสถานที่ชุมชน เช่น ตลาดนัด สถานที่ท่องเที่ยว</td>\n",
              "      <td>ขอนแก่น</td>\n",
              "      <td>เมือง</td>\n",
              "    </tr>\n",
              "    <tr>\n",
              "      <th>2638</th>\n",
              "      <td>2639</td>\n",
              "      <td>15/4/2020</td>\n",
              "      <td>14/4/2020</td>\n",
              "      <td>หญิง</td>\n",
              "      <td>63.0</td>\n",
              "      <td>ปี</td>\n",
              "      <td>Thailand</td>\n",
              "      <td>ขอนแก่น</td>\n",
              "      <td>สัมผัสผู้เดินทางจากต่างประเทศ</td>\n",
              "      <td>ขอนแก่น</td>\n",
              "      <td>น้ำพอง</td>\n",
              "    </tr>\n",
              "    <tr>\n",
              "      <th>...</th>\n",
              "      <td>...</td>\n",
              "      <td>...</td>\n",
              "      <td>...</td>\n",
              "      <td>...</td>\n",
              "      <td>...</td>\n",
              "      <td>...</td>\n",
              "      <td>...</td>\n",
              "      <td>...</td>\n",
              "      <td>...</td>\n",
              "      <td>...</td>\n",
              "      <td>...</td>\n",
              "    </tr>\n",
              "    <tr>\n",
              "      <th>507541</th>\n",
              "      <td>507542</td>\n",
              "      <td>26/7/2021</td>\n",
              "      <td>25/7/2021</td>\n",
              "      <td>หญิง</td>\n",
              "      <td>24.0</td>\n",
              "      <td>ปี</td>\n",
              "      <td>Thailand</td>\n",
              "      <td>อุบลราชธานี</td>\n",
              "      <td>อื่นๆ</td>\n",
              "      <td>ขอนแก่น</td>\n",
              "      <td>NaN</td>\n",
              "    </tr>\n",
              "    <tr>\n",
              "      <th>507542</th>\n",
              "      <td>507543</td>\n",
              "      <td>26/7/2021</td>\n",
              "      <td>25/7/2021</td>\n",
              "      <td>หญิง</td>\n",
              "      <td>51.0</td>\n",
              "      <td>ปี</td>\n",
              "      <td>Thailand</td>\n",
              "      <td>อุบลราชธานี</td>\n",
              "      <td>อื่นๆ</td>\n",
              "      <td>ขอนแก่น</td>\n",
              "      <td>NaN</td>\n",
              "    </tr>\n",
              "    <tr>\n",
              "      <th>507543</th>\n",
              "      <td>507544</td>\n",
              "      <td>26/7/2021</td>\n",
              "      <td>25/7/2021</td>\n",
              "      <td>หญิง</td>\n",
              "      <td>13.0</td>\n",
              "      <td>ปี</td>\n",
              "      <td>Thailand</td>\n",
              "      <td>อุบลราชธานี</td>\n",
              "      <td>อื่นๆ</td>\n",
              "      <td>ขอนแก่น</td>\n",
              "      <td>NaN</td>\n",
              "    </tr>\n",
              "    <tr>\n",
              "      <th>507544</th>\n",
              "      <td>507545</td>\n",
              "      <td>26/7/2021</td>\n",
              "      <td>25/7/2021</td>\n",
              "      <td>หญิง</td>\n",
              "      <td>23.0</td>\n",
              "      <td>ปี</td>\n",
              "      <td>Thailand</td>\n",
              "      <td>อุบลราชธานี</td>\n",
              "      <td>อื่นๆ</td>\n",
              "      <td>ขอนแก่น</td>\n",
              "      <td>NaN</td>\n",
              "    </tr>\n",
              "    <tr>\n",
              "      <th>507546</th>\n",
              "      <td>507547</td>\n",
              "      <td>26/7/2021</td>\n",
              "      <td>25/7/2021</td>\n",
              "      <td>ชาย</td>\n",
              "      <td>24.0</td>\n",
              "      <td>ปี</td>\n",
              "      <td>Thailand</td>\n",
              "      <td>อุบลราชธานี</td>\n",
              "      <td>อื่นๆ</td>\n",
              "      <td>ขอนแก่น</td>\n",
              "      <td>NaN</td>\n",
              "    </tr>\n",
              "  </tbody>\n",
              "</table>\n",
              "<p>3149 rows × 11 columns</p>\n",
              "</div>"
            ],
            "text/plain": [
              "           No. announce_date  ... province_of_onset district_of_onset\n",
              "181        182     18/3/2020  ...           ขอนแก่น             เมือง\n",
              "463        464     22/3/2020  ...           ขอนแก่น             เมือง\n",
              "1467      1468     30/3/2020  ...           ขอนแก่น             เมือง\n",
              "1971      1972      3/4/2020  ...           ขอนแก่น             เมือง\n",
              "2638      2639     15/4/2020  ...           ขอนแก่น            น้ำพอง\n",
              "...        ...           ...  ...               ...               ...\n",
              "507541  507542     26/7/2021  ...           ขอนแก่น               NaN\n",
              "507542  507543     26/7/2021  ...           ขอนแก่น               NaN\n",
              "507543  507544     26/7/2021  ...           ขอนแก่น               NaN\n",
              "507544  507545     26/7/2021  ...           ขอนแก่น               NaN\n",
              "507546  507547     26/7/2021  ...           ขอนแก่น               NaN\n",
              "\n",
              "[3149 rows x 11 columns]"
            ]
          },
          "metadata": {
            "tags": []
          },
          "execution_count": 68
        }
      ]
    },
    {
      "cell_type": "code",
      "metadata": {
        "colab": {
          "base_uri": "https://localhost:8080/"
        },
        "id": "eRmAEGtp91fu",
        "outputId": "53eeee1e-6a36-4583-f954-635c1f0af7c4"
      },
      "source": [
        "KK_onset[['age']].mean()"
      ],
      "execution_count": null,
      "outputs": [
        {
          "output_type": "execute_result",
          "data": {
            "text/plain": [
              "age    34.095253\n",
              "dtype: float64"
            ]
          },
          "metadata": {
            "tags": []
          },
          "execution_count": 69
        }
      ]
    },
    {
      "cell_type": "code",
      "metadata": {
        "id": "tWb2GTZkT8sv",
        "colab": {
          "base_uri": "https://localhost:8080/"
        },
        "outputId": "e1b6e027-0a3b-43d7-d917-e1d0bcc5197f"
      },
      "source": [
        "# เฉลยอาจารย์\n",
        "KK_cases = data_cases2['province_of_onset'] == 'ขอนแก่น'\n",
        "KK_mean = data_cases2[KK_cases]['age'].mean()\n",
        "KK_mean"
      ],
      "execution_count": null,
      "outputs": [
        {
          "output_type": "execute_result",
          "data": {
            "text/plain": [
              "34.0952533675433"
            ]
          },
          "metadata": {
            "tags": []
          },
          "execution_count": 70
        }
      ]
    },
    {
      "cell_type": "markdown",
      "metadata": {
        "id": "qM1UguA0T-yc"
      },
      "source": [
        "**พบที่ขอนแก่น**"
      ]
    },
    {
      "cell_type": "code",
      "metadata": {
        "id": "3ilbIGKqT8qK",
        "colab": {
          "base_uri": "https://localhost:8080/"
        },
        "outputId": "8d6ea54e-024f-4f68-8b45-e0d85ee14732"
      },
      "source": [
        "data_cases2[KK_cases]"
      ],
      "execution_count": null,
      "outputs": [
        {
          "output_type": "execute_result",
          "data": {
            "text/html": [
              "<div>\n",
              "<style scoped>\n",
              "    .dataframe tbody tr th:only-of-type {\n",
              "        vertical-align: middle;\n",
              "    }\n",
              "\n",
              "    .dataframe tbody tr th {\n",
              "        vertical-align: top;\n",
              "    }\n",
              "\n",
              "    .dataframe thead th {\n",
              "        text-align: right;\n",
              "    }\n",
              "</style>\n",
              "<table border=\"1\" class=\"dataframe\">\n",
              "  <thead>\n",
              "    <tr style=\"text-align: right;\">\n",
              "      <th></th>\n",
              "      <th>No.</th>\n",
              "      <th>announce_date</th>\n",
              "      <th>Notified date</th>\n",
              "      <th>sex</th>\n",
              "      <th>age</th>\n",
              "      <th>Unit</th>\n",
              "      <th>nationality</th>\n",
              "      <th>province_of_isolation</th>\n",
              "      <th>risk</th>\n",
              "      <th>province_of_onset</th>\n",
              "      <th>district_of_onset</th>\n",
              "    </tr>\n",
              "  </thead>\n",
              "  <tbody>\n",
              "    <tr>\n",
              "      <th>181</th>\n",
              "      <td>182</td>\n",
              "      <td>18/3/2020</td>\n",
              "      <td>15/3/2020</td>\n",
              "      <td>ชาย</td>\n",
              "      <td>33.0</td>\n",
              "      <td>ปี</td>\n",
              "      <td>Thailand</td>\n",
              "      <td>ขอนแก่น</td>\n",
              "      <td>สนามมวย</td>\n",
              "      <td>ขอนแก่น</td>\n",
              "      <td>เมือง</td>\n",
              "    </tr>\n",
              "    <tr>\n",
              "      <th>463</th>\n",
              "      <td>464</td>\n",
              "      <td>22/3/2020</td>\n",
              "      <td>21/3/2020</td>\n",
              "      <td>หญิง</td>\n",
              "      <td>36.0</td>\n",
              "      <td>ปี</td>\n",
              "      <td>Thailand</td>\n",
              "      <td>ขอนแก่น</td>\n",
              "      <td>สัมผัสใกล้ชิดกับผู้ป่วยยืนยันรายก่อนหน้านี้</td>\n",
              "      <td>ขอนแก่น</td>\n",
              "      <td>เมือง</td>\n",
              "    </tr>\n",
              "    <tr>\n",
              "      <th>1467</th>\n",
              "      <td>1468</td>\n",
              "      <td>30/3/2020</td>\n",
              "      <td>26/3/2020</td>\n",
              "      <td>ชาย</td>\n",
              "      <td>19.0</td>\n",
              "      <td>ปี</td>\n",
              "      <td>Thailand</td>\n",
              "      <td>ขอนแก่น</td>\n",
              "      <td>คนไทยเดินทางกลับจากต่างประเทศ</td>\n",
              "      <td>ขอนแก่น</td>\n",
              "      <td>เมือง</td>\n",
              "    </tr>\n",
              "    <tr>\n",
              "      <th>1971</th>\n",
              "      <td>1972</td>\n",
              "      <td>3/4/2020</td>\n",
              "      <td>31/3/2020</td>\n",
              "      <td>หญิง</td>\n",
              "      <td>70.0</td>\n",
              "      <td>ปี</td>\n",
              "      <td>Thailand</td>\n",
              "      <td>ขอนแก่น</td>\n",
              "      <td>ไปสถานที่ชุมชน เช่น ตลาดนัด สถานที่ท่องเที่ยว</td>\n",
              "      <td>ขอนแก่น</td>\n",
              "      <td>เมือง</td>\n",
              "    </tr>\n",
              "    <tr>\n",
              "      <th>2638</th>\n",
              "      <td>2639</td>\n",
              "      <td>15/4/2020</td>\n",
              "      <td>14/4/2020</td>\n",
              "      <td>หญิง</td>\n",
              "      <td>63.0</td>\n",
              "      <td>ปี</td>\n",
              "      <td>Thailand</td>\n",
              "      <td>ขอนแก่น</td>\n",
              "      <td>สัมผัสผู้เดินทางจากต่างประเทศ</td>\n",
              "      <td>ขอนแก่น</td>\n",
              "      <td>น้ำพอง</td>\n",
              "    </tr>\n",
              "    <tr>\n",
              "      <th>...</th>\n",
              "      <td>...</td>\n",
              "      <td>...</td>\n",
              "      <td>...</td>\n",
              "      <td>...</td>\n",
              "      <td>...</td>\n",
              "      <td>...</td>\n",
              "      <td>...</td>\n",
              "      <td>...</td>\n",
              "      <td>...</td>\n",
              "      <td>...</td>\n",
              "      <td>...</td>\n",
              "    </tr>\n",
              "    <tr>\n",
              "      <th>507541</th>\n",
              "      <td>507542</td>\n",
              "      <td>26/7/2021</td>\n",
              "      <td>25/7/2021</td>\n",
              "      <td>หญิง</td>\n",
              "      <td>24.0</td>\n",
              "      <td>ปี</td>\n",
              "      <td>Thailand</td>\n",
              "      <td>อุบลราชธานี</td>\n",
              "      <td>อื่นๆ</td>\n",
              "      <td>ขอนแก่น</td>\n",
              "      <td>NaN</td>\n",
              "    </tr>\n",
              "    <tr>\n",
              "      <th>507542</th>\n",
              "      <td>507543</td>\n",
              "      <td>26/7/2021</td>\n",
              "      <td>25/7/2021</td>\n",
              "      <td>หญิง</td>\n",
              "      <td>51.0</td>\n",
              "      <td>ปี</td>\n",
              "      <td>Thailand</td>\n",
              "      <td>อุบลราชธานี</td>\n",
              "      <td>อื่นๆ</td>\n",
              "      <td>ขอนแก่น</td>\n",
              "      <td>NaN</td>\n",
              "    </tr>\n",
              "    <tr>\n",
              "      <th>507543</th>\n",
              "      <td>507544</td>\n",
              "      <td>26/7/2021</td>\n",
              "      <td>25/7/2021</td>\n",
              "      <td>หญิง</td>\n",
              "      <td>13.0</td>\n",
              "      <td>ปี</td>\n",
              "      <td>Thailand</td>\n",
              "      <td>อุบลราชธานี</td>\n",
              "      <td>อื่นๆ</td>\n",
              "      <td>ขอนแก่น</td>\n",
              "      <td>NaN</td>\n",
              "    </tr>\n",
              "    <tr>\n",
              "      <th>507544</th>\n",
              "      <td>507545</td>\n",
              "      <td>26/7/2021</td>\n",
              "      <td>25/7/2021</td>\n",
              "      <td>หญิง</td>\n",
              "      <td>23.0</td>\n",
              "      <td>ปี</td>\n",
              "      <td>Thailand</td>\n",
              "      <td>อุบลราชธานี</td>\n",
              "      <td>อื่นๆ</td>\n",
              "      <td>ขอนแก่น</td>\n",
              "      <td>NaN</td>\n",
              "    </tr>\n",
              "    <tr>\n",
              "      <th>507546</th>\n",
              "      <td>507547</td>\n",
              "      <td>26/7/2021</td>\n",
              "      <td>25/7/2021</td>\n",
              "      <td>ชาย</td>\n",
              "      <td>24.0</td>\n",
              "      <td>ปี</td>\n",
              "      <td>Thailand</td>\n",
              "      <td>อุบลราชธานี</td>\n",
              "      <td>อื่นๆ</td>\n",
              "      <td>ขอนแก่น</td>\n",
              "      <td>NaN</td>\n",
              "    </tr>\n",
              "  </tbody>\n",
              "</table>\n",
              "<p>3149 rows × 11 columns</p>\n",
              "</div>"
            ],
            "text/plain": [
              "           No. announce_date  ... province_of_onset district_of_onset\n",
              "181        182     18/3/2020  ...           ขอนแก่น             เมือง\n",
              "463        464     22/3/2020  ...           ขอนแก่น             เมือง\n",
              "1467      1468     30/3/2020  ...           ขอนแก่น             เมือง\n",
              "1971      1972      3/4/2020  ...           ขอนแก่น             เมือง\n",
              "2638      2639     15/4/2020  ...           ขอนแก่น            น้ำพอง\n",
              "...        ...           ...  ...               ...               ...\n",
              "507541  507542     26/7/2021  ...           ขอนแก่น               NaN\n",
              "507542  507543     26/7/2021  ...           ขอนแก่น               NaN\n",
              "507543  507544     26/7/2021  ...           ขอนแก่น               NaN\n",
              "507544  507545     26/7/2021  ...           ขอนแก่น               NaN\n",
              "507546  507547     26/7/2021  ...           ขอนแก่น               NaN\n",
              "\n",
              "[3149 rows x 11 columns]"
            ]
          },
          "metadata": {
            "tags": []
          },
          "execution_count": 71
        }
      ]
    },
    {
      "cell_type": "markdown",
      "metadata": {
        "id": "ky2DM_ZIUDmw"
      },
      "source": [
        "**อาค่า mean ไปเติมตรง missing col**"
      ]
    },
    {
      "cell_type": "code",
      "metadata": {
        "id": "kzumOEFwUINz",
        "colab": {
          "base_uri": "https://localhost:8080/"
        },
        "outputId": "0f1ede31-54ad-4f80-afe9-a8f2a2bc93ba"
      },
      "source": [
        "data_KK = data_cases2[KK_cases]\n",
        "data_KK.isnull().any()"
      ],
      "execution_count": null,
      "outputs": [
        {
          "output_type": "execute_result",
          "data": {
            "text/plain": [
              "No.                      False\n",
              "announce_date            False\n",
              "Notified date            False\n",
              "sex                       True\n",
              "age                       True\n",
              "Unit                      True\n",
              "nationality               True\n",
              "province_of_isolation    False\n",
              "risk                      True\n",
              "province_of_onset        False\n",
              "district_of_onset         True\n",
              "dtype: bool"
            ]
          },
          "metadata": {
            "tags": []
          },
          "execution_count": 72
        }
      ]
    },
    {
      "cell_type": "code",
      "metadata": {
        "id": "zUPo21JxUIWZ",
        "colab": {
          "base_uri": "https://localhost:8080/"
        },
        "outputId": "65759ba5-eaae-4537-a0a0-5629b9e64653"
      },
      "source": [
        "data_KK[['age']] = data_KK[['age']].fillna(KK_mean)"
      ],
      "execution_count": null,
      "outputs": [
        {
          "output_type": "stream",
          "text": [
            "/usr/local/lib/python3.7/dist-packages/pandas/core/frame.py:3069: SettingWithCopyWarning: \n",
            "A value is trying to be set on a copy of a slice from a DataFrame.\n",
            "Try using .loc[row_indexer,col_indexer] = value instead\n",
            "\n",
            "See the caveats in the documentation: https://pandas.pydata.org/pandas-docs/stable/user_guide/indexing.html#returning-a-view-versus-a-copy\n",
            "  self[k1] = value[k2]\n"
          ],
          "name": "stderr"
        }
      ]
    },
    {
      "cell_type": "code",
      "metadata": {
        "id": "sEVME9JiUIgO",
        "colab": {
          "base_uri": "https://localhost:8080/"
        },
        "outputId": "b1ba9c47-d3b1-41fc-c9ce-0f1202afe83a"
      },
      "source": [
        "data_KK.isnull().any()"
      ],
      "execution_count": null,
      "outputs": [
        {
          "output_type": "execute_result",
          "data": {
            "text/plain": [
              "No.                      False\n",
              "announce_date            False\n",
              "Notified date            False\n",
              "sex                       True\n",
              "age                      False\n",
              "Unit                      True\n",
              "nationality               True\n",
              "province_of_isolation    False\n",
              "risk                      True\n",
              "province_of_onset        False\n",
              "district_of_onset         True\n",
              "dtype: bool"
            ]
          },
          "metadata": {
            "tags": []
          },
          "execution_count": 74
        }
      ]
    },
    {
      "cell_type": "code",
      "metadata": {
        "id": "qZhT4v2rT8nC",
        "colab": {
          "base_uri": "https://localhost:8080/"
        },
        "outputId": "dd0d4869-db03-4be2-bfd9-309a708f031e"
      },
      "source": [
        "data_KK"
      ],
      "execution_count": null,
      "outputs": [
        {
          "output_type": "execute_result",
          "data": {
            "text/html": [
              "<div>\n",
              "<style scoped>\n",
              "    .dataframe tbody tr th:only-of-type {\n",
              "        vertical-align: middle;\n",
              "    }\n",
              "\n",
              "    .dataframe tbody tr th {\n",
              "        vertical-align: top;\n",
              "    }\n",
              "\n",
              "    .dataframe thead th {\n",
              "        text-align: right;\n",
              "    }\n",
              "</style>\n",
              "<table border=\"1\" class=\"dataframe\">\n",
              "  <thead>\n",
              "    <tr style=\"text-align: right;\">\n",
              "      <th></th>\n",
              "      <th>No.</th>\n",
              "      <th>announce_date</th>\n",
              "      <th>Notified date</th>\n",
              "      <th>sex</th>\n",
              "      <th>age</th>\n",
              "      <th>Unit</th>\n",
              "      <th>nationality</th>\n",
              "      <th>province_of_isolation</th>\n",
              "      <th>risk</th>\n",
              "      <th>province_of_onset</th>\n",
              "      <th>district_of_onset</th>\n",
              "    </tr>\n",
              "  </thead>\n",
              "  <tbody>\n",
              "    <tr>\n",
              "      <th>181</th>\n",
              "      <td>182</td>\n",
              "      <td>18/3/2020</td>\n",
              "      <td>15/3/2020</td>\n",
              "      <td>ชาย</td>\n",
              "      <td>33.0</td>\n",
              "      <td>ปี</td>\n",
              "      <td>Thailand</td>\n",
              "      <td>ขอนแก่น</td>\n",
              "      <td>สนามมวย</td>\n",
              "      <td>ขอนแก่น</td>\n",
              "      <td>เมือง</td>\n",
              "    </tr>\n",
              "    <tr>\n",
              "      <th>463</th>\n",
              "      <td>464</td>\n",
              "      <td>22/3/2020</td>\n",
              "      <td>21/3/2020</td>\n",
              "      <td>หญิง</td>\n",
              "      <td>36.0</td>\n",
              "      <td>ปี</td>\n",
              "      <td>Thailand</td>\n",
              "      <td>ขอนแก่น</td>\n",
              "      <td>สัมผัสใกล้ชิดกับผู้ป่วยยืนยันรายก่อนหน้านี้</td>\n",
              "      <td>ขอนแก่น</td>\n",
              "      <td>เมือง</td>\n",
              "    </tr>\n",
              "    <tr>\n",
              "      <th>1467</th>\n",
              "      <td>1468</td>\n",
              "      <td>30/3/2020</td>\n",
              "      <td>26/3/2020</td>\n",
              "      <td>ชาย</td>\n",
              "      <td>19.0</td>\n",
              "      <td>ปี</td>\n",
              "      <td>Thailand</td>\n",
              "      <td>ขอนแก่น</td>\n",
              "      <td>คนไทยเดินทางกลับจากต่างประเทศ</td>\n",
              "      <td>ขอนแก่น</td>\n",
              "      <td>เมือง</td>\n",
              "    </tr>\n",
              "    <tr>\n",
              "      <th>1971</th>\n",
              "      <td>1972</td>\n",
              "      <td>3/4/2020</td>\n",
              "      <td>31/3/2020</td>\n",
              "      <td>หญิง</td>\n",
              "      <td>70.0</td>\n",
              "      <td>ปี</td>\n",
              "      <td>Thailand</td>\n",
              "      <td>ขอนแก่น</td>\n",
              "      <td>ไปสถานที่ชุมชน เช่น ตลาดนัด สถานที่ท่องเที่ยว</td>\n",
              "      <td>ขอนแก่น</td>\n",
              "      <td>เมือง</td>\n",
              "    </tr>\n",
              "    <tr>\n",
              "      <th>2638</th>\n",
              "      <td>2639</td>\n",
              "      <td>15/4/2020</td>\n",
              "      <td>14/4/2020</td>\n",
              "      <td>หญิง</td>\n",
              "      <td>63.0</td>\n",
              "      <td>ปี</td>\n",
              "      <td>Thailand</td>\n",
              "      <td>ขอนแก่น</td>\n",
              "      <td>สัมผัสผู้เดินทางจากต่างประเทศ</td>\n",
              "      <td>ขอนแก่น</td>\n",
              "      <td>น้ำพอง</td>\n",
              "    </tr>\n",
              "    <tr>\n",
              "      <th>...</th>\n",
              "      <td>...</td>\n",
              "      <td>...</td>\n",
              "      <td>...</td>\n",
              "      <td>...</td>\n",
              "      <td>...</td>\n",
              "      <td>...</td>\n",
              "      <td>...</td>\n",
              "      <td>...</td>\n",
              "      <td>...</td>\n",
              "      <td>...</td>\n",
              "      <td>...</td>\n",
              "    </tr>\n",
              "    <tr>\n",
              "      <th>507541</th>\n",
              "      <td>507542</td>\n",
              "      <td>26/7/2021</td>\n",
              "      <td>25/7/2021</td>\n",
              "      <td>หญิง</td>\n",
              "      <td>24.0</td>\n",
              "      <td>ปี</td>\n",
              "      <td>Thailand</td>\n",
              "      <td>อุบลราชธานี</td>\n",
              "      <td>อื่นๆ</td>\n",
              "      <td>ขอนแก่น</td>\n",
              "      <td>NaN</td>\n",
              "    </tr>\n",
              "    <tr>\n",
              "      <th>507542</th>\n",
              "      <td>507543</td>\n",
              "      <td>26/7/2021</td>\n",
              "      <td>25/7/2021</td>\n",
              "      <td>หญิง</td>\n",
              "      <td>51.0</td>\n",
              "      <td>ปี</td>\n",
              "      <td>Thailand</td>\n",
              "      <td>อุบลราชธานี</td>\n",
              "      <td>อื่นๆ</td>\n",
              "      <td>ขอนแก่น</td>\n",
              "      <td>NaN</td>\n",
              "    </tr>\n",
              "    <tr>\n",
              "      <th>507543</th>\n",
              "      <td>507544</td>\n",
              "      <td>26/7/2021</td>\n",
              "      <td>25/7/2021</td>\n",
              "      <td>หญิง</td>\n",
              "      <td>13.0</td>\n",
              "      <td>ปี</td>\n",
              "      <td>Thailand</td>\n",
              "      <td>อุบลราชธานี</td>\n",
              "      <td>อื่นๆ</td>\n",
              "      <td>ขอนแก่น</td>\n",
              "      <td>NaN</td>\n",
              "    </tr>\n",
              "    <tr>\n",
              "      <th>507544</th>\n",
              "      <td>507545</td>\n",
              "      <td>26/7/2021</td>\n",
              "      <td>25/7/2021</td>\n",
              "      <td>หญิง</td>\n",
              "      <td>23.0</td>\n",
              "      <td>ปี</td>\n",
              "      <td>Thailand</td>\n",
              "      <td>อุบลราชธานี</td>\n",
              "      <td>อื่นๆ</td>\n",
              "      <td>ขอนแก่น</td>\n",
              "      <td>NaN</td>\n",
              "    </tr>\n",
              "    <tr>\n",
              "      <th>507546</th>\n",
              "      <td>507547</td>\n",
              "      <td>26/7/2021</td>\n",
              "      <td>25/7/2021</td>\n",
              "      <td>ชาย</td>\n",
              "      <td>24.0</td>\n",
              "      <td>ปี</td>\n",
              "      <td>Thailand</td>\n",
              "      <td>อุบลราชธานี</td>\n",
              "      <td>อื่นๆ</td>\n",
              "      <td>ขอนแก่น</td>\n",
              "      <td>NaN</td>\n",
              "    </tr>\n",
              "  </tbody>\n",
              "</table>\n",
              "<p>3149 rows × 11 columns</p>\n",
              "</div>"
            ],
            "text/plain": [
              "           No. announce_date  ... province_of_onset district_of_onset\n",
              "181        182     18/3/2020  ...           ขอนแก่น             เมือง\n",
              "463        464     22/3/2020  ...           ขอนแก่น             เมือง\n",
              "1467      1468     30/3/2020  ...           ขอนแก่น             เมือง\n",
              "1971      1972      3/4/2020  ...           ขอนแก่น             เมือง\n",
              "2638      2639     15/4/2020  ...           ขอนแก่น            น้ำพอง\n",
              "...        ...           ...  ...               ...               ...\n",
              "507541  507542     26/7/2021  ...           ขอนแก่น               NaN\n",
              "507542  507543     26/7/2021  ...           ขอนแก่น               NaN\n",
              "507543  507544     26/7/2021  ...           ขอนแก่น               NaN\n",
              "507544  507545     26/7/2021  ...           ขอนแก่น               NaN\n",
              "507546  507547     26/7/2021  ...           ขอนแก่น               NaN\n",
              "\n",
              "[3149 rows x 11 columns]"
            ]
          },
          "metadata": {
            "tags": []
          },
          "execution_count": 75
        }
      ]
    },
    {
      "cell_type": "markdown",
      "metadata": {
        "id": "uTJQAtP1UPMG"
      },
      "source": [
        "**เติมค่า mean แทน missing ของ เชียงใหม่**"
      ]
    },
    {
      "cell_type": "code",
      "metadata": {
        "id": "XvvYleYXT8kA",
        "colab": {
          "base_uri": "https://localhost:8080/"
        },
        "outputId": "6696bdfb-8400-48b1-fc00-310ec7b32f96"
      },
      "source": [
        "# หาค่า mean ของเชียงใหม่\n",
        "CM_cases = data_cases2['province_of_onset'] == 'เชียงใหม่'\n",
        "CM_mean = data_cases2[CM_cases]['age'].mean()\n",
        "\n",
        "# เลือกมาเฉพาะ data เชียงใหม่\n",
        "data_CM = data_cases2[CM_cases]\n",
        "\n",
        "# เติมค่า mean แทน missing\n",
        "data_CM[['age']] = data_CM[['age']].fillna(CM_mean)"
      ],
      "execution_count": null,
      "outputs": [
        {
          "output_type": "stream",
          "text": [
            "/usr/local/lib/python3.7/dist-packages/pandas/core/frame.py:3069: SettingWithCopyWarning: \n",
            "A value is trying to be set on a copy of a slice from a DataFrame.\n",
            "Try using .loc[row_indexer,col_indexer] = value instead\n",
            "\n",
            "See the caveats in the documentation: https://pandas.pydata.org/pandas-docs/stable/user_guide/indexing.html#returning-a-view-versus-a-copy\n",
            "  self[k1] = value[k2]\n"
          ],
          "name": "stderr"
        }
      ]
    },
    {
      "cell_type": "code",
      "metadata": {
        "id": "cYIrFXR5T8am",
        "colab": {
          "base_uri": "https://localhost:8080/"
        },
        "outputId": "bd69ab65-1c74-4dba-bbdb-5fa2a3d1b6e8"
      },
      "source": [
        "data_CM"
      ],
      "execution_count": null,
      "outputs": [
        {
          "output_type": "execute_result",
          "data": {
            "text/html": [
              "<div>\n",
              "<style scoped>\n",
              "    .dataframe tbody tr th:only-of-type {\n",
              "        vertical-align: middle;\n",
              "    }\n",
              "\n",
              "    .dataframe tbody tr th {\n",
              "        vertical-align: top;\n",
              "    }\n",
              "\n",
              "    .dataframe thead th {\n",
              "        text-align: right;\n",
              "    }\n",
              "</style>\n",
              "<table border=\"1\" class=\"dataframe\">\n",
              "  <thead>\n",
              "    <tr style=\"text-align: right;\">\n",
              "      <th></th>\n",
              "      <th>No.</th>\n",
              "      <th>announce_date</th>\n",
              "      <th>Notified date</th>\n",
              "      <th>sex</th>\n",
              "      <th>age</th>\n",
              "      <th>Unit</th>\n",
              "      <th>nationality</th>\n",
              "      <th>province_of_isolation</th>\n",
              "      <th>risk</th>\n",
              "      <th>province_of_onset</th>\n",
              "      <th>district_of_onset</th>\n",
              "    </tr>\n",
              "  </thead>\n",
              "  <tbody>\n",
              "    <tr>\n",
              "      <th>16</th>\n",
              "      <td>17</td>\n",
              "      <td>31/1/2020</td>\n",
              "      <td>NaN</td>\n",
              "      <td>ชาย</td>\n",
              "      <td>28.0</td>\n",
              "      <td>ปี</td>\n",
              "      <td>China</td>\n",
              "      <td>เชียงใหม่</td>\n",
              "      <td>คนต่างชาติเดินทางมาจากต่างประเทศ</td>\n",
              "      <td>เชียงใหม่</td>\n",
              "      <td>หางดง</td>\n",
              "    </tr>\n",
              "    <tr>\n",
              "      <th>91</th>\n",
              "      <td>92</td>\n",
              "      <td>15/3/2020</td>\n",
              "      <td>NaN</td>\n",
              "      <td>ชาย</td>\n",
              "      <td>37.0</td>\n",
              "      <td>ปี</td>\n",
              "      <td>Thailand</td>\n",
              "      <td>เชียงใหม่</td>\n",
              "      <td>สนามมวย</td>\n",
              "      <td>เชียงใหม่</td>\n",
              "      <td>แม่ริม</td>\n",
              "    </tr>\n",
              "    <tr>\n",
              "      <th>185</th>\n",
              "      <td>186</td>\n",
              "      <td>18/3/2020</td>\n",
              "      <td>NaN</td>\n",
              "      <td>ชาย</td>\n",
              "      <td>31.0</td>\n",
              "      <td>ปี</td>\n",
              "      <td>Thailand</td>\n",
              "      <td>เชียงใหม่</td>\n",
              "      <td>สนามมวย</td>\n",
              "      <td>เชียงใหม่</td>\n",
              "      <td>นครพิงค์</td>\n",
              "    </tr>\n",
              "    <tr>\n",
              "      <th>192</th>\n",
              "      <td>193</td>\n",
              "      <td>18/3/2020</td>\n",
              "      <td>NaN</td>\n",
              "      <td>ชาย</td>\n",
              "      <td>32.0</td>\n",
              "      <td>ปี</td>\n",
              "      <td>Thailand</td>\n",
              "      <td>เชียงใหม่</td>\n",
              "      <td>สัมผัสใกล้ชิดกับผู้ป่วยยืนยันรายก่อนหน้านี้</td>\n",
              "      <td>เชียงใหม่</td>\n",
              "      <td>NaN</td>\n",
              "    </tr>\n",
              "    <tr>\n",
              "      <th>252</th>\n",
              "      <td>253</td>\n",
              "      <td>19/3/2020</td>\n",
              "      <td>NaN</td>\n",
              "      <td>ชาย</td>\n",
              "      <td>25.0</td>\n",
              "      <td>ปี</td>\n",
              "      <td>Thailand</td>\n",
              "      <td>เชียงใหม่</td>\n",
              "      <td>สัมผัสใกล้ชิดกับผู้ป่วยยืนยันรายก่อนหน้านี้</td>\n",
              "      <td>เชียงใหม่</td>\n",
              "      <td>NaN</td>\n",
              "    </tr>\n",
              "    <tr>\n",
              "      <th>...</th>\n",
              "      <td>...</td>\n",
              "      <td>...</td>\n",
              "      <td>...</td>\n",
              "      <td>...</td>\n",
              "      <td>...</td>\n",
              "      <td>...</td>\n",
              "      <td>...</td>\n",
              "      <td>...</td>\n",
              "      <td>...</td>\n",
              "      <td>...</td>\n",
              "      <td>...</td>\n",
              "    </tr>\n",
              "    <tr>\n",
              "      <th>497341</th>\n",
              "      <td>497342</td>\n",
              "      <td>26/7/2021</td>\n",
              "      <td>25/7/2021</td>\n",
              "      <td>ชาย</td>\n",
              "      <td>25.0</td>\n",
              "      <td>ปี</td>\n",
              "      <td>NaN</td>\n",
              "      <td>เชียงใหม่</td>\n",
              "      <td>อื่นๆ</td>\n",
              "      <td>เชียงใหม่</td>\n",
              "      <td>สันกำแพง</td>\n",
              "    </tr>\n",
              "    <tr>\n",
              "      <th>497342</th>\n",
              "      <td>497343</td>\n",
              "      <td>26/7/2021</td>\n",
              "      <td>25/7/2021</td>\n",
              "      <td>ชาย</td>\n",
              "      <td>25.0</td>\n",
              "      <td>ปี</td>\n",
              "      <td>NaN</td>\n",
              "      <td>เชียงใหม่</td>\n",
              "      <td>อื่นๆ</td>\n",
              "      <td>เชียงใหม่</td>\n",
              "      <td>NaN</td>\n",
              "    </tr>\n",
              "    <tr>\n",
              "      <th>497343</th>\n",
              "      <td>497344</td>\n",
              "      <td>26/7/2021</td>\n",
              "      <td>25/7/2021</td>\n",
              "      <td>หญิง</td>\n",
              "      <td>35.0</td>\n",
              "      <td>ปี</td>\n",
              "      <td>NaN</td>\n",
              "      <td>เชียงใหม่</td>\n",
              "      <td>อื่นๆ</td>\n",
              "      <td>เชียงใหม่</td>\n",
              "      <td>-เลือกอำเภอ-</td>\n",
              "    </tr>\n",
              "    <tr>\n",
              "      <th>497344</th>\n",
              "      <td>497345</td>\n",
              "      <td>26/7/2021</td>\n",
              "      <td>25/7/2021</td>\n",
              "      <td>ชาย</td>\n",
              "      <td>63.0</td>\n",
              "      <td>ปี</td>\n",
              "      <td>NaN</td>\n",
              "      <td>เชียงใหม่</td>\n",
              "      <td>อื่นๆ</td>\n",
              "      <td>เชียงใหม่</td>\n",
              "      <td>แม่ริม</td>\n",
              "    </tr>\n",
              "    <tr>\n",
              "      <th>497345</th>\n",
              "      <td>497346</td>\n",
              "      <td>26/7/2021</td>\n",
              "      <td>25/7/2021</td>\n",
              "      <td>หญิง</td>\n",
              "      <td>29.0</td>\n",
              "      <td>ปี</td>\n",
              "      <td>NaN</td>\n",
              "      <td>เชียงใหม่</td>\n",
              "      <td>สัมผัสใกล้ชิดกับผู้ป่วยยืนยันรายก่อนหน้านี้</td>\n",
              "      <td>เชียงใหม่</td>\n",
              "      <td>แม่อาย</td>\n",
              "    </tr>\n",
              "  </tbody>\n",
              "</table>\n",
              "<p>4074 rows × 11 columns</p>\n",
              "</div>"
            ],
            "text/plain": [
              "           No. announce_date  ... province_of_onset district_of_onset\n",
              "16          17     31/1/2020  ...         เชียงใหม่             หางดง\n",
              "91          92     15/3/2020  ...         เชียงใหม่            แม่ริม\n",
              "185        186     18/3/2020  ...         เชียงใหม่          นครพิงค์\n",
              "192        193     18/3/2020  ...         เชียงใหม่               NaN\n",
              "252        253     19/3/2020  ...         เชียงใหม่               NaN\n",
              "...        ...           ...  ...               ...               ...\n",
              "497341  497342     26/7/2021  ...         เชียงใหม่          สันกำแพง\n",
              "497342  497343     26/7/2021  ...         เชียงใหม่               NaN\n",
              "497343  497344     26/7/2021  ...         เชียงใหม่      -เลือกอำเภอ-\n",
              "497344  497345     26/7/2021  ...         เชียงใหม่            แม่ริม\n",
              "497345  497346     26/7/2021  ...         เชียงใหม่            แม่อาย\n",
              "\n",
              "[4074 rows x 11 columns]"
            ]
          },
          "metadata": {
            "tags": []
          },
          "execution_count": 77
        }
      ]
    },
    {
      "cell_type": "markdown",
      "metadata": {
        "id": "tfhiyeeZUXLf"
      },
      "source": [
        "##**ต่อตารางแนวแกน Y [PD]**"
      ]
    },
    {
      "cell_type": "code",
      "metadata": {
        "id": "5B9fZNsjUWXg",
        "colab": {
          "base_uri": "https://localhost:8080/"
        },
        "outputId": "49fc0fdf-65ec-4353-a0c2-21749a6acfba"
      },
      "source": [
        "data_CMKK = pd.concat([data_CM,data_KK])\n",
        "data_CMKK"
      ],
      "execution_count": null,
      "outputs": [
        {
          "output_type": "execute_result",
          "data": {
            "text/html": [
              "<div>\n",
              "<style scoped>\n",
              "    .dataframe tbody tr th:only-of-type {\n",
              "        vertical-align: middle;\n",
              "    }\n",
              "\n",
              "    .dataframe tbody tr th {\n",
              "        vertical-align: top;\n",
              "    }\n",
              "\n",
              "    .dataframe thead th {\n",
              "        text-align: right;\n",
              "    }\n",
              "</style>\n",
              "<table border=\"1\" class=\"dataframe\">\n",
              "  <thead>\n",
              "    <tr style=\"text-align: right;\">\n",
              "      <th></th>\n",
              "      <th>No.</th>\n",
              "      <th>announce_date</th>\n",
              "      <th>Notified date</th>\n",
              "      <th>sex</th>\n",
              "      <th>age</th>\n",
              "      <th>Unit</th>\n",
              "      <th>nationality</th>\n",
              "      <th>province_of_isolation</th>\n",
              "      <th>risk</th>\n",
              "      <th>province_of_onset</th>\n",
              "      <th>district_of_onset</th>\n",
              "    </tr>\n",
              "  </thead>\n",
              "  <tbody>\n",
              "    <tr>\n",
              "      <th>16</th>\n",
              "      <td>17</td>\n",
              "      <td>31/1/2020</td>\n",
              "      <td>NaN</td>\n",
              "      <td>ชาย</td>\n",
              "      <td>28.0</td>\n",
              "      <td>ปี</td>\n",
              "      <td>China</td>\n",
              "      <td>เชียงใหม่</td>\n",
              "      <td>คนต่างชาติเดินทางมาจากต่างประเทศ</td>\n",
              "      <td>เชียงใหม่</td>\n",
              "      <td>หางดง</td>\n",
              "    </tr>\n",
              "    <tr>\n",
              "      <th>91</th>\n",
              "      <td>92</td>\n",
              "      <td>15/3/2020</td>\n",
              "      <td>NaN</td>\n",
              "      <td>ชาย</td>\n",
              "      <td>37.0</td>\n",
              "      <td>ปี</td>\n",
              "      <td>Thailand</td>\n",
              "      <td>เชียงใหม่</td>\n",
              "      <td>สนามมวย</td>\n",
              "      <td>เชียงใหม่</td>\n",
              "      <td>แม่ริม</td>\n",
              "    </tr>\n",
              "    <tr>\n",
              "      <th>185</th>\n",
              "      <td>186</td>\n",
              "      <td>18/3/2020</td>\n",
              "      <td>NaN</td>\n",
              "      <td>ชาย</td>\n",
              "      <td>31.0</td>\n",
              "      <td>ปี</td>\n",
              "      <td>Thailand</td>\n",
              "      <td>เชียงใหม่</td>\n",
              "      <td>สนามมวย</td>\n",
              "      <td>เชียงใหม่</td>\n",
              "      <td>นครพิงค์</td>\n",
              "    </tr>\n",
              "    <tr>\n",
              "      <th>192</th>\n",
              "      <td>193</td>\n",
              "      <td>18/3/2020</td>\n",
              "      <td>NaN</td>\n",
              "      <td>ชาย</td>\n",
              "      <td>32.0</td>\n",
              "      <td>ปี</td>\n",
              "      <td>Thailand</td>\n",
              "      <td>เชียงใหม่</td>\n",
              "      <td>สัมผัสใกล้ชิดกับผู้ป่วยยืนยันรายก่อนหน้านี้</td>\n",
              "      <td>เชียงใหม่</td>\n",
              "      <td>NaN</td>\n",
              "    </tr>\n",
              "    <tr>\n",
              "      <th>252</th>\n",
              "      <td>253</td>\n",
              "      <td>19/3/2020</td>\n",
              "      <td>NaN</td>\n",
              "      <td>ชาย</td>\n",
              "      <td>25.0</td>\n",
              "      <td>ปี</td>\n",
              "      <td>Thailand</td>\n",
              "      <td>เชียงใหม่</td>\n",
              "      <td>สัมผัสใกล้ชิดกับผู้ป่วยยืนยันรายก่อนหน้านี้</td>\n",
              "      <td>เชียงใหม่</td>\n",
              "      <td>NaN</td>\n",
              "    </tr>\n",
              "    <tr>\n",
              "      <th>...</th>\n",
              "      <td>...</td>\n",
              "      <td>...</td>\n",
              "      <td>...</td>\n",
              "      <td>...</td>\n",
              "      <td>...</td>\n",
              "      <td>...</td>\n",
              "      <td>...</td>\n",
              "      <td>...</td>\n",
              "      <td>...</td>\n",
              "      <td>...</td>\n",
              "      <td>...</td>\n",
              "    </tr>\n",
              "    <tr>\n",
              "      <th>507541</th>\n",
              "      <td>507542</td>\n",
              "      <td>26/7/2021</td>\n",
              "      <td>25/7/2021</td>\n",
              "      <td>หญิง</td>\n",
              "      <td>24.0</td>\n",
              "      <td>ปี</td>\n",
              "      <td>Thailand</td>\n",
              "      <td>อุบลราชธานี</td>\n",
              "      <td>อื่นๆ</td>\n",
              "      <td>ขอนแก่น</td>\n",
              "      <td>NaN</td>\n",
              "    </tr>\n",
              "    <tr>\n",
              "      <th>507542</th>\n",
              "      <td>507543</td>\n",
              "      <td>26/7/2021</td>\n",
              "      <td>25/7/2021</td>\n",
              "      <td>หญิง</td>\n",
              "      <td>51.0</td>\n",
              "      <td>ปี</td>\n",
              "      <td>Thailand</td>\n",
              "      <td>อุบลราชธานี</td>\n",
              "      <td>อื่นๆ</td>\n",
              "      <td>ขอนแก่น</td>\n",
              "      <td>NaN</td>\n",
              "    </tr>\n",
              "    <tr>\n",
              "      <th>507543</th>\n",
              "      <td>507544</td>\n",
              "      <td>26/7/2021</td>\n",
              "      <td>25/7/2021</td>\n",
              "      <td>หญิง</td>\n",
              "      <td>13.0</td>\n",
              "      <td>ปี</td>\n",
              "      <td>Thailand</td>\n",
              "      <td>อุบลราชธานี</td>\n",
              "      <td>อื่นๆ</td>\n",
              "      <td>ขอนแก่น</td>\n",
              "      <td>NaN</td>\n",
              "    </tr>\n",
              "    <tr>\n",
              "      <th>507544</th>\n",
              "      <td>507545</td>\n",
              "      <td>26/7/2021</td>\n",
              "      <td>25/7/2021</td>\n",
              "      <td>หญิง</td>\n",
              "      <td>23.0</td>\n",
              "      <td>ปี</td>\n",
              "      <td>Thailand</td>\n",
              "      <td>อุบลราชธานี</td>\n",
              "      <td>อื่นๆ</td>\n",
              "      <td>ขอนแก่น</td>\n",
              "      <td>NaN</td>\n",
              "    </tr>\n",
              "    <tr>\n",
              "      <th>507546</th>\n",
              "      <td>507547</td>\n",
              "      <td>26/7/2021</td>\n",
              "      <td>25/7/2021</td>\n",
              "      <td>ชาย</td>\n",
              "      <td>24.0</td>\n",
              "      <td>ปี</td>\n",
              "      <td>Thailand</td>\n",
              "      <td>อุบลราชธานี</td>\n",
              "      <td>อื่นๆ</td>\n",
              "      <td>ขอนแก่น</td>\n",
              "      <td>NaN</td>\n",
              "    </tr>\n",
              "  </tbody>\n",
              "</table>\n",
              "<p>7223 rows × 11 columns</p>\n",
              "</div>"
            ],
            "text/plain": [
              "           No. announce_date  ... province_of_onset district_of_onset\n",
              "16          17     31/1/2020  ...         เชียงใหม่             หางดง\n",
              "91          92     15/3/2020  ...         เชียงใหม่            แม่ริม\n",
              "185        186     18/3/2020  ...         เชียงใหม่          นครพิงค์\n",
              "192        193     18/3/2020  ...         เชียงใหม่               NaN\n",
              "252        253     19/3/2020  ...         เชียงใหม่               NaN\n",
              "...        ...           ...  ...               ...               ...\n",
              "507541  507542     26/7/2021  ...           ขอนแก่น               NaN\n",
              "507542  507543     26/7/2021  ...           ขอนแก่น               NaN\n",
              "507543  507544     26/7/2021  ...           ขอนแก่น               NaN\n",
              "507544  507545     26/7/2021  ...           ขอนแก่น               NaN\n",
              "507546  507547     26/7/2021  ...           ขอนแก่น               NaN\n",
              "\n",
              "[7223 rows x 11 columns]"
            ]
          },
          "metadata": {
            "tags": []
          },
          "execution_count": 78
        }
      ]
    },
    {
      "cell_type": "markdown",
      "metadata": {
        "id": "UAyErzXuUeWR"
      },
      "source": [
        "## Handling Missing Value 5 (แทนด้วย ค่ากลางของ samples ใน class เดียวกัน)(ต่อ)"
      ]
    },
    {
      "cell_type": "code",
      "metadata": {
        "id": "2XLsNnypUcqv",
        "colab": {
          "base_uri": "https://localhost:8080/"
        },
        "outputId": "3b635385-0eca-427c-f39c-7550257b683f"
      },
      "source": [
        "data_cases2"
      ],
      "execution_count": null,
      "outputs": [
        {
          "output_type": "execute_result",
          "data": {
            "text/html": [
              "<div>\n",
              "<style scoped>\n",
              "    .dataframe tbody tr th:only-of-type {\n",
              "        vertical-align: middle;\n",
              "    }\n",
              "\n",
              "    .dataframe tbody tr th {\n",
              "        vertical-align: top;\n",
              "    }\n",
              "\n",
              "    .dataframe thead th {\n",
              "        text-align: right;\n",
              "    }\n",
              "</style>\n",
              "<table border=\"1\" class=\"dataframe\">\n",
              "  <thead>\n",
              "    <tr style=\"text-align: right;\">\n",
              "      <th></th>\n",
              "      <th>No.</th>\n",
              "      <th>announce_date</th>\n",
              "      <th>Notified date</th>\n",
              "      <th>sex</th>\n",
              "      <th>age</th>\n",
              "      <th>Unit</th>\n",
              "      <th>nationality</th>\n",
              "      <th>province_of_isolation</th>\n",
              "      <th>risk</th>\n",
              "      <th>province_of_onset</th>\n",
              "      <th>district_of_onset</th>\n",
              "    </tr>\n",
              "  </thead>\n",
              "  <tbody>\n",
              "    <tr>\n",
              "      <th>0</th>\n",
              "      <td>1</td>\n",
              "      <td>12/1/2020</td>\n",
              "      <td>NaN</td>\n",
              "      <td>หญิง</td>\n",
              "      <td>61.0</td>\n",
              "      <td>ปี</td>\n",
              "      <td>China</td>\n",
              "      <td>กรุงเทพมหานคร</td>\n",
              "      <td>คนต่างชาติเดินทางมาจากต่างประเทศ</td>\n",
              "      <td>กรุงเทพมหานคร</td>\n",
              "      <td>NaN</td>\n",
              "    </tr>\n",
              "    <tr>\n",
              "      <th>1</th>\n",
              "      <td>2</td>\n",
              "      <td>17/1/2020</td>\n",
              "      <td>NaN</td>\n",
              "      <td>หญิง</td>\n",
              "      <td>74.0</td>\n",
              "      <td>ปี</td>\n",
              "      <td>China</td>\n",
              "      <td>กรุงเทพมหานคร</td>\n",
              "      <td>คนต่างชาติเดินทางมาจากต่างประเทศ</td>\n",
              "      <td>กรุงเทพมหานคร</td>\n",
              "      <td>NaN</td>\n",
              "    </tr>\n",
              "    <tr>\n",
              "      <th>2</th>\n",
              "      <td>3</td>\n",
              "      <td>22/1/2020</td>\n",
              "      <td>NaN</td>\n",
              "      <td>หญิง</td>\n",
              "      <td>73.0</td>\n",
              "      <td>ปี</td>\n",
              "      <td>Thailand</td>\n",
              "      <td>นครปฐม</td>\n",
              "      <td>คนต่างชาติเดินทางมาจากต่างประเทศ</td>\n",
              "      <td>นครปฐม</td>\n",
              "      <td>เมือง</td>\n",
              "    </tr>\n",
              "    <tr>\n",
              "      <th>3</th>\n",
              "      <td>4</td>\n",
              "      <td>22/1/2020</td>\n",
              "      <td>NaN</td>\n",
              "      <td>ชาย</td>\n",
              "      <td>68.0</td>\n",
              "      <td>ปี</td>\n",
              "      <td>China</td>\n",
              "      <td>กรุงเทพมหานคร</td>\n",
              "      <td>คนต่างชาติเดินทางมาจากต่างประเทศ</td>\n",
              "      <td>กรุงเทพมหานคร</td>\n",
              "      <td>NaN</td>\n",
              "    </tr>\n",
              "    <tr>\n",
              "      <th>4</th>\n",
              "      <td>5</td>\n",
              "      <td>24/1/2020</td>\n",
              "      <td>NaN</td>\n",
              "      <td>หญิง</td>\n",
              "      <td>66.0</td>\n",
              "      <td>ปี</td>\n",
              "      <td>China</td>\n",
              "      <td>นนทบุรี</td>\n",
              "      <td>คนต่างชาติเดินทางมาจากต่างประเทศ</td>\n",
              "      <td>กรุงเทพมหานคร</td>\n",
              "      <td>NaN</td>\n",
              "    </tr>\n",
              "    <tr>\n",
              "      <th>...</th>\n",
              "      <td>...</td>\n",
              "      <td>...</td>\n",
              "      <td>...</td>\n",
              "      <td>...</td>\n",
              "      <td>...</td>\n",
              "      <td>...</td>\n",
              "      <td>...</td>\n",
              "      <td>...</td>\n",
              "      <td>...</td>\n",
              "      <td>...</td>\n",
              "      <td>...</td>\n",
              "    </tr>\n",
              "    <tr>\n",
              "      <th>512617</th>\n",
              "      <td>512618</td>\n",
              "      <td>26/7/2021</td>\n",
              "      <td>25/7/2021</td>\n",
              "      <td>ชาย</td>\n",
              "      <td>NaN</td>\n",
              "      <td>NaN</td>\n",
              "      <td>NaN</td>\n",
              "      <td>ชลบุรี</td>\n",
              "      <td>ทัณฑสถาน/เรือนจำ</td>\n",
              "      <td>NaN</td>\n",
              "      <td>NaN</td>\n",
              "    </tr>\n",
              "    <tr>\n",
              "      <th>512618</th>\n",
              "      <td>512619</td>\n",
              "      <td>26/7/2021</td>\n",
              "      <td>25/7/2021</td>\n",
              "      <td>ชาย</td>\n",
              "      <td>NaN</td>\n",
              "      <td>NaN</td>\n",
              "      <td>NaN</td>\n",
              "      <td>ชลบุรี</td>\n",
              "      <td>ทัณฑสถาน/เรือนจำ</td>\n",
              "      <td>NaN</td>\n",
              "      <td>NaN</td>\n",
              "    </tr>\n",
              "    <tr>\n",
              "      <th>512619</th>\n",
              "      <td>512620</td>\n",
              "      <td>26/7/2021</td>\n",
              "      <td>25/7/2021</td>\n",
              "      <td>ชาย</td>\n",
              "      <td>NaN</td>\n",
              "      <td>NaN</td>\n",
              "      <td>NaN</td>\n",
              "      <td>ชลบุรี</td>\n",
              "      <td>ทัณฑสถาน/เรือนจำ</td>\n",
              "      <td>NaN</td>\n",
              "      <td>NaN</td>\n",
              "    </tr>\n",
              "    <tr>\n",
              "      <th>512620</th>\n",
              "      <td>512621</td>\n",
              "      <td>26/7/2021</td>\n",
              "      <td>25/7/2021</td>\n",
              "      <td>ชาย</td>\n",
              "      <td>NaN</td>\n",
              "      <td>NaN</td>\n",
              "      <td>NaN</td>\n",
              "      <td>ชลบุรี</td>\n",
              "      <td>ทัณฑสถาน/เรือนจำ</td>\n",
              "      <td>NaN</td>\n",
              "      <td>NaN</td>\n",
              "    </tr>\n",
              "    <tr>\n",
              "      <th>512621</th>\n",
              "      <td>512622</td>\n",
              "      <td>26/7/2021</td>\n",
              "      <td>25/7/2021</td>\n",
              "      <td>ชาย</td>\n",
              "      <td>NaN</td>\n",
              "      <td>NaN</td>\n",
              "      <td>NaN</td>\n",
              "      <td>ชลบุรี</td>\n",
              "      <td>ทัณฑสถาน/เรือนจำ</td>\n",
              "      <td>NaN</td>\n",
              "      <td>NaN</td>\n",
              "    </tr>\n",
              "  </tbody>\n",
              "</table>\n",
              "<p>512622 rows × 11 columns</p>\n",
              "</div>"
            ],
            "text/plain": [
              "           No. announce_date  ... province_of_onset district_of_onset\n",
              "0            1     12/1/2020  ...     กรุงเทพมหานคร               NaN\n",
              "1            2     17/1/2020  ...     กรุงเทพมหานคร               NaN\n",
              "2            3     22/1/2020  ...            นครปฐม             เมือง\n",
              "3            4     22/1/2020  ...     กรุงเทพมหานคร               NaN\n",
              "4            5     24/1/2020  ...     กรุงเทพมหานคร               NaN\n",
              "...        ...           ...  ...               ...               ...\n",
              "512617  512618     26/7/2021  ...               NaN               NaN\n",
              "512618  512619     26/7/2021  ...               NaN               NaN\n",
              "512619  512620     26/7/2021  ...               NaN               NaN\n",
              "512620  512621     26/7/2021  ...               NaN               NaN\n",
              "512621  512622     26/7/2021  ...               NaN               NaN\n",
              "\n",
              "[512622 rows x 11 columns]"
            ]
          },
          "metadata": {
            "tags": []
          },
          "execution_count": 79
        }
      ]
    },
    {
      "cell_type": "markdown",
      "metadata": {
        "id": "Fs-ublCZB_SP"
      },
      "source": [
        "เติมค่า missing ให้จังหวัดก่อน"
      ]
    },
    {
      "cell_type": "code",
      "metadata": {
        "id": "BMUnelVHUcnv"
      },
      "source": [
        "data_cases2[['province_of_onset']] = data_cases2[['province_of_onset']].fillna('ไม่มีข้อมูล')"
      ],
      "execution_count": null,
      "outputs": []
    },
    {
      "cell_type": "markdown",
      "metadata": {
        "id": "PzTmcD6TUwgV"
      },
      "source": [
        "หาจังหวัดทั้งหมด"
      ]
    },
    {
      "cell_type": "code",
      "metadata": {
        "id": "FgVk8t0aUcjd",
        "colab": {
          "base_uri": "https://localhost:8080/"
        },
        "outputId": "04d6bfd1-59d4-45a4-b2ba-0f2f0e462f7d"
      },
      "source": [
        "all_cities = set(data_cases2['province_of_onset'])\n",
        "all_cities"
      ],
      "execution_count": null,
      "outputs": [
        {
          "output_type": "execute_result",
          "data": {
            "text/plain": [
              "{'กระบี่',\n",
              " 'กรุงเทพมหานคร',\n",
              " 'กัมพูชา',\n",
              " 'กาญจนบุรี',\n",
              " 'กาฬสินธิ์',\n",
              " 'กาฬสินธุ์',\n",
              " 'กาฬสินธ์ุ',\n",
              " 'กาฬสิินธุ์',\n",
              " 'กำแพงเพชร',\n",
              " 'ขอนแก่น',\n",
              " 'ขอนแก่่น',\n",
              " 'จ.ปัตตานี',\n",
              " 'จังหวัดร้อยเอ็ด',\n",
              " 'จันทบุรี',\n",
              " 'ฉะเชิงเทรา',\n",
              " 'ชลบุรี',\n",
              " 'ชลบุุรี',\n",
              " 'ชัยนาท',\n",
              " 'ชัยภูมิ',\n",
              " 'ชััยภูมิ',\n",
              " 'ชุมพร',\n",
              " 'ชุุมพร',\n",
              " 'ตรัง',\n",
              " 'ตราด',\n",
              " 'ตาก',\n",
              " 'ธารโต',\n",
              " 'นคนปฐม',\n",
              " 'นคปฐม',\n",
              " 'นครนาชสีมา',\n",
              " 'นครนายก',\n",
              " 'นครปฐม',\n",
              " 'นครประฐม',\n",
              " 'นครพนม',\n",
              " 'นครราชธสีมา',\n",
              " 'นครราชสีมา',\n",
              " 'นครศรธรรมาช',\n",
              " 'นครศรี',\n",
              " 'นครศรีธรรมราช',\n",
              " 'นครศรีธรรรมราช',\n",
              " 'นครศรีราชสีมา',\n",
              " 'นครศรีีธรรมราช',\n",
              " 'นครสวรรค์',\n",
              " 'นครสววรค์',\n",
              " 'นตรปฐม',\n",
              " 'นนทบุรี',\n",
              " 'นนทุบรี',\n",
              " 'นราธิวาส',\n",
              " 'นาราธิวาส',\n",
              " 'นาวัง',\n",
              " 'น่าน',\n",
              " 'บางกะปิ',\n",
              " 'บึงกาฬ',\n",
              " 'บึงโขงหลง',\n",
              " 'บึึงกาฬ',\n",
              " 'บุรีรัมย์',\n",
              " 'บ้านหลวง',\n",
              " 'ปทุมทานี',\n",
              " 'ปทุมธานี',\n",
              " 'ปทุมธานีี',\n",
              " 'ปทุุมธานี',\n",
              " 'ประจวบครีขันธ์',\n",
              " 'ประจวบคีรีขันธื',\n",
              " 'ประจวบคีรีขันธ์',\n",
              " 'ปราจีนบุรี',\n",
              " 'ปลายพระยา',\n",
              " 'ปัตตานี',\n",
              " 'ปัตตานี\\u200b',\n",
              " 'ปัว',\n",
              " 'พม่า',\n",
              " 'พระนครศรียุธยา',\n",
              " 'พระนครศรีอยุทธยา',\n",
              " 'พระนครศรีอยุธนา',\n",
              " 'พระนครศรีอยุธยา',\n",
              " 'พระนครศีรอยุธยา',\n",
              " 'พระนครศีอยุธยา',\n",
              " 'พระนตรศรีอยุธยา',\n",
              " 'พะเยา',\n",
              " 'พังงา',\n",
              " 'พัทลุง',\n",
              " 'พิจิตร',\n",
              " 'พิษณุโลก',\n",
              " 'ภูเก็ต',\n",
              " 'ภูเพียง',\n",
              " 'มหาสารคราม',\n",
              " 'มหาสารคาม',\n",
              " 'มาเลเซีย',\n",
              " 'มุกดาหาร',\n",
              " 'ยะลา',\n",
              " 'ยานนาวา',\n",
              " 'ยโสธร',\n",
              " 'ระนอง',\n",
              " 'ระยอง',\n",
              " 'ราชบุรี',\n",
              " 'ร้องกวาง',\n",
              " 'ร้อยเอ็ด',\n",
              " 'ร้อยเอ็็ด',\n",
              " 'ร้อยเอ้ด',\n",
              " 'ร้้อยเอ็ด',\n",
              " 'ลพบรี',\n",
              " 'ลพบุรี',\n",
              " 'ลพบุุรี',\n",
              " 'ลอง',\n",
              " 'ลำปาง',\n",
              " 'ลำพูน',\n",
              " 'วังชิ้น',\n",
              " 'ศรีษะเกษ',\n",
              " 'ศรีสะเกษ',\n",
              " 'ศรีีสะเกษ',\n",
              " 'ศีรษะเกษ',\n",
              " 'ศีรสะเกษ',\n",
              " 'สกลนคร',\n",
              " 'สงขขลา',\n",
              " 'สงขลา',\n",
              " 'สงขลา\\u200b',\n",
              " 'สตูล',\n",
              " 'สถานที่ทำงาน',\n",
              " 'สมทรสาคร',\n",
              " 'สมุทปราการ',\n",
              " 'สมุทรปราการ',\n",
              " 'สมุทรปาการ',\n",
              " 'สมุทรสงคราม',\n",
              " 'สมุทรสาคร',\n",
              " 'สมุทราปราการ',\n",
              " 'สมุทราสาคร',\n",
              " 'สมุทสงคราม',\n",
              " 'สมุทสาคร',\n",
              " 'สมุุทรปราการ',\n",
              " 'สมุุทรสงคราม',\n",
              " 'สมุุทรสาคร',\n",
              " 'สมุุทสาคร',\n",
              " 'สระบุรี',\n",
              " 'สระบุุรี',\n",
              " 'สระแก้ว',\n",
              " 'สรแก้ว',\n",
              " 'สอง',\n",
              " 'สองแคว',\n",
              " 'สิงห์บุรี',\n",
              " 'สุทรปราการ',\n",
              " 'สุพรรณบุรี',\n",
              " 'สุมทรสาคร',\n",
              " 'สุมุทรปราการ',\n",
              " 'สุมุทรสาคร',\n",
              " 'สุราษฎร์ธานี',\n",
              " 'สุรินทร์',\n",
              " 'สุุราษฎร์ธานี',\n",
              " 'สุโขทัย',\n",
              " 'สูงเม่น',\n",
              " 'หนองคาย',\n",
              " 'หนองบัวลำภู',\n",
              " 'หนองบัวลำภูู',\n",
              " 'หนองบัวลำำภู',\n",
              " 'หนองบััวลำภู',\n",
              " 'หนองม่วงไข่',\n",
              " 'อยุธยา',\n",
              " 'อำนาจเจริญ',\n",
              " 'อุดรธานี',\n",
              " 'อุดรธานีี',\n",
              " 'อุตรดิตถ์',\n",
              " 'อุทัยธานี',\n",
              " 'อุบลราขธานี',\n",
              " 'อุบลราชธานี',\n",
              " 'อุุดรธาน',\n",
              " 'อุุดรธานี',\n",
              " 'อุุตรดิตถ์',\n",
              " 'อุุทัยธานี',\n",
              " 'อ่างทอง',\n",
              " 'ูภูเก็ต',\n",
              " 'เชียงราย',\n",
              " 'เชียงใหม่',\n",
              " 'เด่นชัย',\n",
              " 'เพชบุรี',\n",
              " 'เพชรบุรี',\n",
              " 'เพชรบูรณ์',\n",
              " 'เพรชบุรี',\n",
              " 'เพรบุรี',\n",
              " 'เมือง',\n",
              " 'เมืองน่าน',\n",
              " 'เรือ',\n",
              " 'เลย',\n",
              " 'เวียงจันทร์',\n",
              " 'เวียงสา',\n",
              " 'แพร่',\n",
              " 'แม่ฮ่องสอน',\n",
              " 'ไม่มีข้อมูล',\n",
              " 'ไม่ระบุ'}"
            ]
          },
          "metadata": {
            "tags": []
          },
          "execution_count": 81
        }
      ]
    },
    {
      "cell_type": "code",
      "metadata": {
        "id": "MpS9rkR3UcbW",
        "colab": {
          "base_uri": "https://localhost:8080/"
        },
        "outputId": "8c0a7a12-dfb9-4b6e-8b71-37d681097666"
      },
      "source": [
        "fixed_cities = []\n",
        "\n",
        "for city in all_cities:\n",
        "    # หาค่า mean ของเชียงใหม่\n",
        "    X_cases = data_cases2['province_of_onset'] == city\n",
        "    X_mean = data_cases2[X_cases]['age'].mean()\n",
        "\n",
        "    # เลือกมาเฉพาะ data เชียงใหม่\n",
        "    data_X = data_cases2[X_cases]\n",
        "\n",
        "    # เติมค่า mean แทน missing\n",
        "    data_X[['age']] = data_X[['age']].fillna(X_mean)\n",
        "\n",
        "    fixed_cities.append(data_X)\n",
        "\n",
        "\n",
        "data_cases2_nomissingage = pd.concat(fixed_cities)"
      ],
      "execution_count": null,
      "outputs": [
        {
          "output_type": "stream",
          "text": [
            "/usr/local/lib/python3.7/dist-packages/pandas/core/frame.py:3069: SettingWithCopyWarning: \n",
            "A value is trying to be set on a copy of a slice from a DataFrame.\n",
            "Try using .loc[row_indexer,col_indexer] = value instead\n",
            "\n",
            "See the caveats in the documentation: https://pandas.pydata.org/pandas-docs/stable/user_guide/indexing.html#returning-a-view-versus-a-copy\n",
            "  self[k1] = value[k2]\n"
          ],
          "name": "stderr"
        }
      ]
    },
    {
      "cell_type": "code",
      "metadata": {
        "id": "sRuabVRPUcCI",
        "colab": {
          "base_uri": "https://localhost:8080/"
        },
        "outputId": "67b02f38-2507-4021-c90c-07d3e22fe095"
      },
      "source": [
        "data_cases2_nomissingage"
      ],
      "execution_count": null,
      "outputs": [
        {
          "output_type": "execute_result",
          "data": {
            "text/html": [
              "<div>\n",
              "<style scoped>\n",
              "    .dataframe tbody tr th:only-of-type {\n",
              "        vertical-align: middle;\n",
              "    }\n",
              "\n",
              "    .dataframe tbody tr th {\n",
              "        vertical-align: top;\n",
              "    }\n",
              "\n",
              "    .dataframe thead th {\n",
              "        text-align: right;\n",
              "    }\n",
              "</style>\n",
              "<table border=\"1\" class=\"dataframe\">\n",
              "  <thead>\n",
              "    <tr style=\"text-align: right;\">\n",
              "      <th></th>\n",
              "      <th>No.</th>\n",
              "      <th>announce_date</th>\n",
              "      <th>Notified date</th>\n",
              "      <th>sex</th>\n",
              "      <th>age</th>\n",
              "      <th>Unit</th>\n",
              "      <th>nationality</th>\n",
              "      <th>province_of_isolation</th>\n",
              "      <th>risk</th>\n",
              "      <th>province_of_onset</th>\n",
              "      <th>district_of_onset</th>\n",
              "    </tr>\n",
              "  </thead>\n",
              "  <tbody>\n",
              "    <tr>\n",
              "      <th>5838</th>\n",
              "      <td>5839</td>\n",
              "      <td>25/12/2020</td>\n",
              "      <td>24/12/2020</td>\n",
              "      <td>ชาย</td>\n",
              "      <td>33.0</td>\n",
              "      <td>ปี</td>\n",
              "      <td>Thailand</td>\n",
              "      <td>เชียงราย</td>\n",
              "      <td>ผู้ที่เดินทางมาจากต่างประเทศ และเข้า ASQ/ALQ</td>\n",
              "      <td>พม่า</td>\n",
              "      <td>ท่าขี้เหล็ก</td>\n",
              "    </tr>\n",
              "    <tr>\n",
              "      <th>5757</th>\n",
              "      <td>5758</td>\n",
              "      <td>23/12/2020</td>\n",
              "      <td>22/12/2020</td>\n",
              "      <td>ชาย</td>\n",
              "      <td>43.0</td>\n",
              "      <td>ปี</td>\n",
              "      <td>Thailand</td>\n",
              "      <td>กำแพงเพชร</td>\n",
              "      <td>Cluster สมุทรสาคร</td>\n",
              "      <td>กำแพงเพชร</td>\n",
              "      <td>ขาณุวรลักษบุรี</td>\n",
              "    </tr>\n",
              "    <tr>\n",
              "      <th>31649</th>\n",
              "      <td>31650</td>\n",
              "      <td>10/4/2021</td>\n",
              "      <td>9/4/2021</td>\n",
              "      <td>ชาย</td>\n",
              "      <td>40.0</td>\n",
              "      <td>ปี</td>\n",
              "      <td>Thailand</td>\n",
              "      <td>กำแพงเพชร</td>\n",
              "      <td>สัมผัสใกล้ชิดกับผู้ป่วยยืนยันรายก่อนหน้านี้</td>\n",
              "      <td>กำแพงเพชร</td>\n",
              "      <td>เมือง</td>\n",
              "    </tr>\n",
              "    <tr>\n",
              "      <th>31657</th>\n",
              "      <td>31658</td>\n",
              "      <td>10/4/2021</td>\n",
              "      <td>9/4/2021</td>\n",
              "      <td>ชาย</td>\n",
              "      <td>25.0</td>\n",
              "      <td>ปี</td>\n",
              "      <td>Thailand</td>\n",
              "      <td>กำแพงเพชร</td>\n",
              "      <td>สัมผัสใกล้ชิดกับผู้ป่วยยืนยันรายก่อนหน้านี้</td>\n",
              "      <td>กำแพงเพชร</td>\n",
              "      <td>เมือง</td>\n",
              "    </tr>\n",
              "    <tr>\n",
              "      <th>31716</th>\n",
              "      <td>31717</td>\n",
              "      <td>11/4/2021</td>\n",
              "      <td>10/4/2021</td>\n",
              "      <td>หญิง</td>\n",
              "      <td>31.0</td>\n",
              "      <td>ปี</td>\n",
              "      <td>Thailand</td>\n",
              "      <td>ประจวบคีรีขันธ์</td>\n",
              "      <td>สถานบันเทิง</td>\n",
              "      <td>กำแพงเพชร</td>\n",
              "      <td>คลองขลุง</td>\n",
              "    </tr>\n",
              "    <tr>\n",
              "      <th>...</th>\n",
              "      <td>...</td>\n",
              "      <td>...</td>\n",
              "      <td>...</td>\n",
              "      <td>...</td>\n",
              "      <td>...</td>\n",
              "      <td>...</td>\n",
              "      <td>...</td>\n",
              "      <td>...</td>\n",
              "      <td>...</td>\n",
              "      <td>...</td>\n",
              "      <td>...</td>\n",
              "    </tr>\n",
              "    <tr>\n",
              "      <th>503754</th>\n",
              "      <td>503755</td>\n",
              "      <td>26/7/2021</td>\n",
              "      <td>25/7/2021</td>\n",
              "      <td>หญิง</td>\n",
              "      <td>62.0</td>\n",
              "      <td>ปี</td>\n",
              "      <td>Thailand</td>\n",
              "      <td>ชลบุรี</td>\n",
              "      <td>อยู่ระหว่างการสอบสวน</td>\n",
              "      <td>ฉะเชิงเทรา</td>\n",
              "      <td>เมืองฉะเชิงเทรา</td>\n",
              "    </tr>\n",
              "    <tr>\n",
              "      <th>503764</th>\n",
              "      <td>503765</td>\n",
              "      <td>26/7/2021</td>\n",
              "      <td>25/7/2021</td>\n",
              "      <td>ชาย</td>\n",
              "      <td>67.0</td>\n",
              "      <td>ปี</td>\n",
              "      <td>Thailand</td>\n",
              "      <td>ชลบุรี</td>\n",
              "      <td>อื่นๆ</td>\n",
              "      <td>ฉะเชิงเทรา</td>\n",
              "      <td>บ้านโพธิ์</td>\n",
              "    </tr>\n",
              "    <tr>\n",
              "      <th>503765</th>\n",
              "      <td>503766</td>\n",
              "      <td>26/7/2021</td>\n",
              "      <td>25/7/2021</td>\n",
              "      <td>หญิง</td>\n",
              "      <td>38.0</td>\n",
              "      <td>ปี</td>\n",
              "      <td>Thailand</td>\n",
              "      <td>ชลบุรี</td>\n",
              "      <td>อื่นๆ</td>\n",
              "      <td>ฉะเชิงเทรา</td>\n",
              "      <td>บางปะกง</td>\n",
              "    </tr>\n",
              "    <tr>\n",
              "      <th>504738</th>\n",
              "      <td>504739</td>\n",
              "      <td>26/7/2021</td>\n",
              "      <td>25/7/2021</td>\n",
              "      <td>หญิง</td>\n",
              "      <td>27.0</td>\n",
              "      <td>ปี</td>\n",
              "      <td>Burmese</td>\n",
              "      <td>สมุทรปราการ</td>\n",
              "      <td>สัมผัสใกล้ชิดกับผู้ป่วยยืนยันรายก่อนหน้านี้</td>\n",
              "      <td>ฉะเชิงเทรา</td>\n",
              "      <td>เมืองฉะเชิงเทรา</td>\n",
              "    </tr>\n",
              "    <tr>\n",
              "      <th>505201</th>\n",
              "      <td>505202</td>\n",
              "      <td>26/7/2021</td>\n",
              "      <td>25/7/2021</td>\n",
              "      <td>หญิง</td>\n",
              "      <td>36.0</td>\n",
              "      <td>ปี</td>\n",
              "      <td>Thailand</td>\n",
              "      <td>สมุทรปราการ</td>\n",
              "      <td>อยู่ระหว่างการสอบสวน</td>\n",
              "      <td>ฉะเชิงเทรา</td>\n",
              "      <td>บางปะกง</td>\n",
              "    </tr>\n",
              "  </tbody>\n",
              "</table>\n",
              "<p>512622 rows × 11 columns</p>\n",
              "</div>"
            ],
            "text/plain": [
              "           No. announce_date  ... province_of_onset district_of_onset\n",
              "5838      5839    25/12/2020  ...              พม่า       ท่าขี้เหล็ก\n",
              "5757      5758    23/12/2020  ...         กำแพงเพชร    ขาณุวรลักษบุรี\n",
              "31649    31650     10/4/2021  ...         กำแพงเพชร             เมือง\n",
              "31657    31658     10/4/2021  ...         กำแพงเพชร             เมือง\n",
              "31716    31717     11/4/2021  ...         กำแพงเพชร          คลองขลุง\n",
              "...        ...           ...  ...               ...               ...\n",
              "503754  503755     26/7/2021  ...        ฉะเชิงเทรา   เมืองฉะเชิงเทรา\n",
              "503764  503765     26/7/2021  ...        ฉะเชิงเทรา         บ้านโพธิ์\n",
              "503765  503766     26/7/2021  ...        ฉะเชิงเทรา           บางปะกง\n",
              "504738  504739     26/7/2021  ...        ฉะเชิงเทรา   เมืองฉะเชิงเทรา\n",
              "505201  505202     26/7/2021  ...        ฉะเชิงเทรา           บางปะกง\n",
              "\n",
              "[512622 rows x 11 columns]"
            ]
          },
          "metadata": {
            "tags": []
          },
          "execution_count": 83
        }
      ]
    },
    {
      "cell_type": "code",
      "metadata": {
        "id": "4debN_41U5XG",
        "colab": {
          "base_uri": "https://localhost:8080/"
        },
        "outputId": "7578480b-26c9-4dad-ce9b-11bb23706db8"
      },
      "source": [
        "data_cases2_nomissingage.isnull().any()"
      ],
      "execution_count": null,
      "outputs": [
        {
          "output_type": "execute_result",
          "data": {
            "text/plain": [
              "No.                      False\n",
              "announce_date            False\n",
              "Notified date             True\n",
              "sex                       True\n",
              "age                       True\n",
              "Unit                      True\n",
              "nationality               True\n",
              "province_of_isolation     True\n",
              "risk                      True\n",
              "province_of_onset        False\n",
              "district_of_onset         True\n",
              "dtype: bool"
            ]
          },
          "metadata": {
            "tags": []
          },
          "execution_count": 84
        }
      ]
    },
    {
      "cell_type": "code",
      "metadata": {
        "id": "uKwTCEfPU5Uh"
      },
      "source": [
        "data_cases2_nomissingage[['age']] = data_cases2_nomissingage[['age']].fillna(data_cases2_nomissingage['age'].mean())"
      ],
      "execution_count": null,
      "outputs": []
    },
    {
      "cell_type": "code",
      "metadata": {
        "id": "PA1602efU5Rv",
        "colab": {
          "base_uri": "https://localhost:8080/"
        },
        "outputId": "736842de-e3b5-45d7-c640-75a72c7022f3"
      },
      "source": [
        "data_cases2_nomissingage.isnull().any()"
      ],
      "execution_count": null,
      "outputs": [
        {
          "output_type": "execute_result",
          "data": {
            "text/plain": [
              "No.                      False\n",
              "announce_date            False\n",
              "Notified date             True\n",
              "sex                       True\n",
              "age                      False\n",
              "Unit                      True\n",
              "nationality               True\n",
              "province_of_isolation     True\n",
              "risk                      True\n",
              "province_of_onset        False\n",
              "district_of_onset         True\n",
              "dtype: bool"
            ]
          },
          "metadata": {
            "tags": []
          },
          "execution_count": 86
        }
      ]
    },
    {
      "cell_type": "code",
      "metadata": {
        "id": "c2VNOGkxU5O6",
        "colab": {
          "base_uri": "https://localhost:8080/"
        },
        "outputId": "6a0b5ace-f77b-453b-bb41-6bef0b93c827"
      },
      "source": [
        "data_cases2_nomissingage"
      ],
      "execution_count": null,
      "outputs": [
        {
          "output_type": "execute_result",
          "data": {
            "text/html": [
              "<div>\n",
              "<style scoped>\n",
              "    .dataframe tbody tr th:only-of-type {\n",
              "        vertical-align: middle;\n",
              "    }\n",
              "\n",
              "    .dataframe tbody tr th {\n",
              "        vertical-align: top;\n",
              "    }\n",
              "\n",
              "    .dataframe thead th {\n",
              "        text-align: right;\n",
              "    }\n",
              "</style>\n",
              "<table border=\"1\" class=\"dataframe\">\n",
              "  <thead>\n",
              "    <tr style=\"text-align: right;\">\n",
              "      <th></th>\n",
              "      <th>No.</th>\n",
              "      <th>announce_date</th>\n",
              "      <th>Notified date</th>\n",
              "      <th>sex</th>\n",
              "      <th>age</th>\n",
              "      <th>Unit</th>\n",
              "      <th>nationality</th>\n",
              "      <th>province_of_isolation</th>\n",
              "      <th>risk</th>\n",
              "      <th>province_of_onset</th>\n",
              "      <th>district_of_onset</th>\n",
              "    </tr>\n",
              "  </thead>\n",
              "  <tbody>\n",
              "    <tr>\n",
              "      <th>5838</th>\n",
              "      <td>5839</td>\n",
              "      <td>25/12/2020</td>\n",
              "      <td>24/12/2020</td>\n",
              "      <td>ชาย</td>\n",
              "      <td>33.0</td>\n",
              "      <td>ปี</td>\n",
              "      <td>Thailand</td>\n",
              "      <td>เชียงราย</td>\n",
              "      <td>ผู้ที่เดินทางมาจากต่างประเทศ และเข้า ASQ/ALQ</td>\n",
              "      <td>พม่า</td>\n",
              "      <td>ท่าขี้เหล็ก</td>\n",
              "    </tr>\n",
              "    <tr>\n",
              "      <th>5757</th>\n",
              "      <td>5758</td>\n",
              "      <td>23/12/2020</td>\n",
              "      <td>22/12/2020</td>\n",
              "      <td>ชาย</td>\n",
              "      <td>43.0</td>\n",
              "      <td>ปี</td>\n",
              "      <td>Thailand</td>\n",
              "      <td>กำแพงเพชร</td>\n",
              "      <td>Cluster สมุทรสาคร</td>\n",
              "      <td>กำแพงเพชร</td>\n",
              "      <td>ขาณุวรลักษบุรี</td>\n",
              "    </tr>\n",
              "    <tr>\n",
              "      <th>31649</th>\n",
              "      <td>31650</td>\n",
              "      <td>10/4/2021</td>\n",
              "      <td>9/4/2021</td>\n",
              "      <td>ชาย</td>\n",
              "      <td>40.0</td>\n",
              "      <td>ปี</td>\n",
              "      <td>Thailand</td>\n",
              "      <td>กำแพงเพชร</td>\n",
              "      <td>สัมผัสใกล้ชิดกับผู้ป่วยยืนยันรายก่อนหน้านี้</td>\n",
              "      <td>กำแพงเพชร</td>\n",
              "      <td>เมือง</td>\n",
              "    </tr>\n",
              "    <tr>\n",
              "      <th>31657</th>\n",
              "      <td>31658</td>\n",
              "      <td>10/4/2021</td>\n",
              "      <td>9/4/2021</td>\n",
              "      <td>ชาย</td>\n",
              "      <td>25.0</td>\n",
              "      <td>ปี</td>\n",
              "      <td>Thailand</td>\n",
              "      <td>กำแพงเพชร</td>\n",
              "      <td>สัมผัสใกล้ชิดกับผู้ป่วยยืนยันรายก่อนหน้านี้</td>\n",
              "      <td>กำแพงเพชร</td>\n",
              "      <td>เมือง</td>\n",
              "    </tr>\n",
              "    <tr>\n",
              "      <th>31716</th>\n",
              "      <td>31717</td>\n",
              "      <td>11/4/2021</td>\n",
              "      <td>10/4/2021</td>\n",
              "      <td>หญิง</td>\n",
              "      <td>31.0</td>\n",
              "      <td>ปี</td>\n",
              "      <td>Thailand</td>\n",
              "      <td>ประจวบคีรีขันธ์</td>\n",
              "      <td>สถานบันเทิง</td>\n",
              "      <td>กำแพงเพชร</td>\n",
              "      <td>คลองขลุง</td>\n",
              "    </tr>\n",
              "    <tr>\n",
              "      <th>...</th>\n",
              "      <td>...</td>\n",
              "      <td>...</td>\n",
              "      <td>...</td>\n",
              "      <td>...</td>\n",
              "      <td>...</td>\n",
              "      <td>...</td>\n",
              "      <td>...</td>\n",
              "      <td>...</td>\n",
              "      <td>...</td>\n",
              "      <td>...</td>\n",
              "      <td>...</td>\n",
              "    </tr>\n",
              "    <tr>\n",
              "      <th>503754</th>\n",
              "      <td>503755</td>\n",
              "      <td>26/7/2021</td>\n",
              "      <td>25/7/2021</td>\n",
              "      <td>หญิง</td>\n",
              "      <td>62.0</td>\n",
              "      <td>ปี</td>\n",
              "      <td>Thailand</td>\n",
              "      <td>ชลบุรี</td>\n",
              "      <td>อยู่ระหว่างการสอบสวน</td>\n",
              "      <td>ฉะเชิงเทรา</td>\n",
              "      <td>เมืองฉะเชิงเทรา</td>\n",
              "    </tr>\n",
              "    <tr>\n",
              "      <th>503764</th>\n",
              "      <td>503765</td>\n",
              "      <td>26/7/2021</td>\n",
              "      <td>25/7/2021</td>\n",
              "      <td>ชาย</td>\n",
              "      <td>67.0</td>\n",
              "      <td>ปี</td>\n",
              "      <td>Thailand</td>\n",
              "      <td>ชลบุรี</td>\n",
              "      <td>อื่นๆ</td>\n",
              "      <td>ฉะเชิงเทรา</td>\n",
              "      <td>บ้านโพธิ์</td>\n",
              "    </tr>\n",
              "    <tr>\n",
              "      <th>503765</th>\n",
              "      <td>503766</td>\n",
              "      <td>26/7/2021</td>\n",
              "      <td>25/7/2021</td>\n",
              "      <td>หญิง</td>\n",
              "      <td>38.0</td>\n",
              "      <td>ปี</td>\n",
              "      <td>Thailand</td>\n",
              "      <td>ชลบุรี</td>\n",
              "      <td>อื่นๆ</td>\n",
              "      <td>ฉะเชิงเทรา</td>\n",
              "      <td>บางปะกง</td>\n",
              "    </tr>\n",
              "    <tr>\n",
              "      <th>504738</th>\n",
              "      <td>504739</td>\n",
              "      <td>26/7/2021</td>\n",
              "      <td>25/7/2021</td>\n",
              "      <td>หญิง</td>\n",
              "      <td>27.0</td>\n",
              "      <td>ปี</td>\n",
              "      <td>Burmese</td>\n",
              "      <td>สมุทรปราการ</td>\n",
              "      <td>สัมผัสใกล้ชิดกับผู้ป่วยยืนยันรายก่อนหน้านี้</td>\n",
              "      <td>ฉะเชิงเทรา</td>\n",
              "      <td>เมืองฉะเชิงเทรา</td>\n",
              "    </tr>\n",
              "    <tr>\n",
              "      <th>505201</th>\n",
              "      <td>505202</td>\n",
              "      <td>26/7/2021</td>\n",
              "      <td>25/7/2021</td>\n",
              "      <td>หญิง</td>\n",
              "      <td>36.0</td>\n",
              "      <td>ปี</td>\n",
              "      <td>Thailand</td>\n",
              "      <td>สมุทรปราการ</td>\n",
              "      <td>อยู่ระหว่างการสอบสวน</td>\n",
              "      <td>ฉะเชิงเทรา</td>\n",
              "      <td>บางปะกง</td>\n",
              "    </tr>\n",
              "  </tbody>\n",
              "</table>\n",
              "<p>512622 rows × 11 columns</p>\n",
              "</div>"
            ],
            "text/plain": [
              "           No. announce_date  ... province_of_onset district_of_onset\n",
              "5838      5839    25/12/2020  ...              พม่า       ท่าขี้เหล็ก\n",
              "5757      5758    23/12/2020  ...         กำแพงเพชร    ขาณุวรลักษบุรี\n",
              "31649    31650     10/4/2021  ...         กำแพงเพชร             เมือง\n",
              "31657    31658     10/4/2021  ...         กำแพงเพชร             เมือง\n",
              "31716    31717     11/4/2021  ...         กำแพงเพชร          คลองขลุง\n",
              "...        ...           ...  ...               ...               ...\n",
              "503754  503755     26/7/2021  ...        ฉะเชิงเทรา   เมืองฉะเชิงเทรา\n",
              "503764  503765     26/7/2021  ...        ฉะเชิงเทรา         บ้านโพธิ์\n",
              "503765  503766     26/7/2021  ...        ฉะเชิงเทรา           บางปะกง\n",
              "504738  504739     26/7/2021  ...        ฉะเชิงเทรา   เมืองฉะเชิงเทรา\n",
              "505201  505202     26/7/2021  ...        ฉะเชิงเทรา           บางปะกง\n",
              "\n",
              "[512622 rows x 11 columns]"
            ]
          },
          "metadata": {
            "tags": []
          },
          "execution_count": 87
        }
      ]
    },
    {
      "cell_type": "markdown",
      "metadata": {
        "id": "Gwb4CNbzVEEY"
      },
      "source": [
        "##การเรียงข้อมูล[PD]"
      ]
    },
    {
      "cell_type": "code",
      "metadata": {
        "id": "FMqG6ZGpU5FQ",
        "colab": {
          "base_uri": "https://localhost:8080/",
          "height": 417
        },
        "outputId": "1e52bbe8-f330-4052-ba34-bf1839fffde5"
      },
      "source": [
        "data_cases2_nomissingage.sort_values(by=['No.'])"
      ],
      "execution_count": null,
      "outputs": [
        {
          "output_type": "execute_result",
          "data": {
            "text/html": [
              "<div>\n",
              "<style scoped>\n",
              "    .dataframe tbody tr th:only-of-type {\n",
              "        vertical-align: middle;\n",
              "    }\n",
              "\n",
              "    .dataframe tbody tr th {\n",
              "        vertical-align: top;\n",
              "    }\n",
              "\n",
              "    .dataframe thead th {\n",
              "        text-align: right;\n",
              "    }\n",
              "</style>\n",
              "<table border=\"1\" class=\"dataframe\">\n",
              "  <thead>\n",
              "    <tr style=\"text-align: right;\">\n",
              "      <th></th>\n",
              "      <th>No.</th>\n",
              "      <th>announce_date</th>\n",
              "      <th>Notified date</th>\n",
              "      <th>sex</th>\n",
              "      <th>age</th>\n",
              "      <th>Unit</th>\n",
              "      <th>nationality</th>\n",
              "      <th>province_of_isolation</th>\n",
              "      <th>risk</th>\n",
              "      <th>province_of_onset</th>\n",
              "      <th>district_of_onset</th>\n",
              "    </tr>\n",
              "  </thead>\n",
              "  <tbody>\n",
              "    <tr>\n",
              "      <th>0</th>\n",
              "      <td>1</td>\n",
              "      <td>12/1/2020</td>\n",
              "      <td>NaN</td>\n",
              "      <td>หญิง</td>\n",
              "      <td>61.000000</td>\n",
              "      <td>ปี</td>\n",
              "      <td>China</td>\n",
              "      <td>กรุงเทพมหานคร</td>\n",
              "      <td>คนต่างชาติเดินทางมาจากต่างประเทศ</td>\n",
              "      <td>กรุงเทพมหานคร</td>\n",
              "      <td>NaN</td>\n",
              "    </tr>\n",
              "    <tr>\n",
              "      <th>1</th>\n",
              "      <td>2</td>\n",
              "      <td>17/1/2020</td>\n",
              "      <td>NaN</td>\n",
              "      <td>หญิง</td>\n",
              "      <td>74.000000</td>\n",
              "      <td>ปี</td>\n",
              "      <td>China</td>\n",
              "      <td>กรุงเทพมหานคร</td>\n",
              "      <td>คนต่างชาติเดินทางมาจากต่างประเทศ</td>\n",
              "      <td>กรุงเทพมหานคร</td>\n",
              "      <td>NaN</td>\n",
              "    </tr>\n",
              "    <tr>\n",
              "      <th>2</th>\n",
              "      <td>3</td>\n",
              "      <td>22/1/2020</td>\n",
              "      <td>NaN</td>\n",
              "      <td>หญิง</td>\n",
              "      <td>73.000000</td>\n",
              "      <td>ปี</td>\n",
              "      <td>Thailand</td>\n",
              "      <td>นครปฐม</td>\n",
              "      <td>คนต่างชาติเดินทางมาจากต่างประเทศ</td>\n",
              "      <td>นครปฐม</td>\n",
              "      <td>เมือง</td>\n",
              "    </tr>\n",
              "    <tr>\n",
              "      <th>3</th>\n",
              "      <td>4</td>\n",
              "      <td>22/1/2020</td>\n",
              "      <td>NaN</td>\n",
              "      <td>ชาย</td>\n",
              "      <td>68.000000</td>\n",
              "      <td>ปี</td>\n",
              "      <td>China</td>\n",
              "      <td>กรุงเทพมหานคร</td>\n",
              "      <td>คนต่างชาติเดินทางมาจากต่างประเทศ</td>\n",
              "      <td>กรุงเทพมหานคร</td>\n",
              "      <td>NaN</td>\n",
              "    </tr>\n",
              "    <tr>\n",
              "      <th>4</th>\n",
              "      <td>5</td>\n",
              "      <td>24/1/2020</td>\n",
              "      <td>NaN</td>\n",
              "      <td>หญิง</td>\n",
              "      <td>66.000000</td>\n",
              "      <td>ปี</td>\n",
              "      <td>China</td>\n",
              "      <td>นนทบุรี</td>\n",
              "      <td>คนต่างชาติเดินทางมาจากต่างประเทศ</td>\n",
              "      <td>กรุงเทพมหานคร</td>\n",
              "      <td>NaN</td>\n",
              "    </tr>\n",
              "    <tr>\n",
              "      <th>...</th>\n",
              "      <td>...</td>\n",
              "      <td>...</td>\n",
              "      <td>...</td>\n",
              "      <td>...</td>\n",
              "      <td>...</td>\n",
              "      <td>...</td>\n",
              "      <td>...</td>\n",
              "      <td>...</td>\n",
              "      <td>...</td>\n",
              "      <td>...</td>\n",
              "      <td>...</td>\n",
              "    </tr>\n",
              "    <tr>\n",
              "      <th>512617</th>\n",
              "      <td>512618</td>\n",
              "      <td>26/7/2021</td>\n",
              "      <td>25/7/2021</td>\n",
              "      <td>ชาย</td>\n",
              "      <td>35.378474</td>\n",
              "      <td>NaN</td>\n",
              "      <td>NaN</td>\n",
              "      <td>ชลบุรี</td>\n",
              "      <td>ทัณฑสถาน/เรือนจำ</td>\n",
              "      <td>ไม่มีข้อมูล</td>\n",
              "      <td>NaN</td>\n",
              "    </tr>\n",
              "    <tr>\n",
              "      <th>512618</th>\n",
              "      <td>512619</td>\n",
              "      <td>26/7/2021</td>\n",
              "      <td>25/7/2021</td>\n",
              "      <td>ชาย</td>\n",
              "      <td>35.378474</td>\n",
              "      <td>NaN</td>\n",
              "      <td>NaN</td>\n",
              "      <td>ชลบุรี</td>\n",
              "      <td>ทัณฑสถาน/เรือนจำ</td>\n",
              "      <td>ไม่มีข้อมูล</td>\n",
              "      <td>NaN</td>\n",
              "    </tr>\n",
              "    <tr>\n",
              "      <th>512619</th>\n",
              "      <td>512620</td>\n",
              "      <td>26/7/2021</td>\n",
              "      <td>25/7/2021</td>\n",
              "      <td>ชาย</td>\n",
              "      <td>35.378474</td>\n",
              "      <td>NaN</td>\n",
              "      <td>NaN</td>\n",
              "      <td>ชลบุรี</td>\n",
              "      <td>ทัณฑสถาน/เรือนจำ</td>\n",
              "      <td>ไม่มีข้อมูล</td>\n",
              "      <td>NaN</td>\n",
              "    </tr>\n",
              "    <tr>\n",
              "      <th>512620</th>\n",
              "      <td>512621</td>\n",
              "      <td>26/7/2021</td>\n",
              "      <td>25/7/2021</td>\n",
              "      <td>ชาย</td>\n",
              "      <td>35.378474</td>\n",
              "      <td>NaN</td>\n",
              "      <td>NaN</td>\n",
              "      <td>ชลบุรี</td>\n",
              "      <td>ทัณฑสถาน/เรือนจำ</td>\n",
              "      <td>ไม่มีข้อมูล</td>\n",
              "      <td>NaN</td>\n",
              "    </tr>\n",
              "    <tr>\n",
              "      <th>512621</th>\n",
              "      <td>512622</td>\n",
              "      <td>26/7/2021</td>\n",
              "      <td>25/7/2021</td>\n",
              "      <td>ชาย</td>\n",
              "      <td>35.378474</td>\n",
              "      <td>NaN</td>\n",
              "      <td>NaN</td>\n",
              "      <td>ชลบุรี</td>\n",
              "      <td>ทัณฑสถาน/เรือนจำ</td>\n",
              "      <td>ไม่มีข้อมูล</td>\n",
              "      <td>NaN</td>\n",
              "    </tr>\n",
              "  </tbody>\n",
              "</table>\n",
              "<p>512622 rows × 11 columns</p>\n",
              "</div>"
            ],
            "text/plain": [
              "           No. announce_date  ... province_of_onset district_of_onset\n",
              "0            1     12/1/2020  ...     กรุงเทพมหานคร               NaN\n",
              "1            2     17/1/2020  ...     กรุงเทพมหานคร               NaN\n",
              "2            3     22/1/2020  ...            นครปฐม             เมือง\n",
              "3            4     22/1/2020  ...     กรุงเทพมหานคร               NaN\n",
              "4            5     24/1/2020  ...     กรุงเทพมหานคร               NaN\n",
              "...        ...           ...  ...               ...               ...\n",
              "512617  512618     26/7/2021  ...       ไม่มีข้อมูล               NaN\n",
              "512618  512619     26/7/2021  ...       ไม่มีข้อมูล               NaN\n",
              "512619  512620     26/7/2021  ...       ไม่มีข้อมูล               NaN\n",
              "512620  512621     26/7/2021  ...       ไม่มีข้อมูล               NaN\n",
              "512621  512622     26/7/2021  ...       ไม่มีข้อมูล               NaN\n",
              "\n",
              "[512622 rows x 11 columns]"
            ]
          },
          "metadata": {
            "tags": []
          },
          "execution_count": 88
        }
      ]
    },
    {
      "cell_type": "markdown",
      "metadata": {
        "id": "ngo4v-RLVMWK"
      },
      "source": [
        "###Outlier"
      ]
    },
    {
      "cell_type": "code",
      "metadata": {
        "id": "180fpu9uVIVV"
      },
      "source": [
        "from matplotlib import pyplot as plt"
      ],
      "execution_count": null,
      "outputs": []
    },
    {
      "cell_type": "code",
      "metadata": {
        "id": "0IxlShFEVIYb",
        "colab": {
          "base_uri": "https://localhost:8080/",
          "height": 265
        },
        "outputId": "0a7f8f9c-40e3-4376-fec6-2589a45f99a1"
      },
      "source": [
        "data_dict = plt.boxplot(data_cases2_nomissingage['age'])"
      ],
      "execution_count": null,
      "outputs": [
        {
          "output_type": "display_data",
          "data": {
            "image/png": "[encoded data removed]",
            "text/plain": [
              "<Figure size 432x288 with 1 Axes>"
            ]
          },
          "metadata": {
            "tags": [],
            "needs_background": "light"
          }
        }
      ]
    },
    {
      "cell_type": "code",
      "metadata": {
        "id": "XgN-ZknIVIbO",
        "colab": {
          "base_uri": "https://localhost:8080/"
        },
        "outputId": "77f2e65b-30c6-4c2d-ef85-dde9fcb9cc4c"
      },
      "source": [
        "data_dict  # curly brackets"
      ],
      "execution_count": null,
      "outputs": [
        {
          "output_type": "execute_result",
          "data": {
            "text/plain": [
              "{'boxes': [<matplotlib.lines.Line2D at 0x7f46a7b08750>],\n",
              " 'caps': [<matplotlib.lines.Line2D at 0x7f46a7b0c510>,\n",
              "  <matplotlib.lines.Line2D at 0x7f46a7b0cc10>],\n",
              " 'fliers': [<matplotlib.lines.Line2D at 0x7f46a7b22890>],\n",
              " 'means': [],\n",
              " 'medians': [<matplotlib.lines.Line2D at 0x7f46a7b22250>],\n",
              " 'whiskers': [<matplotlib.lines.Line2D at 0x7f46a7b08d10>,\n",
              "  <matplotlib.lines.Line2D at 0x7f46a7b0c950>]}"
            ]
          },
          "metadata": {
            "tags": []
          },
          "execution_count": 91
        }
      ]
    },
    {
      "cell_type": "code",
      "metadata": {
        "id": "-HZmqWv4VIqW",
        "colab": {
          "base_uri": "https://localhost:8080/"
        },
        "outputId": "f5dec79c-4e95-4e08-d061-0fead1aacf7a"
      },
      "source": [
        "data_dict['boxes']"
      ],
      "execution_count": null,
      "outputs": [
        {
          "output_type": "execute_result",
          "data": {
            "text/plain": [
              "[<matplotlib.lines.Line2D at 0x7f46a7b08750>]"
            ]
          },
          "metadata": {
            "tags": []
          },
          "execution_count": 92
        }
      ]
    },
    {
      "cell_type": "code",
      "metadata": {
        "id": "cH5T4WeIVIyt",
        "colab": {
          "base_uri": "https://localhost:8080/"
        },
        "outputId": "4d9ca7b6-6f63-4969-99f7-3749e2c2c015"
      },
      "source": [
        "data_dict['boxes'][0]"
      ],
      "execution_count": null,
      "outputs": [
        {
          "output_type": "execute_result",
          "data": {
            "text/plain": [
              "<matplotlib.lines.Line2D at 0x7f46a7b08750>"
            ]
          },
          "metadata": {
            "tags": []
          },
          "execution_count": 93
        }
      ]
    },
    {
      "cell_type": "code",
      "metadata": {
        "id": "-D6zd1lnVI3R",
        "colab": {
          "base_uri": "https://localhost:8080/"
        },
        "outputId": "0789fb4f-4b34-460b-ff49-df53c7e39f00"
      },
      "source": [
        "data_dict['boxes'][0].get_ydata()"
      ],
      "execution_count": null,
      "outputs": [
        {
          "output_type": "execute_result",
          "data": {
            "text/plain": [
              "array([26., 26., 44., 44., 26.])"
            ]
          },
          "metadata": {
            "tags": []
          },
          "execution_count": 94
        }
      ]
    },
    {
      "cell_type": "code",
      "metadata": {
        "id": "8mikZZWbVI5x",
        "colab": {
          "base_uri": "https://localhost:8080/"
        },
        "outputId": "4d342269-6f16-4f5f-a8dd-7784f7ed13be"
      },
      "source": [
        "Q1 = data_dict['boxes'][0].get_ydata()[0]\n",
        "Q1"
      ],
      "execution_count": null,
      "outputs": [
        {
          "output_type": "execute_result",
          "data": {
            "text/plain": [
              "26.0"
            ]
          },
          "metadata": {
            "tags": []
          },
          "execution_count": 95
        }
      ]
    },
    {
      "cell_type": "code",
      "metadata": {
        "id": "BCN0Sn7PVbT_",
        "colab": {
          "base_uri": "https://localhost:8080/"
        },
        "outputId": "12d43424-2f61-47df-ccf9-933945895efd"
      },
      "source": [
        "data_dict['fliers'][0].get_ydata()"
      ],
      "execution_count": null,
      "outputs": [
        {
          "output_type": "execute_result",
          "data": {
            "text/plain": [
              "array([76., 73., 72., ..., 74., 74., 73.])"
            ]
          },
          "metadata": {
            "tags": []
          },
          "execution_count": 96
        }
      ]
    },
    {
      "cell_type": "code",
      "metadata": {
        "id": "yceqbNqaVbRJ",
        "colab": {
          "base_uri": "https://localhost:8080/"
        },
        "outputId": "f897d110-15d7-481b-97aa-0bf45d331f75"
      },
      "source": [
        "data_dict['caps'][0].get_ydata()"
      ],
      "execution_count": null,
      "outputs": [
        {
          "output_type": "execute_result",
          "data": {
            "text/plain": [
              "array([1., 1.])"
            ]
          },
          "metadata": {
            "tags": []
          },
          "execution_count": 97
        }
      ]
    },
    {
      "cell_type": "code",
      "metadata": {
        "id": "jd3ah5BLVbOb",
        "colab": {
          "base_uri": "https://localhost:8080/"
        },
        "outputId": "88882570-e2d0-42bf-dd07-024bef1fb40e"
      },
      "source": [
        "data_dict['caps'][1].get_ydata()"
      ],
      "execution_count": null,
      "outputs": [
        {
          "output_type": "execute_result",
          "data": {
            "text/plain": [
              "array([71., 71.])"
            ]
          },
          "metadata": {
            "tags": []
          },
          "execution_count": 98
        }
      ]
    },
    {
      "cell_type": "code",
      "metadata": {
        "id": "yeuooaRIVbLv",
        "colab": {
          "base_uri": "https://localhost:8080/",
          "height": 417
        },
        "outputId": "dd945145-c638-48c7-9f3f-775c5f24632e"
      },
      "source": [
        "cap1 = data_cases2_nomissingage['age'] >= data_dict['caps'][0].get_ydata()[0]\n",
        "cap2 = data_cases2_nomissingage['age'] <= data_dict['caps'][1].get_ydata()[0]\n",
        "\n",
        "data_cases2_nomissingage_nooutlier = data_cases2_nomissingage[cap1 & cap2]\n",
        "data_cases2_nomissingage_nooutlier"
      ],
      "execution_count": null,
      "outputs": [
        {
          "output_type": "execute_result",
          "data": {
            "text/html": [
              "<div>\n",
              "<style scoped>\n",
              "    .dataframe tbody tr th:only-of-type {\n",
              "        vertical-align: middle;\n",
              "    }\n",
              "\n",
              "    .dataframe tbody tr th {\n",
              "        vertical-align: top;\n",
              "    }\n",
              "\n",
              "    .dataframe thead th {\n",
              "        text-align: right;\n",
              "    }\n",
              "</style>\n",
              "<table border=\"1\" class=\"dataframe\">\n",
              "  <thead>\n",
              "    <tr style=\"text-align: right;\">\n",
              "      <th></th>\n",
              "      <th>No.</th>\n",
              "      <th>announce_date</th>\n",
              "      <th>Notified date</th>\n",
              "      <th>sex</th>\n",
              "      <th>age</th>\n",
              "      <th>Unit</th>\n",
              "      <th>nationality</th>\n",
              "      <th>province_of_isolation</th>\n",
              "      <th>risk</th>\n",
              "      <th>province_of_onset</th>\n",
              "      <th>district_of_onset</th>\n",
              "    </tr>\n",
              "  </thead>\n",
              "  <tbody>\n",
              "    <tr>\n",
              "      <th>5838</th>\n",
              "      <td>5839</td>\n",
              "      <td>25/12/2020</td>\n",
              "      <td>24/12/2020</td>\n",
              "      <td>ชาย</td>\n",
              "      <td>33.0</td>\n",
              "      <td>ปี</td>\n",
              "      <td>Thailand</td>\n",
              "      <td>เชียงราย</td>\n",
              "      <td>ผู้ที่เดินทางมาจากต่างประเทศ และเข้า ASQ/ALQ</td>\n",
              "      <td>พม่า</td>\n",
              "      <td>ท่าขี้เหล็ก</td>\n",
              "    </tr>\n",
              "    <tr>\n",
              "      <th>5757</th>\n",
              "      <td>5758</td>\n",
              "      <td>23/12/2020</td>\n",
              "      <td>22/12/2020</td>\n",
              "      <td>ชาย</td>\n",
              "      <td>43.0</td>\n",
              "      <td>ปี</td>\n",
              "      <td>Thailand</td>\n",
              "      <td>กำแพงเพชร</td>\n",
              "      <td>Cluster สมุทรสาคร</td>\n",
              "      <td>กำแพงเพชร</td>\n",
              "      <td>ขาณุวรลักษบุรี</td>\n",
              "    </tr>\n",
              "    <tr>\n",
              "      <th>31649</th>\n",
              "      <td>31650</td>\n",
              "      <td>10/4/2021</td>\n",
              "      <td>9/4/2021</td>\n",
              "      <td>ชาย</td>\n",
              "      <td>40.0</td>\n",
              "      <td>ปี</td>\n",
              "      <td>Thailand</td>\n",
              "      <td>กำแพงเพชร</td>\n",
              "      <td>สัมผัสใกล้ชิดกับผู้ป่วยยืนยันรายก่อนหน้านี้</td>\n",
              "      <td>กำแพงเพชร</td>\n",
              "      <td>เมือง</td>\n",
              "    </tr>\n",
              "    <tr>\n",
              "      <th>31657</th>\n",
              "      <td>31658</td>\n",
              "      <td>10/4/2021</td>\n",
              "      <td>9/4/2021</td>\n",
              "      <td>ชาย</td>\n",
              "      <td>25.0</td>\n",
              "      <td>ปี</td>\n",
              "      <td>Thailand</td>\n",
              "      <td>กำแพงเพชร</td>\n",
              "      <td>สัมผัสใกล้ชิดกับผู้ป่วยยืนยันรายก่อนหน้านี้</td>\n",
              "      <td>กำแพงเพชร</td>\n",
              "      <td>เมือง</td>\n",
              "    </tr>\n",
              "    <tr>\n",
              "      <th>31716</th>\n",
              "      <td>31717</td>\n",
              "      <td>11/4/2021</td>\n",
              "      <td>10/4/2021</td>\n",
              "      <td>หญิง</td>\n",
              "      <td>31.0</td>\n",
              "      <td>ปี</td>\n",
              "      <td>Thailand</td>\n",
              "      <td>ประจวบคีรีขันธ์</td>\n",
              "      <td>สถานบันเทิง</td>\n",
              "      <td>กำแพงเพชร</td>\n",
              "      <td>คลองขลุง</td>\n",
              "    </tr>\n",
              "    <tr>\n",
              "      <th>...</th>\n",
              "      <td>...</td>\n",
              "      <td>...</td>\n",
              "      <td>...</td>\n",
              "      <td>...</td>\n",
              "      <td>...</td>\n",
              "      <td>...</td>\n",
              "      <td>...</td>\n",
              "      <td>...</td>\n",
              "      <td>...</td>\n",
              "      <td>...</td>\n",
              "      <td>...</td>\n",
              "    </tr>\n",
              "    <tr>\n",
              "      <th>503754</th>\n",
              "      <td>503755</td>\n",
              "      <td>26/7/2021</td>\n",
              "      <td>25/7/2021</td>\n",
              "      <td>หญิง</td>\n",
              "      <td>62.0</td>\n",
              "      <td>ปี</td>\n",
              "      <td>Thailand</td>\n",
              "      <td>ชลบุรี</td>\n",
              "      <td>อยู่ระหว่างการสอบสวน</td>\n",
              "      <td>ฉะเชิงเทรา</td>\n",
              "      <td>เมืองฉะเชิงเทรา</td>\n",
              "    </tr>\n",
              "    <tr>\n",
              "      <th>503764</th>\n",
              "      <td>503765</td>\n",
              "      <td>26/7/2021</td>\n",
              "      <td>25/7/2021</td>\n",
              "      <td>ชาย</td>\n",
              "      <td>67.0</td>\n",
              "      <td>ปี</td>\n",
              "      <td>Thailand</td>\n",
              "      <td>ชลบุรี</td>\n",
              "      <td>อื่นๆ</td>\n",
              "      <td>ฉะเชิงเทรา</td>\n",
              "      <td>บ้านโพธิ์</td>\n",
              "    </tr>\n",
              "    <tr>\n",
              "      <th>503765</th>\n",
              "      <td>503766</td>\n",
              "      <td>26/7/2021</td>\n",
              "      <td>25/7/2021</td>\n",
              "      <td>หญิง</td>\n",
              "      <td>38.0</td>\n",
              "      <td>ปี</td>\n",
              "      <td>Thailand</td>\n",
              "      <td>ชลบุรี</td>\n",
              "      <td>อื่นๆ</td>\n",
              "      <td>ฉะเชิงเทรา</td>\n",
              "      <td>บางปะกง</td>\n",
              "    </tr>\n",
              "    <tr>\n",
              "      <th>504738</th>\n",
              "      <td>504739</td>\n",
              "      <td>26/7/2021</td>\n",
              "      <td>25/7/2021</td>\n",
              "      <td>หญิง</td>\n",
              "      <td>27.0</td>\n",
              "      <td>ปี</td>\n",
              "      <td>Burmese</td>\n",
              "      <td>สมุทรปราการ</td>\n",
              "      <td>สัมผัสใกล้ชิดกับผู้ป่วยยืนยันรายก่อนหน้านี้</td>\n",
              "      <td>ฉะเชิงเทรา</td>\n",
              "      <td>เมืองฉะเชิงเทรา</td>\n",
              "    </tr>\n",
              "    <tr>\n",
              "      <th>505201</th>\n",
              "      <td>505202</td>\n",
              "      <td>26/7/2021</td>\n",
              "      <td>25/7/2021</td>\n",
              "      <td>หญิง</td>\n",
              "      <td>36.0</td>\n",
              "      <td>ปี</td>\n",
              "      <td>Thailand</td>\n",
              "      <td>สมุทรปราการ</td>\n",
              "      <td>อยู่ระหว่างการสอบสวน</td>\n",
              "      <td>ฉะเชิงเทรา</td>\n",
              "      <td>บางปะกง</td>\n",
              "    </tr>\n",
              "  </tbody>\n",
              "</table>\n",
              "<p>502350 rows × 11 columns</p>\n",
              "</div>"
            ],
            "text/plain": [
              "           No. announce_date  ... province_of_onset district_of_onset\n",
              "5838      5839    25/12/2020  ...              พม่า       ท่าขี้เหล็ก\n",
              "5757      5758    23/12/2020  ...         กำแพงเพชร    ขาณุวรลักษบุรี\n",
              "31649    31650     10/4/2021  ...         กำแพงเพชร             เมือง\n",
              "31657    31658     10/4/2021  ...         กำแพงเพชร             เมือง\n",
              "31716    31717     11/4/2021  ...         กำแพงเพชร          คลองขลุง\n",
              "...        ...           ...  ...               ...               ...\n",
              "503754  503755     26/7/2021  ...        ฉะเชิงเทรา   เมืองฉะเชิงเทรา\n",
              "503764  503765     26/7/2021  ...        ฉะเชิงเทรา         บ้านโพธิ์\n",
              "503765  503766     26/7/2021  ...        ฉะเชิงเทรา           บางปะกง\n",
              "504738  504739     26/7/2021  ...        ฉะเชิงเทรา   เมืองฉะเชิงเทรา\n",
              "505201  505202     26/7/2021  ...        ฉะเชิงเทรา           บางปะกง\n",
              "\n",
              "[502350 rows x 11 columns]"
            ]
          },
          "metadata": {
            "tags": []
          },
          "execution_count": 99
        }
      ]
    },
    {
      "cell_type": "code",
      "metadata": {
        "id": "RoCjzyCZVbAz",
        "colab": {
          "base_uri": "https://localhost:8080/",
          "height": 265
        },
        "outputId": "f65f3278-e9a9-4ebd-834d-e88bd35e2a0a"
      },
      "source": [
        "data_dict = plt.boxplot(data_cases2_nomissingage_nooutlier['age'])"
      ],
      "execution_count": null,
      "outputs": [
        {
          "output_type": "display_data",
          "data": {
            "image/png": "[encoded data removed]",
            "text/plain": [
              "<Figure size 432x288 with 1 Axes>"
            ]
          },
          "metadata": {
            "tags": [],
            "needs_background": "light"
          }
        }
      ]
    },
    {
      "cell_type": "markdown",
      "metadata": {
        "id": "u9vbFUT5Vvh1"
      },
      "source": [
        "ตัด outlier แบบ manual"
      ]
    },
    {
      "cell_type": "code",
      "metadata": {
        "id": "gHNP4YFlVa86"
      },
      "source": [
        ""
      ],
      "execution_count": null,
      "outputs": []
    },
    {
      "cell_type": "code",
      "metadata": {
        "id": "8BUeMmy8Qzgl",
        "colab": {
          "base_uri": "https://localhost:8080/",
          "height": 417
        },
        "outputId": "66fa339d-4dbf-4969-9c41-ed52d321758f"
      },
      "source": [
        "data_cases2_nomissingage[data_cases2_nomissingage['province_of_onset'] != 'ลอง']"
      ],
      "execution_count": null,
      "outputs": [
        {
          "output_type": "execute_result",
          "data": {
            "text/html": [
              "<div>\n",
              "<style scoped>\n",
              "    .dataframe tbody tr th:only-of-type {\n",
              "        vertical-align: middle;\n",
              "    }\n",
              "\n",
              "    .dataframe tbody tr th {\n",
              "        vertical-align: top;\n",
              "    }\n",
              "\n",
              "    .dataframe thead th {\n",
              "        text-align: right;\n",
              "    }\n",
              "</style>\n",
              "<table border=\"1\" class=\"dataframe\">\n",
              "  <thead>\n",
              "    <tr style=\"text-align: right;\">\n",
              "      <th></th>\n",
              "      <th>No.</th>\n",
              "      <th>announce_date</th>\n",
              "      <th>Notified date</th>\n",
              "      <th>sex</th>\n",
              "      <th>age</th>\n",
              "      <th>Unit</th>\n",
              "      <th>nationality</th>\n",
              "      <th>province_of_isolation</th>\n",
              "      <th>risk</th>\n",
              "      <th>province_of_onset</th>\n",
              "      <th>district_of_onset</th>\n",
              "    </tr>\n",
              "  </thead>\n",
              "  <tbody>\n",
              "    <tr>\n",
              "      <th>5838</th>\n",
              "      <td>5839</td>\n",
              "      <td>25/12/2020</td>\n",
              "      <td>24/12/2020</td>\n",
              "      <td>ชาย</td>\n",
              "      <td>33.0</td>\n",
              "      <td>ปี</td>\n",
              "      <td>Thailand</td>\n",
              "      <td>เชียงราย</td>\n",
              "      <td>ผู้ที่เดินทางมาจากต่างประเทศ และเข้า ASQ/ALQ</td>\n",
              "      <td>พม่า</td>\n",
              "      <td>ท่าขี้เหล็ก</td>\n",
              "    </tr>\n",
              "    <tr>\n",
              "      <th>5757</th>\n",
              "      <td>5758</td>\n",
              "      <td>23/12/2020</td>\n",
              "      <td>22/12/2020</td>\n",
              "      <td>ชาย</td>\n",
              "      <td>43.0</td>\n",
              "      <td>ปี</td>\n",
              "      <td>Thailand</td>\n",
              "      <td>กำแพงเพชร</td>\n",
              "      <td>Cluster สมุทรสาคร</td>\n",
              "      <td>กำแพงเพชร</td>\n",
              "      <td>ขาณุวรลักษบุรี</td>\n",
              "    </tr>\n",
              "    <tr>\n",
              "      <th>31649</th>\n",
              "      <td>31650</td>\n",
              "      <td>10/4/2021</td>\n",
              "      <td>9/4/2021</td>\n",
              "      <td>ชาย</td>\n",
              "      <td>40.0</td>\n",
              "      <td>ปี</td>\n",
              "      <td>Thailand</td>\n",
              "      <td>กำแพงเพชร</td>\n",
              "      <td>สัมผัสใกล้ชิดกับผู้ป่วยยืนยันรายก่อนหน้านี้</td>\n",
              "      <td>กำแพงเพชร</td>\n",
              "      <td>เมือง</td>\n",
              "    </tr>\n",
              "    <tr>\n",
              "      <th>31657</th>\n",
              "      <td>31658</td>\n",
              "      <td>10/4/2021</td>\n",
              "      <td>9/4/2021</td>\n",
              "      <td>ชาย</td>\n",
              "      <td>25.0</td>\n",
              "      <td>ปี</td>\n",
              "      <td>Thailand</td>\n",
              "      <td>กำแพงเพชร</td>\n",
              "      <td>สัมผัสใกล้ชิดกับผู้ป่วยยืนยันรายก่อนหน้านี้</td>\n",
              "      <td>กำแพงเพชร</td>\n",
              "      <td>เมือง</td>\n",
              "    </tr>\n",
              "    <tr>\n",
              "      <th>31716</th>\n",
              "      <td>31717</td>\n",
              "      <td>11/4/2021</td>\n",
              "      <td>10/4/2021</td>\n",
              "      <td>หญิง</td>\n",
              "      <td>31.0</td>\n",
              "      <td>ปี</td>\n",
              "      <td>Thailand</td>\n",
              "      <td>ประจวบคีรีขันธ์</td>\n",
              "      <td>สถานบันเทิง</td>\n",
              "      <td>กำแพงเพชร</td>\n",
              "      <td>คลองขลุง</td>\n",
              "    </tr>\n",
              "    <tr>\n",
              "      <th>...</th>\n",
              "      <td>...</td>\n",
              "      <td>...</td>\n",
              "      <td>...</td>\n",
              "      <td>...</td>\n",
              "      <td>...</td>\n",
              "      <td>...</td>\n",
              "      <td>...</td>\n",
              "      <td>...</td>\n",
              "      <td>...</td>\n",
              "      <td>...</td>\n",
              "      <td>...</td>\n",
              "    </tr>\n",
              "    <tr>\n",
              "      <th>503754</th>\n",
              "      <td>503755</td>\n",
              "      <td>26/7/2021</td>\n",
              "      <td>25/7/2021</td>\n",
              "      <td>หญิง</td>\n",
              "      <td>62.0</td>\n",
              "      <td>ปี</td>\n",
              "      <td>Thailand</td>\n",
              "      <td>ชลบุรี</td>\n",
              "      <td>อยู่ระหว่างการสอบสวน</td>\n",
              "      <td>ฉะเชิงเทรา</td>\n",
              "      <td>เมืองฉะเชิงเทรา</td>\n",
              "    </tr>\n",
              "    <tr>\n",
              "      <th>503764</th>\n",
              "      <td>503765</td>\n",
              "      <td>26/7/2021</td>\n",
              "      <td>25/7/2021</td>\n",
              "      <td>ชาย</td>\n",
              "      <td>67.0</td>\n",
              "      <td>ปี</td>\n",
              "      <td>Thailand</td>\n",
              "      <td>ชลบุรี</td>\n",
              "      <td>อื่นๆ</td>\n",
              "      <td>ฉะเชิงเทรา</td>\n",
              "      <td>บ้านโพธิ์</td>\n",
              "    </tr>\n",
              "    <tr>\n",
              "      <th>503765</th>\n",
              "      <td>503766</td>\n",
              "      <td>26/7/2021</td>\n",
              "      <td>25/7/2021</td>\n",
              "      <td>หญิง</td>\n",
              "      <td>38.0</td>\n",
              "      <td>ปี</td>\n",
              "      <td>Thailand</td>\n",
              "      <td>ชลบุรี</td>\n",
              "      <td>อื่นๆ</td>\n",
              "      <td>ฉะเชิงเทรา</td>\n",
              "      <td>บางปะกง</td>\n",
              "    </tr>\n",
              "    <tr>\n",
              "      <th>504738</th>\n",
              "      <td>504739</td>\n",
              "      <td>26/7/2021</td>\n",
              "      <td>25/7/2021</td>\n",
              "      <td>หญิง</td>\n",
              "      <td>27.0</td>\n",
              "      <td>ปี</td>\n",
              "      <td>Burmese</td>\n",
              "      <td>สมุทรปราการ</td>\n",
              "      <td>สัมผัสใกล้ชิดกับผู้ป่วยยืนยันรายก่อนหน้านี้</td>\n",
              "      <td>ฉะเชิงเทรา</td>\n",
              "      <td>เมืองฉะเชิงเทรา</td>\n",
              "    </tr>\n",
              "    <tr>\n",
              "      <th>505201</th>\n",
              "      <td>505202</td>\n",
              "      <td>26/7/2021</td>\n",
              "      <td>25/7/2021</td>\n",
              "      <td>หญิง</td>\n",
              "      <td>36.0</td>\n",
              "      <td>ปี</td>\n",
              "      <td>Thailand</td>\n",
              "      <td>สมุทรปราการ</td>\n",
              "      <td>อยู่ระหว่างการสอบสวน</td>\n",
              "      <td>ฉะเชิงเทรา</td>\n",
              "      <td>บางปะกง</td>\n",
              "    </tr>\n",
              "  </tbody>\n",
              "</table>\n",
              "<p>512616 rows × 11 columns</p>\n",
              "</div>"
            ],
            "text/plain": [
              "           No. announce_date  ... province_of_onset district_of_onset\n",
              "5838      5839    25/12/2020  ...              พม่า       ท่าขี้เหล็ก\n",
              "5757      5758    23/12/2020  ...         กำแพงเพชร    ขาณุวรลักษบุรี\n",
              "31649    31650     10/4/2021  ...         กำแพงเพชร             เมือง\n",
              "31657    31658     10/4/2021  ...         กำแพงเพชร             เมือง\n",
              "31716    31717     11/4/2021  ...         กำแพงเพชร          คลองขลุง\n",
              "...        ...           ...  ...               ...               ...\n",
              "503754  503755     26/7/2021  ...        ฉะเชิงเทรา   เมืองฉะเชิงเทรา\n",
              "503764  503765     26/7/2021  ...        ฉะเชิงเทรา         บ้านโพธิ์\n",
              "503765  503766     26/7/2021  ...        ฉะเชิงเทรา           บางปะกง\n",
              "504738  504739     26/7/2021  ...        ฉะเชิงเทรา   เมืองฉะเชิงเทรา\n",
              "505201  505202     26/7/2021  ...        ฉะเชิงเทรา           บางปะกง\n",
              "\n",
              "[512616 rows x 11 columns]"
            ]
          },
          "metadata": {
            "tags": []
          },
          "execution_count": 101
        }
      ]
    },
    {
      "cell_type": "code",
      "metadata": {
        "id": "DofUNxLhy5K0",
        "colab": {
          "base_uri": "https://localhost:8080/",
          "height": 417
        },
        "outputId": "ccf0b8de-f0b9-4eb4-e60b-3901f271407a"
      },
      "source": [
        "box_out_dict = data_cases2_nomissingage[data_cases2_nomissingage['province_of_onset'] != 'ลอง']\n",
        "box_out_dict"
      ],
      "execution_count": null,
      "outputs": [
        {
          "output_type": "execute_result",
          "data": {
            "text/html": [
              "<div>\n",
              "<style scoped>\n",
              "    .dataframe tbody tr th:only-of-type {\n",
              "        vertical-align: middle;\n",
              "    }\n",
              "\n",
              "    .dataframe tbody tr th {\n",
              "        vertical-align: top;\n",
              "    }\n",
              "\n",
              "    .dataframe thead th {\n",
              "        text-align: right;\n",
              "    }\n",
              "</style>\n",
              "<table border=\"1\" class=\"dataframe\">\n",
              "  <thead>\n",
              "    <tr style=\"text-align: right;\">\n",
              "      <th></th>\n",
              "      <th>No.</th>\n",
              "      <th>announce_date</th>\n",
              "      <th>Notified date</th>\n",
              "      <th>sex</th>\n",
              "      <th>age</th>\n",
              "      <th>Unit</th>\n",
              "      <th>nationality</th>\n",
              "      <th>province_of_isolation</th>\n",
              "      <th>risk</th>\n",
              "      <th>province_of_onset</th>\n",
              "      <th>district_of_onset</th>\n",
              "    </tr>\n",
              "  </thead>\n",
              "  <tbody>\n",
              "    <tr>\n",
              "      <th>5838</th>\n",
              "      <td>5839</td>\n",
              "      <td>25/12/2020</td>\n",
              "      <td>24/12/2020</td>\n",
              "      <td>ชาย</td>\n",
              "      <td>33.0</td>\n",
              "      <td>ปี</td>\n",
              "      <td>Thailand</td>\n",
              "      <td>เชียงราย</td>\n",
              "      <td>ผู้ที่เดินทางมาจากต่างประเทศ และเข้า ASQ/ALQ</td>\n",
              "      <td>พม่า</td>\n",
              "      <td>ท่าขี้เหล็ก</td>\n",
              "    </tr>\n",
              "    <tr>\n",
              "      <th>5757</th>\n",
              "      <td>5758</td>\n",
              "      <td>23/12/2020</td>\n",
              "      <td>22/12/2020</td>\n",
              "      <td>ชาย</td>\n",
              "      <td>43.0</td>\n",
              "      <td>ปี</td>\n",
              "      <td>Thailand</td>\n",
              "      <td>กำแพงเพชร</td>\n",
              "      <td>Cluster สมุทรสาคร</td>\n",
              "      <td>กำแพงเพชร</td>\n",
              "      <td>ขาณุวรลักษบุรี</td>\n",
              "    </tr>\n",
              "    <tr>\n",
              "      <th>31649</th>\n",
              "      <td>31650</td>\n",
              "      <td>10/4/2021</td>\n",
              "      <td>9/4/2021</td>\n",
              "      <td>ชาย</td>\n",
              "      <td>40.0</td>\n",
              "      <td>ปี</td>\n",
              "      <td>Thailand</td>\n",
              "      <td>กำแพงเพชร</td>\n",
              "      <td>สัมผัสใกล้ชิดกับผู้ป่วยยืนยันรายก่อนหน้านี้</td>\n",
              "      <td>กำแพงเพชร</td>\n",
              "      <td>เมือง</td>\n",
              "    </tr>\n",
              "    <tr>\n",
              "      <th>31657</th>\n",
              "      <td>31658</td>\n",
              "      <td>10/4/2021</td>\n",
              "      <td>9/4/2021</td>\n",
              "      <td>ชาย</td>\n",
              "      <td>25.0</td>\n",
              "      <td>ปี</td>\n",
              "      <td>Thailand</td>\n",
              "      <td>กำแพงเพชร</td>\n",
              "      <td>สัมผัสใกล้ชิดกับผู้ป่วยยืนยันรายก่อนหน้านี้</td>\n",
              "      <td>กำแพงเพชร</td>\n",
              "      <td>เมือง</td>\n",
              "    </tr>\n",
              "    <tr>\n",
              "      <th>31716</th>\n",
              "      <td>31717</td>\n",
              "      <td>11/4/2021</td>\n",
              "      <td>10/4/2021</td>\n",
              "      <td>หญิง</td>\n",
              "      <td>31.0</td>\n",
              "      <td>ปี</td>\n",
              "      <td>Thailand</td>\n",
              "      <td>ประจวบคีรีขันธ์</td>\n",
              "      <td>สถานบันเทิง</td>\n",
              "      <td>กำแพงเพชร</td>\n",
              "      <td>คลองขลุง</td>\n",
              "    </tr>\n",
              "    <tr>\n",
              "      <th>...</th>\n",
              "      <td>...</td>\n",
              "      <td>...</td>\n",
              "      <td>...</td>\n",
              "      <td>...</td>\n",
              "      <td>...</td>\n",
              "      <td>...</td>\n",
              "      <td>...</td>\n",
              "      <td>...</td>\n",
              "      <td>...</td>\n",
              "      <td>...</td>\n",
              "      <td>...</td>\n",
              "    </tr>\n",
              "    <tr>\n",
              "      <th>503754</th>\n",
              "      <td>503755</td>\n",
              "      <td>26/7/2021</td>\n",
              "      <td>25/7/2021</td>\n",
              "      <td>หญิง</td>\n",
              "      <td>62.0</td>\n",
              "      <td>ปี</td>\n",
              "      <td>Thailand</td>\n",
              "      <td>ชลบุรี</td>\n",
              "      <td>อยู่ระหว่างการสอบสวน</td>\n",
              "      <td>ฉะเชิงเทรา</td>\n",
              "      <td>เมืองฉะเชิงเทรา</td>\n",
              "    </tr>\n",
              "    <tr>\n",
              "      <th>503764</th>\n",
              "      <td>503765</td>\n",
              "      <td>26/7/2021</td>\n",
              "      <td>25/7/2021</td>\n",
              "      <td>ชาย</td>\n",
              "      <td>67.0</td>\n",
              "      <td>ปี</td>\n",
              "      <td>Thailand</td>\n",
              "      <td>ชลบุรี</td>\n",
              "      <td>อื่นๆ</td>\n",
              "      <td>ฉะเชิงเทรา</td>\n",
              "      <td>บ้านโพธิ์</td>\n",
              "    </tr>\n",
              "    <tr>\n",
              "      <th>503765</th>\n",
              "      <td>503766</td>\n",
              "      <td>26/7/2021</td>\n",
              "      <td>25/7/2021</td>\n",
              "      <td>หญิง</td>\n",
              "      <td>38.0</td>\n",
              "      <td>ปี</td>\n",
              "      <td>Thailand</td>\n",
              "      <td>ชลบุรี</td>\n",
              "      <td>อื่นๆ</td>\n",
              "      <td>ฉะเชิงเทรา</td>\n",
              "      <td>บางปะกง</td>\n",
              "    </tr>\n",
              "    <tr>\n",
              "      <th>504738</th>\n",
              "      <td>504739</td>\n",
              "      <td>26/7/2021</td>\n",
              "      <td>25/7/2021</td>\n",
              "      <td>หญิง</td>\n",
              "      <td>27.0</td>\n",
              "      <td>ปี</td>\n",
              "      <td>Burmese</td>\n",
              "      <td>สมุทรปราการ</td>\n",
              "      <td>สัมผัสใกล้ชิดกับผู้ป่วยยืนยันรายก่อนหน้านี้</td>\n",
              "      <td>ฉะเชิงเทรา</td>\n",
              "      <td>เมืองฉะเชิงเทรา</td>\n",
              "    </tr>\n",
              "    <tr>\n",
              "      <th>505201</th>\n",
              "      <td>505202</td>\n",
              "      <td>26/7/2021</td>\n",
              "      <td>25/7/2021</td>\n",
              "      <td>หญิง</td>\n",
              "      <td>36.0</td>\n",
              "      <td>ปี</td>\n",
              "      <td>Thailand</td>\n",
              "      <td>สมุทรปราการ</td>\n",
              "      <td>อยู่ระหว่างการสอบสวน</td>\n",
              "      <td>ฉะเชิงเทรา</td>\n",
              "      <td>บางปะกง</td>\n",
              "    </tr>\n",
              "  </tbody>\n",
              "</table>\n",
              "<p>512616 rows × 11 columns</p>\n",
              "</div>"
            ],
            "text/plain": [
              "           No. announce_date  ... province_of_onset district_of_onset\n",
              "5838      5839    25/12/2020  ...              พม่า       ท่าขี้เหล็ก\n",
              "5757      5758    23/12/2020  ...         กำแพงเพชร    ขาณุวรลักษบุรี\n",
              "31649    31650     10/4/2021  ...         กำแพงเพชร             เมือง\n",
              "31657    31658     10/4/2021  ...         กำแพงเพชร             เมือง\n",
              "31716    31717     11/4/2021  ...         กำแพงเพชร          คลองขลุง\n",
              "...        ...           ...  ...               ...               ...\n",
              "503754  503755     26/7/2021  ...        ฉะเชิงเทรา   เมืองฉะเชิงเทรา\n",
              "503764  503765     26/7/2021  ...        ฉะเชิงเทรา         บ้านโพธิ์\n",
              "503765  503766     26/7/2021  ...        ฉะเชิงเทรา           บางปะกง\n",
              "504738  504739     26/7/2021  ...        ฉะเชิงเทรา   เมืองฉะเชิงเทรา\n",
              "505201  505202     26/7/2021  ...        ฉะเชิงเทรา           บางปะกง\n",
              "\n",
              "[512616 rows x 11 columns]"
            ]
          },
          "metadata": {
            "tags": []
          },
          "execution_count": 108
        }
      ]
    },
    {
      "cell_type": "markdown",
      "metadata": {
        "id": "eaPEFv9LV1We"
      },
      "source": [
        "# Quiz 5\n",
        "\n",
        "เขียนฟังก์ชั่น คำนวณหา Q1,Q2,Q3,IQR,min,max โดยรับ input เป็น output ของ boxplot\n",
        "\n",
        "\n",
        "\n",
        "```python\n",
        "def box_vals(box_out_dict):\n",
        "    #your codel\n",
        "    .\n",
        "    .\n",
        "    .\n",
        "    #your codex\n",
        "    return q1,q2,q3,ipr,vmin,vmax"
      ]
    },
    {
      "cell_type": "code",
      "metadata": {
        "id": "-TQdXkOoV4wU"
      },
      "source": [
        "def box_vals(box_out_dict):\n",
        "    q1 = data_dict['boxes'][0].get_ydata()[0]\n",
        "    q2 = data_dict['boxes'][0].get_ydata()[1]\n",
        "    q3 = data_dict['boxes'][0].get_ydata()[2]\n",
        "    iqr = q3-q1\n",
        "    vmin = min(data_dict['boxes'][0].get_ydata())\n",
        "    vmax = max(data_dict['boxes'][0].get_ydata())\n",
        "    return  print(f'Q1 เท่ากับ {q1}\\nQ2 เท่ากับ {q2}\\nQ3 เท่ากับ {q3}\\nIQR เท่ากับ {iqr}\\nMin เท่ากับ {vmin}\\nMax เท่ากับ {vmax}')"
      ],
      "execution_count": null,
      "outputs": []
    },
    {
      "cell_type": "code",
      "metadata": {
        "id": "7CxtQ62Ex6R5",
        "colab": {
          "base_uri": "https://localhost:8080/"
        },
        "outputId": "38b8455b-38e7-4d4e-8ac2-9ece144249f5"
      },
      "source": [
        "box_vals(box_out_dict)"
      ],
      "execution_count": null,
      "outputs": [
        {
          "output_type": "stream",
          "text": [
            "Q1 เท่ากับ 25.0\n",
            "Q2 เท่ากับ 25.0\n",
            "Q3 เท่ากับ 43.0\n",
            "IQR เท่ากับ 18.0\n",
            "Min เท่ากับ 25.0\n",
            "Max เท่ากับ 43.0\n"
          ],
          "name": "stdout"
        }
      ]
    }
  ]
}